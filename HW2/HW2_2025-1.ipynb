{
 "cells": [
  {
   "cell_type": "markdown",
   "metadata": {
    "id": "_y3XpY_hw1hb"
   },
   "source": [
    "# ECE 689, Spring 2025\n",
    "## Homework 2\n",
    "\n",
    "## Full name: "
   ]
  },
  {
   "cell_type": "markdown",
   "metadata": {},
   "source": [
    "Please submit the homework as pdf file."
   ]
  },
  {
   "cell_type": "markdown",
   "metadata": {
    "id": "pbqTTFeww1hf"
   },
   "source": [
    "## Imports and Datasets"
   ]
  },
  {
   "cell_type": "code",
   "execution_count": 1,
   "metadata": {
    "id": "3lEjedRvw1hf"
   },
   "outputs": [],
   "source": [
    "# Import some useful packages, please edit as needed\n",
    "\n",
    "import numpy as np \n",
    "import matplotlib.pyplot as plt  \n",
    "import torch\n",
    "import torch.optim as optim\n",
    "import torch.nn as nn\n",
    "import torch.nn.functional as F\n",
    "import torchvision\n",
    "import copy\n",
    "\n",
    "%matplotlib inline"
   ]
  },
  {
   "cell_type": "code",
   "execution_count": 2,
   "metadata": {
    "id": "bSLBTZOww1hh"
   },
   "outputs": [],
   "source": [
    "device = torch.device('cuda' if torch.cuda.is_available() else 'cpu')"
   ]
  },
  {
   "cell_type": "code",
   "execution_count": null,
   "metadata": {},
   "outputs": [],
   "source": [
    "# Import some datasets, please plot to make sure it works\n",
    "\n",
    "\n",
    "# load swiss roll\n",
    "\n",
    "# Load IHDP\n",
    "from causalforge.data_loader import DataLoader\n",
    "\n",
    "r = DataLoader.get_loader('IHDP').load()\n",
    "X_tr, T_tr, YF_tr, YCF_tr, mu_0_tr, mu_1_tr, X_te, T_te, YF_te, YCF_te, mu_0_te, mu_1_te = r\n",
    "\n"
   ]
  },
  {
   "cell_type": "markdown",
   "metadata": {},
   "source": [
    "## Question 1: Score-Based Generative Model with Sliced Score Matching on MNIST"
   ]
  },
  {
   "cell_type": "markdown",
   "metadata": {},
   "source": [
    "(A helpful website: https://github.com/mfkasim1/score-based-tutorial/blob/main/01-SGM-without-SDE.ipynb)"
   ]
  },
  {
   "cell_type": "code",
   "execution_count": null,
   "metadata": {},
   "outputs": [],
   "source": [
    "\"\"\" Data Preparation \"\"\"\n",
    "\n",
    "# import the necessary library to load the swiss roll dataset\n",
    "\n",
    "\n",
    "# Load the Swiss Roll dataset\n",
    "train_dataset = ...\n",
    "test_dataset = ...\n",
    "\n",
    "# DataLoader\n",
    "train_loader = DataLoader(train_dataset, batch_size=64, shuffle=True)\n",
    "test_loader = DataLoader(test_dataset, batch_size=64, shuffle=False)\n"
   ]
  },
  {
   "cell_type": "code",
   "execution_count": null,
   "metadata": {},
   "outputs": [],
   "source": [
    "\"\"\" Model Architecture \"\"\"\n",
    "# score_network takes input of Swiss Roll image dimension and returns the output of\n",
    "# the same size, socre network usually follows the structure of U-Net\n",
    "class scoreNet(nn.Module):\n",
    "    def __init__(self):\n",
    "        super(scoreNet, self).__init__()\n",
    "        \"\"\"YOUR CODE\"\"\"\n",
    "\n",
    "\n",
    "    def forward(self, x):\n",
    "        return"
   ]
  },
  {
   "cell_type": "code",
   "execution_count": null,
   "metadata": {},
   "outputs": [],
   "source": [
    "\"\"\"Sliced Score Matching\"\"\"\n",
    "# Implement the sliced score matching function, as illustrated in sldes 26-28\n",
    "# of lectur 4 of Teaching Staff Lecture Slides\n"
   ]
  },
  {
   "cell_type": "code",
   "execution_count": null,
   "metadata": {},
   "outputs": [],
   "source": [
    "\"\"\"Training\"\"\"\n",
    "import time\n",
    "opt = torch.optim.Adam(score_network.parameters(), lr=3e-4)\n",
    "\n",
    "t0 = time.time()\n",
    "for i_epoch in range(5000):\n",
    "    total_loss = 0\n",
    "    for data, in train_loader:\n",
    "        opt.zero_grad()\n",
    "\n",
    "        # training step\n",
    "        loss = calc_loss(scoreNet, data)\n",
    "        loss.backward()\n",
    "        opt.step()\n",
    "\n",
    "        # running stats\n",
    "        total_loss = total_loss + loss.detach().item() * data.shape[0]\n",
    "\n",
    "    # print the training stats\n",
    "    if i_epoch % 500 == 0:\n",
    "        print(f\"{i_epoch} ({time.time() - t0}s): {total_loss / len(dset)}\")"
   ]
  },
  {
   "cell_type": "code",
   "execution_count": null,
   "metadata": {},
   "outputs": [],
   "source": [
    "# define the ULA algorithm:\n"
   ]
  },
  {
   "cell_type": "code",
   "execution_count": null,
   "metadata": {},
   "outputs": [],
   "source": [
    "\"\"\"Evaluation and Generation\"\"\"\n",
    "# Sample 1000 points from the swiss roll dataset and plot them in a 3 dimensional figure."
   ]
  },
  {
   "cell_type": "markdown",
   "metadata": {},
   "source": [
    "For this question, I worked with:\n",
    "\n",
    "- (name, remark)\n",
    "- (name, remark)\n",
    "\n",
    "For this question, I referenced a few sites/ papers/ github repositories, especially:\n",
    "\n",
    "- (remark, link)\n",
    "- (remark, link)\n",
    "- (remark, link)\n",
    "- ...\n",
    "\n",
    "I spent ... amount of time, I have some suggestions ..."
   ]
  },
  {
   "cell_type": "markdown",
   "metadata": {},
   "source": [
    "## Question 2: Chow-Liu Algorithm\n",
    "\n",
    "Reference: \n",
    "- https://pgmpy.org/examples/Structure%20Learning%20with%20Chow-Liu.html\n",
    "- https://github.com/JohnReid/pybool/blob/master/python/pybool/chow_liu_trees.py\n"
   ]
  },
  {
   "cell_type": "code",
   "execution_count": null,
   "metadata": {},
   "outputs": [],
   "source": [
    "# Bayesian Model\n",
    "# Write your code here\n",
    "\n",
    "\n"
   ]
  },
  {
   "cell_type": "code",
   "execution_count": null,
   "metadata": {},
   "outputs": [],
   "source": [
    "# Chow-Liu algorithm\n",
    "# Write your code \n"
   ]
  },
  {
   "cell_type": "markdown",
   "metadata": {},
   "source": [
    "For this question, I worked with:\n",
    "\n",
    "- (name, remark)\n",
    "- (name, remark)\n",
    "\n",
    "For this question, I referenced a few sites/ papers/ github repositories, especially:\n",
    "\n",
    "- (remark, link)\n",
    "- (remark, link)\n",
    "- (remark, link)\n",
    "- ...\n",
    "\n",
    "I spent ... amount of time, I have some suggestions ..."
   ]
  },
  {
   "cell_type": "markdown",
   "metadata": {
    "id": "nCKUlYQ0w1hk",
    "tags": []
   },
   "source": [
    "## Question 3: TARNet\n",
    "\n",
    "Reference: https://github.com/oddrose/cfrnet"
   ]
  },
  {
   "cell_type": "code",
   "execution_count": null,
   "metadata": {},
   "outputs": [],
   "source": [
    "# TARNet Model\n",
    "# Write your code here\n",
    "\n"
   ]
  },
  {
   "cell_type": "code",
   "execution_count": null,
   "metadata": {},
   "outputs": [],
   "source": [
    "# Wassertein distance from the Geomloss library using sinkhorn\n",
    "import torch\n",
    "from geomloss import SamplesLoss\n",
    "\n",
    "# Define a Sinkhorn (~Wasserstein-1) loss between sampled measures\n",
    "wasserstein_distance = SamplesLoss(loss=\"sinkhorn\", p=1, blur=.05)\n",
    "\n",
    "# check this link for details on w1 implementation: https://www.kernel-operations.io/geomloss/\n",
    "# \n"
   ]
  },
  {
   "cell_type": "markdown",
   "metadata": {},
   "source": [
    "For this question, I worked with:\n",
    "\n",
    "- (name, remark)\n",
    "- (name, remark)\n",
    "\n",
    "For this question, I referenced a few sites/ papers/ github repositories, especially:\n",
    "\n",
    "- (remark, link)\n",
    "- (remark, link)\n",
    "- (remark, link)\n",
    "- ...\n",
    "\n",
    "I spent ... amount of time, I have some suggestions ..."
   ]
  },
  {
   "cell_type": "markdown",
   "metadata": {},
   "source": [
    "If you are interested in the above, start thinking about presentation topics and talk to Vahid. <br>\n",
    "If you are interested in something later on in the class, skim through the slides, also start thinking about presentation topics and talk to Vahid."
   ]
  }
 ],
 "metadata": {
  "accelerator": "GPU",
  "colab": {
   "collapsed_sections": [],
   "name": "HW1_Template_ECE590_Spring2022.ipynb",
   "provenance": []
  },
  "kernelspec": {
   "display_name": "Python 3",
   "language": "python",
   "name": "python3"
  },
  "language_info": {
   "codemirror_mode": {
    "name": "ipython",
    "version": 3
   },
   "file_extension": ".py",
   "mimetype": "text/x-python",
   "name": "python",
   "nbconvert_exporter": "python",
   "pygments_lexer": "ipython3",
   "version": "3.8.3"
  }
 },
 "nbformat": 4,
 "nbformat_minor": 1
}
