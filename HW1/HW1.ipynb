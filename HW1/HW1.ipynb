{
 "cells": [
  {
   "cell_type": "markdown",
   "metadata": {
    "id": "_y3XpY_hw1hb"
   },
   "source": [
    "# ECE 689, Spring 2025\n",
    "## Homework 1\n",
    "\n",
    "## Full name:\n",
    "## NetID:"
   ]
  },
  {
   "cell_type": "markdown",
   "metadata": {
    "id": "81zydQuegzi-"
   },
   "source": [
    "Please submit the homework as pdf file."
   ]
  },
  {
   "cell_type": "markdown",
   "metadata": {
    "id": "pbqTTFeww1hf"
   },
   "source": [
    "## Imports and Datasets"
   ]
  },
  {
   "cell_type": "code",
   "execution_count": null,
   "metadata": {
    "id": "3lEjedRvw1hf"
   },
   "outputs": [],
   "source": [
    "# Import some useful packages, please edit as needed\n",
    "\n",
    "import numpy as np\n",
    "import matplotlib.pyplot as plt\n",
    "import torch\n",
    "import torch.optim as optim\n",
    "import torch.nn as nn\n",
    "import torch.nn.functional as F\n",
    "import torchvision\n",
    "import copy\n",
    "import normflows as nf\n",
    "\n",
    "from torch.distributions.multivariate_normal import MultivariateNormal\n",
    "\n",
    "from torch.utils.tensorboard import SummaryWriter\n",
    "\n",
    "%matplotlib inline"
   ]
  },
  {
   "cell_type": "code",
   "execution_count": null,
   "metadata": {
    "id": "bSLBTZOww1hh",
    "outputId": "55e8172b-b68f-4234-df12-7ccf4419a61d"
   },
   "outputs": [
    {
     "name": "stdout",
     "output_type": "stream",
     "text": [
      "mps\n"
     ]
    }
   ],
   "source": [
    "if torch.cuda.is_available():\n",
    "    device = torch.device('cuda')\n",
    "elif torch.mps.is_available():\n",
    "    device = torch.device('mps')\n",
    "else:\n",
    "    device = torch.device('cpu')\n",
    "\n",
    "print(device)"
   ]
  },
  {
   "cell_type": "code",
   "execution_count": null,
   "metadata": {
    "id": "z4I-wicRgzi_"
   },
   "outputs": [],
   "source": [
    "# Import some datasets, please plot to make sure it works\n",
    "\n",
    "from sklearn.datasets import make_circles, make_moons\n",
    "\n",
    "# ds_KMIST = torchvision.datasets.KMNIST('KMNIST/raw/train-images-idx3-ubyte', train=True, download=True,\n",
    "#                                        transform=torchvision.transforms.Compose([\n",
    "#                                            torchvision.transforms.Resize(16),\n",
    "#                                            torchvision.transforms.ToTensor()]))\n",
    "ds_USPS  = torchvision.datasets.USPS('USPS', train=True, download=True,\n",
    "                                     transform=torchvision.transforms.Compose([\n",
    "                                         torchvision.transforms.Resize(16),\n",
    "                                         torchvision.transforms.ToTensor()]))\n"
   ]
  },
  {
   "cell_type": "code",
   "execution_count": null,
   "metadata": {
    "id": "KV6ElucMgzjA"
   },
   "outputs": [],
   "source": [
    "# Make some datasets, please plot to make sure it works\n",
    "\n",
    "from sklearn.mixture import GaussianMixture\n",
    "\n",
    "# some github repos may already have this code,\n",
    "# do anything fancy e.g. 3 x 3 Gaussians or Gaussians in a circle like a donut"
   ]
  },
  {
   "cell_type": "markdown",
   "metadata": {
    "id": "O-ATCb5dgzjA"
   },
   "source": [
    "For this question, I worked with:\n",
    "\n",
    "- (name, remark)\n",
    "- (name, remark)\n",
    "\n",
    "For this question, I referenced a few sites/ papers/ github repositories, especially:\n",
    "\n",
    "- (remark, link)\n",
    "- (remark, link)\n",
    "- (remark, link)\n",
    "- ...\n",
    "\n",
    "I spent ... amount of time, I have some suggestions ..."
   ]
  },
  {
   "cell_type": "markdown",
   "metadata": {
    "id": "nCKUlYQ0w1hk",
    "tags": []
   },
   "source": [
    "## Question 1: Normalizing Flows\n",
    "\n",
    "- Select a coupling Normalizing Flow and an autoregressive Normalizing Flow (NF).\n",
    "- Apply the NF models to MNIST dataset.\n",
    "- You can resize the MNIST images to 7 × 7 pixels to reduce computational complexity.\n",
    "\n",
    "Some github repositories:\n",
    "- https://github.com/zhongyuchen/generative-models\n",
    "- https://github.com/kamenbliznashki/normalizing_flows\n",
    "- https://github.com/karpathy/pytorch-normalizing-flows\n",
    "- https://github.com/VincentStimper/normalizing-flows\n",
    "- remember to list these references below if you use them!\n",
    "- if you find some other references, do share too!"
   ]
  },
  {
   "cell_type": "markdown",
   "metadata": {
    "id": "nLjcCQq7gzjA"
   },
   "source": [
    "For this question, I worked with:\n",
    "\n",
    "- (name, remark)\n",
    "- (name, remark)\n",
    "\n",
    "For this question, I referenced a few sites/ papers/ github repositories, especially:\n",
    "\n",
    "- (remark, link)\n",
    "- (remark, link)\n",
    "- (remark, link)\n",
    "- ...\n",
    "\n",
    "I spent ... amount of time, I have some suggestions ..."
   ]
  },
  {
   "cell_type": "code",
   "execution_count": null,
   "metadata": {
    "id": "E4bzcfBfgzjB"
   },
   "outputs": [],
   "source": [
    "import torch\n",
    "import torchvision\n",
    "from torch.utils.data import DataLoader\n",
    "\n",
    "# Device configuration\n",
    "device = torch.device('cuda' if torch.cuda.is_available() else 'cpu')\n",
    "\n",
    "# Define transformations\n",
    "transform_train = torchvision.transforms.Compose([\n",
    "    torchvision.transforms.Resize(8),\n",
    "    torchvision.transforms.ToTensor(),\n",
    "    # Add Gaussian noise for dequantization\n",
    "    # torchvision.transforms.Lambda(lambda x: x + 0.1 * torch.randn_like(x)),\n",
    "    nf.utils.Scale(255. / 256.), nf.utils.Jitter(1 / 256.)\n",
    "])\n",
    "\n",
    "transform_test = torchvision.transforms.Compose([\n",
    "    torchvision.transforms.Resize(8),\n",
    "    torchvision.transforms.ToTensor(),\n",
    "    # torchvision.transforms.Lambda(lambda x: x + 0.1 * torch.randn_like(x)),\n",
    "    nf.utils.Scale(255. / 256.), nf.utils.Jitter(1 / 256.),\n",
    "])\n",
    "\n",
    "# Load MNIST datasets\n",
    "ds_MNIST_train = torchvision.datasets.MNIST(\n",
    "    root='MNIST',\n",
    "    train=True,\n",
    "    download=True,\n",
    "    transform=transform_train\n",
    ")\n",
    "\n",
    "ds_MNIST_test = torchvision.datasets.MNIST(\n",
    "    root='MNIST',\n",
    "    train=False,\n",
    "    download=True,\n",
    "    transform=transform_test\n",
    ")\n",
    "\n",
    "# DataLoader setup\n",
    "batch_size = 256\n",
    "train_loader = DataLoader(ds_MNIST_train, batch_size=batch_size, shuffle=True)\n",
    "test_loader = DataLoader(ds_MNIST_test, batch_size=batch_size, shuffle=False)"
   ]
  },
  {
   "cell_type": "code",
   "execution_count": null,
   "metadata": {
    "id": "MwGm8GtjgzjB"
   },
   "outputs": [],
   "source": [
    "# Set up model\n",
    "\n",
    "# Define flows\n",
    "L = 3\n",
    "K = 16\n",
    "torch.manual_seed(0)\n",
    "\n",
    "input_shape = next(iter(train_loader))[0].shape[1:]\n",
    "n_dims = np.prod(input_shape)\n",
    "channels = 1\n",
    "hidden_channels = 64\n",
    "split_mode = 'channel'\n",
    "scale = True\n",
    "num_classes = 10\n",
    "\n",
    "# Set up flows, distributions and merge operations\n",
    "q0 = []\n",
    "merges = []\n",
    "flows = []\n",
    "for i in range(L):\n",
    "    flows_ = []\n",
    "    for j in range(K):\n",
    "        flows_ += [nf.flows.GlowBlock(channels * 2 ** (L + 1 - i), hidden_channels,\n",
    "                                     split_mode=split_mode, scale=scale)]\n",
    "    flows_ += [nf.flows.Squeeze()]\n",
    "    flows += [flows_]\n",
    "    if i > 0:\n",
    "        merges += [nf.flows.Merge()]\n",
    "        latent_shape = (input_shape[0] * 2 ** (L - i), input_shape[1] // 2 ** (L - i),\n",
    "                        input_shape[2] // 2 ** (L - i))\n",
    "    else:\n",
    "        latent_shape = (input_shape[0] * 2 ** (L + 1), input_shape[1] // 2 ** L,\n",
    "                        input_shape[2] // 2 ** L)\n",
    "    q0 += [nf.distributions.ClassCondDiagGaussian(latent_shape, num_classes)]\n",
    "\n",
    "\n",
    "# Construct flow model with the multiscale architecture\n",
    "flow = nf.MultiscaleFlow(q0, flows, merges)\n",
    "\n"
   ]
  },
  {
   "cell_type": "code",
   "execution_count": null,
   "metadata": {
    "id": "qW_qHQ9DgzjB",
    "outputId": "042b926c-fcee-4405-ae31-31d66a107b6f"
   },
   "outputs": [
    {
     "name": "stdout",
     "output_type": "stream",
     "text": [
      "Epoch: 0, Step: 0, Loss: -30.4336\n",
      "Epoch: 0, Step: 100, Loss: -118.7712\n",
      "Epoch: 0, Step: 200, Loss: -150.1833\n",
      "Epoch: 0, Loss: -173.6916\n",
      "Epoch: 0, Train Loss: -129.6147\n",
      "Epoch: 0, Train Loss: -129.6147, Validation Loss: -166.4514\n",
      "Model checkpoint saved.\n",
      "Epoch: 1, Step: 300, Loss: -177.4240\n",
      "Epoch: 1, Step: 400, Loss: -178.7727\n",
      "Epoch: 1, Loss: -188.8037\n",
      "Epoch: 1, Train Loss: -176.9016\n",
      "Epoch: 1, Train Loss: -176.9016, Validation Loss: -184.3932\n",
      "Model checkpoint saved.\n",
      "Epoch: 2, Step: 500, Loss: -187.3967\n",
      "Epoch: 2, Step: 600, Loss: -189.1902\n",
      "Epoch: 2, Step: 700, Loss: -196.8795\n",
      "Epoch: 2, Loss: -186.2093\n",
      "Epoch: 2, Train Loss: -189.2937\n",
      "Epoch: 2, Train Loss: -189.2937, Validation Loss: -184.0467\n",
      "Epoch: 3, Step: 800, Loss: -197.3248\n",
      "Epoch: 3, Step: 900, Loss: -196.1858\n",
      "Epoch: 3, Loss: -192.0268\n",
      "Epoch: 3, Train Loss: -194.8040\n",
      "Epoch: 3, Train Loss: -194.8040, Validation Loss: -196.7183\n",
      "Model checkpoint saved.\n",
      "Epoch: 4, Step: 1000, Loss: -194.6285\n",
      "Epoch: 4, Step: 1100, Loss: -201.1215\n",
      "Epoch: 4, Loss: -193.1299\n",
      "Epoch: 4, Train Loss: -197.8501\n",
      "Epoch: 4, Train Loss: -197.8501, Validation Loss: -200.0926\n",
      "Model checkpoint saved.\n",
      "Epoch: 5, Step: 1200, Loss: -197.8446\n",
      "Epoch: 5, Step: 1300, Loss: -205.5250\n",
      "Epoch: 5, Step: 1400, Loss: -203.8880\n",
      "Epoch: 5, Loss: -202.1534\n",
      "Epoch: 5, Train Loss: -201.6802\n",
      "Epoch: 5, Train Loss: -201.6802, Validation Loss: -201.7392\n",
      "Model checkpoint saved.\n",
      "Epoch: 6, Step: 1500, Loss: -201.3602\n",
      "Epoch: 6, Step: 1600, Loss: -207.4678\n",
      "Epoch: 6, Loss: -202.9137\n",
      "Epoch: 6, Train Loss: -203.4040\n",
      "Epoch: 6, Train Loss: -203.4040, Validation Loss: -203.2499\n",
      "Model checkpoint saved.\n",
      "Epoch: 7, Step: 1700, Loss: -206.5884\n",
      "Epoch: 7, Step: 1800, Loss: -206.5603\n",
      "Epoch: 7, Loss: -209.1843\n",
      "Epoch: 7, Train Loss: -205.0665\n",
      "Epoch: 7, Train Loss: -205.0665, Validation Loss: -204.8705\n",
      "Model checkpoint saved.\n",
      "Epoch: 8, Step: 1900, Loss: -208.8689\n",
      "Epoch: 8, Step: 2000, Loss: -205.8701\n",
      "Epoch: 8, Step: 2100, Loss: -206.0602\n",
      "Epoch: 8, Loss: -211.0242\n",
      "Epoch: 8, Train Loss: -206.3227\n",
      "Epoch: 8, Train Loss: -206.3227, Validation Loss: -206.9844\n",
      "Model checkpoint saved.\n",
      "Epoch: 9, Step: 2200, Loss: -206.6166\n",
      "Epoch: 9, Step: 2300, Loss: -205.0459\n",
      "Epoch: 9, Loss: -208.5231\n",
      "Epoch: 9, Train Loss: -207.7864\n",
      "Epoch: 9, Train Loss: -207.7864, Validation Loss: -208.1896\n",
      "Model checkpoint saved.\n",
      "Epoch: 10, Step: 2400, Loss: -212.6918\n",
      "Epoch: 10, Step: 2500, Loss: -215.3092\n",
      "Epoch: 10, Loss: -214.4805\n",
      "Epoch: 10, Train Loss: -211.6622\n",
      "Epoch: 10, Train Loss: -211.6622, Validation Loss: -211.4676\n",
      "Model checkpoint saved.\n",
      "Epoch: 11, Step: 2600, Loss: -214.0778\n",
      "Epoch: 11, Step: 2700, Loss: -212.5542\n",
      "Epoch: 11, Step: 2800, Loss: -214.3839\n",
      "Epoch: 11, Loss: -213.1314\n",
      "Epoch: 11, Train Loss: -211.9388\n",
      "Epoch: 11, Train Loss: -211.9388, Validation Loss: -211.0812\n",
      "Epoch: 12, Step: 2900, Loss: -213.2428\n",
      "Epoch: 12, Step: 3000, Loss: -211.5458\n",
      "Epoch: 12, Loss: -215.2644\n",
      "Epoch: 12, Train Loss: -212.2054\n",
      "Epoch: 12, Train Loss: -212.2054, Validation Loss: -211.5609\n",
      "Model checkpoint saved.\n",
      "Epoch: 13, Step: 3100, Loss: -212.9878\n",
      "Epoch: 13, Step: 3200, Loss: -210.4866\n",
      "Epoch: 13, Loss: -212.7556\n",
      "Epoch: 13, Train Loss: -212.7164\n",
      "Epoch: 13, Train Loss: -212.7164, Validation Loss: -211.5856\n",
      "Model checkpoint saved.\n",
      "Epoch: 14, Step: 3300, Loss: -207.2045\n",
      "Epoch: 14, Step: 3400, Loss: -216.9945\n",
      "Epoch: 14, Step: 3500, Loss: -217.0928\n",
      "Epoch: 14, Loss: -212.0927\n",
      "Epoch: 14, Train Loss: -213.0416\n",
      "Epoch: 14, Train Loss: -213.0416, Validation Loss: -212.1180\n",
      "Model checkpoint saved.\n",
      "Epoch: 15, Step: 3600, Loss: -212.7454\n",
      "Epoch: 15, Step: 3700, Loss: -213.3412\n",
      "Epoch: 15, Loss: -214.8308\n",
      "Epoch: 15, Train Loss: -213.3686\n",
      "Epoch: 15, Train Loss: -213.3686, Validation Loss: -213.1801\n",
      "Model checkpoint saved.\n",
      "Epoch: 16, Step: 3800, Loss: -214.6550\n",
      "Epoch: 16, Step: 3900, Loss: -215.1533\n",
      "Epoch: 16, Loss: -213.0497\n",
      "Epoch: 16, Train Loss: -213.4560\n",
      "Epoch: 16, Train Loss: -213.4560, Validation Loss: -211.6191\n",
      "Epoch: 17, Step: 4000, Loss: -214.6118\n",
      "Epoch: 17, Step: 4100, Loss: -214.3782\n",
      "Epoch: 17, Step: 4200, Loss: -217.0387\n",
      "Epoch: 17, Loss: -215.5828\n",
      "Epoch: 17, Train Loss: -213.9179\n",
      "Epoch: 17, Train Loss: -213.9179, Validation Loss: -213.9059\n",
      "Model checkpoint saved.\n",
      "Epoch: 18, Step: 4300, Loss: -211.0923\n",
      "Epoch: 18, Step: 4400, Loss: -213.1783\n",
      "Epoch: 18, Loss: -218.7609\n",
      "Epoch: 18, Train Loss: -214.3716\n",
      "Epoch: 18, Train Loss: -214.3716, Validation Loss: -213.8068\n",
      "Epoch: 19, Step: 4500, Loss: -211.2599\n",
      "Epoch: 19, Step: 4600, Loss: -215.2440\n",
      "Epoch: 19, Loss: -209.0787\n",
      "Epoch: 19, Train Loss: -214.8952\n",
      "Epoch: 19, Train Loss: -214.8952, Validation Loss: -213.6185\n",
      "Epoch: 20, Step: 4700, Loss: -216.7732\n",
      "Epoch: 20, Step: 4800, Loss: -212.3736\n",
      "Epoch: 20, Step: 4900, Loss: -216.9415\n",
      "Epoch: 20, Loss: -213.7804\n",
      "Epoch: 20, Train Loss: -216.2891\n",
      "Epoch: 20, Train Loss: -216.2891, Validation Loss: -215.3713\n",
      "Model checkpoint saved.\n",
      "Epoch: 21, Step: 5000, Loss: -215.9658\n",
      "Epoch: 21, Step: 5100, Loss: -214.2237\n",
      "Epoch: 21, Loss: -218.1176\n",
      "Epoch: 21, Train Loss: -216.4397\n",
      "Epoch: 21, Train Loss: -216.4397, Validation Loss: -215.3008\n",
      "Epoch: 22, Step: 5200, Loss: -215.8866\n",
      "Epoch: 22, Step: 5300, Loss: -218.5550\n",
      "Epoch: 22, Step: 5400, Loss: -216.9155\n",
      "Epoch: 22, Loss: -221.0540\n",
      "Epoch: 22, Train Loss: -216.5219\n",
      "Epoch: 22, Train Loss: -216.5219, Validation Loss: -215.5650\n",
      "Model checkpoint saved.\n",
      "Epoch: 23, Step: 5500, Loss: -219.0074\n",
      "Epoch: 23, Step: 5600, Loss: -218.3989\n",
      "Epoch: 23, Loss: -216.7545\n",
      "Epoch: 23, Train Loss: -216.6758\n",
      "Epoch: 23, Train Loss: -216.6758, Validation Loss: -215.8620\n",
      "Model checkpoint saved.\n",
      "Epoch: 24, Step: 5700, Loss: -215.0948\n",
      "Epoch: 24, Step: 5800, Loss: -217.0340\n",
      "Epoch: 24, Loss: -216.4351\n",
      "Epoch: 24, Train Loss: -216.6923\n",
      "Epoch: 24, Train Loss: -216.6923, Validation Loss: -215.1244\n",
      "Epoch: 25, Step: 5900, Loss: -218.0571\n",
      "Epoch: 25, Step: 6000, Loss: -212.1093\n",
      "Epoch: 25, Step: 6100, Loss: -216.3333\n",
      "Epoch: 25, Loss: -216.9196\n",
      "Epoch: 25, Train Loss: -216.9068\n",
      "Epoch: 25, Train Loss: -216.9068, Validation Loss: -215.4885\n",
      "Epoch: 26, Step: 6200, Loss: -214.8665\n",
      "Epoch: 26, Step: 6300, Loss: -219.9251\n",
      "Epoch: 26, Loss: -214.4330\n",
      "Epoch: 26, Train Loss: -217.0862\n",
      "Epoch: 26, Train Loss: -217.0862, Validation Loss: -216.1565\n",
      "Model checkpoint saved.\n",
      "Epoch: 27, Step: 6400, Loss: -217.9335\n",
      "Epoch: 27, Step: 6500, Loss: -217.2186\n",
      "Epoch: 27, Loss: -214.7591\n",
      "Epoch: 27, Train Loss: -217.1134\n",
      "Epoch: 27, Train Loss: -217.1134, Validation Loss: -216.3603\n",
      "Model checkpoint saved.\n",
      "Epoch: 28, Step: 6600, Loss: -219.3535\n",
      "Epoch: 28, Step: 6700, Loss: -215.1418\n",
      "Epoch: 28, Step: 6800, Loss: -216.7716\n",
      "Epoch: 28, Loss: -220.5339\n",
      "Epoch: 28, Train Loss: -217.2991\n",
      "Epoch: 28, Train Loss: -217.2991, Validation Loss: -216.4204\n",
      "Model checkpoint saved.\n",
      "Epoch: 29, Step: 6900, Loss: -217.7140\n",
      "Epoch: 29, Step: 7000, Loss: -217.8414\n",
      "Epoch: 29, Loss: -218.6025\n",
      "Epoch: 29, Train Loss: -217.4720\n",
      "Epoch: 29, Train Loss: -217.4720, Validation Loss: -216.1008\n"
     ]
    }
   ],
   "source": [
    "learning_rate = 1e-3\n",
    "\n",
    "optimizer = optim.Adam(flow.parameters(), lr=learning_rate)\n",
    "\n",
    "# scheduler\n",
    "scheduler = optim.lr_scheduler.StepLR(optimizer, step_size=10, gamma=0.5)\n",
    "\n",
    "# Set up training\n",
    "n_epochs = 20\n",
    "\n",
    "# Initialize TensorBoard writer\n",
    "writer = SummaryWriter(log_dir=\"runs/Glow_MNIST\")\n",
    "\n",
    "# training loop\n",
    "best_val_loss = 0\n",
    "num_epochs = 30\n",
    "step = 0\n",
    "for epoch in range(num_epochs):\n",
    "    flow.train()\n",
    "    total_train_loss = 0\n",
    "    for x, y in train_loader:\n",
    "        x = x.to(device)\n",
    "        y = y.to(device)\n",
    "        optimizer.zero_grad()\n",
    "        loss = flow.forward_kld(x, y=y)\n",
    "        loss.backward()\n",
    "        optimizer.step()\n",
    "\n",
    "        if step % 100 == 0:\n",
    "            print(\"Epoch: {}, Step: {}, Loss: {:.4f}\".format(epoch, step, loss.item()))\n",
    "        step += 1\n",
    "\n",
    "        total_train_loss += loss.item() * x.size(0)\n",
    "\n",
    "    print(\"Epoch: {}, Loss: {:.4f}\".format(epoch, loss.item()))\n",
    "\n",
    "    avg_train_loss = total_train_loss / len(train_loader.dataset)\n",
    "    print(f\"Epoch: {epoch}, Train Loss: {avg_train_loss:.4f}\")\n",
    "\n",
    "    # Validation phase\n",
    "    flow.eval()\n",
    "    total_val_loss = 0\n",
    "    with torch.no_grad():\n",
    "        for x, y in test_loader:\n",
    "            x = x.to(device)\n",
    "            y = y.to(device)\n",
    "            loss = flow.forward_kld(x, y=y)\n",
    "            total_val_loss += loss.item() * x.size(0)\n",
    "\n",
    "    avg_val_loss = total_val_loss / len(test_loader.dataset)\n",
    "\n",
    "    # Logging\n",
    "    print(\n",
    "        f\"Epoch: {epoch}, Train Loss: {avg_train_loss:.4f}, Validation Loss: {avg_val_loss:.4f}\"\n",
    "    )\n",
    "    writer.add_scalar(\"Loss/Train\", avg_train_loss, epoch)\n",
    "    writer.add_scalar(\"Loss/Validation\", avg_val_loss, epoch)\n",
    "\n",
    "    # Checkpointing\n",
    "    if avg_val_loss < best_val_loss:\n",
    "        best_val_loss = avg_val_loss\n",
    "        torch.save(flow.state_dict(), \"best_Glow_MNIST.pth\")\n",
    "        print(\"Model checkpoint saved.\")\n",
    "\n",
    "    # Step the scheduler\n",
    "    scheduler.step()\n",
    "\n",
    "writer.close()\n"
   ]
  },
  {
   "cell_type": "code",
   "execution_count": null,
   "metadata": {
    "id": "_NYFNrm6gzjC",
    "outputId": "2dc39b37-04ee-4467-cc5d-7eca7b09581f"
   },
   "outputs": [
    {
     "name": "stderr",
     "output_type": "stream",
     "text": [
      "/var/folders/4f/ll38rx255klcxftt254q2vwh0000gn/T/ipykernel_91527/4101205332.py:2: FutureWarning: You are using `torch.load` with `weights_only=False` (the current default value), which uses the default pickle module implicitly. It is possible to construct malicious pickle data which will execute arbitrary code during unpickling (See https://github.com/pytorch/pytorch/blob/main/SECURITY.md#untrusted-models for more details). In a future release, the default value for `weights_only` will be flipped to `True`. This limits the functions that could be executed during unpickling. Arbitrary objects will no longer be allowed to be loaded via this mode unless they are explicitly allowlisted by the user via `torch.serialization.add_safe_globals`. We recommend you start setting `weights_only=True` for any use case where you don't have full control of the loaded file. Please open an issue on GitHub for any issues related to this experimental feature.\n",
      "  flow.load_state_dict(torch.load('best_Glow_MNIST.pth'))\n"
     ]
    },
    {
     "name": "stdout",
     "output_type": "stream",
     "text": [
      "Average Log Probability: 216.4332\n",
      "Shape of samples: torch.Size([64, 1, 8, 8])\n"
     ]
    },
    {
     "data": {
      "image/png": "[encoded data removed]",
      "text/plain": [
       "<Figure size 1200x1200 with 1 Axes>"
      ]
     },
     "metadata": {},
     "output_type": "display_data"
    }
   ],
   "source": [
    "# Visualization of Generated Samples\n",
    "flow.load_state_dict(torch.load('best_Glow_MNIST.pth'))\n",
    "flow.eval()\n",
    "\n",
    "# compute the log likelihood of the test set\n",
    "total_log_prob = 0\n",
    "with torch.no_grad():\n",
    "    for x, y in test_loader:\n",
    "        x = x.to(device)\n",
    "        y = y.to(device)\n",
    "        log_prob = flow.log_prob(x, y)\n",
    "        total_log_prob += log_prob.sum().item()\n",
    "\n",
    "    avg_log_prob = total_log_prob / len(test_loader.dataset)\n",
    "    print(\"Average Log Probability: {:.4f}\".format(avg_log_prob))\n",
    "\n",
    "with torch.no_grad():\n",
    "    samples, _ = flow.sample(64)\n",
    "    # clamp the samples to [0, 1]\n",
    "    samples = torch.clamp(samples, 0, 1)\n",
    "    print(\"Shape of samples:\", samples.shape)\n",
    "\n",
    "\n",
    "# Reshape and visualize\n",
    "samples = samples.view(-1, 1, 8, 8)\n",
    "grid = torchvision.utils.make_grid(samples, nrow=8, normalize=False)\n",
    "plt.figure(figsize=(12, 12))\n",
    "plt.imshow(grid.permute(1, 2, 0).squeeze(), cmap='gray')\n",
    "plt.title('Generated Samples')\n",
    "plt.axis('off')\n",
    "plt.show()"
   ]
  },
  {
   "cell_type": "code",
   "execution_count": null,
   "metadata": {
    "id": "jLWv9PRFgzjC"
   },
   "outputs": [],
   "source": [
    "import torch\n",
    "import torchvision\n",
    "from torch.utils.data import DataLoader\n",
    "\n",
    "# Device configuration\n",
    "device = torch.device('cuda' if torch.cuda.is_available() else 'cpu')\n",
    "\n",
    "# Define transformations\n",
    "transform_train = torchvision.transforms.Compose([\n",
    "    torchvision.transforms.Resize(8),\n",
    "    torchvision.transforms.ToTensor(),\n",
    "    # Add Gaussian noise for dequantization\n",
    "    # torchvision.transforms.Lambda(lambda x: x + 0.1 * torch.randn_like(x)),\n",
    "    nf.utils.Scale(255. / 256.), nf.utils.Jitter(1 / 256.),\n",
    "    torchvision.transforms.Lambda(lambda x: x.view(-1))  # Flatten the image\n",
    "])\n",
    "\n",
    "transform_test = torchvision.transforms.Compose([\n",
    "    torchvision.transforms.Resize(8),\n",
    "    torchvision.transforms.ToTensor(),\n",
    "    # torchvision.transforms.Lambda(lambda x: x + 0.1 * torch.randn_like(x)),\n",
    "    nf.utils.Scale(255. / 256.), nf.utils.Jitter(1 / 256.),\n",
    "    torchvision.transforms.Lambda(lambda x: x.view(-1))  # Flatten the image\n",
    "])\n",
    "\n",
    "# Load MNIST datasets\n",
    "ds_MNIST_train = torchvision.datasets.MNIST(\n",
    "    root='MNIST',\n",
    "    train=True,\n",
    "    download=True,\n",
    "    transform=transform_train\n",
    ")\n",
    "\n",
    "ds_MNIST_test = torchvision.datasets.MNIST(\n",
    "    root='MNIST',\n",
    "    train=False,\n",
    "    download=True,\n",
    "    transform=transform_test\n",
    ")\n",
    "\n",
    "# DataLoader setup\n",
    "batch_size = 256\n",
    "train_loader = DataLoader(ds_MNIST_train, batch_size=batch_size, shuffle=True)\n",
    "test_loader = DataLoader(ds_MNIST_test, batch_size=batch_size, shuffle=False)"
   ]
  },
  {
   "cell_type": "code",
   "execution_count": null,
   "metadata": {
    "id": "01AIpgp-gzjC",
    "outputId": "88622eb9-d909-47e3-9da2-96d9e22eb4b6"
   },
   "outputs": [
    {
     "data": {
      "image/png": "[encoded data removed]",
      "text/plain": [
       "<Figure size 800x800 with 16 Axes>"
      ]
     },
     "metadata": {},
     "output_type": "display_data"
    }
   ],
   "source": [
    "# visualize the data\n",
    "images, labels = next(iter(train_loader))\n",
    "plt.figure(figsize=(8, 8))\n",
    "for i, image in enumerate(images[:16]):\n",
    "    plt.subplot(4, 4, i+1)\n",
    "    plt.imshow(image.view(8, 8).numpy(), cmap='gray')\n",
    "    plt.axis('off')\n",
    "plt.show()"
   ]
  },
  {
   "cell_type": "code",
   "execution_count": null,
   "metadata": {
    "id": "nDT1lFqJgzjC"
   },
   "outputs": [],
   "source": [
    "# implementation of Masked Autoregressive Flow using normflows\n",
    "\n",
    "# number of layers\n",
    "L = 5\n",
    "\n",
    "# input image flattened, 8x8 = 64\n",
    "features = 64\n",
    "hidden_features = 128\n",
    "\n",
    "flows = []\n",
    "for i in range(L):\n",
    "    flows += [nf.flows.affine.MaskedAffineAutoregressive(features=features, hidden_features=hidden_features, num_blocks=3)]\n",
    "    flows += [nf.flows.Permute(num_channels=features)]\n",
    "\n",
    "base_dist = nf.distributions.DiagGaussian((features,))\n",
    "flow = nf.NormalizingFlow(q0=base_dist, flows=flows)\n",
    "\n",
    "# cuda\n",
    "flow = flow.to(device)"
   ]
  },
  {
   "cell_type": "code",
   "execution_count": null,
   "metadata": {
    "id": "VyLBh9RcgzjD",
    "outputId": "4412fb62-090c-4414-a38d-3629bf1fed61"
   },
   "outputs": [
    {
     "name": "stdout",
     "output_type": "stream",
     "text": [
      "Epoch: 0, Step: 0, Loss: 27.1387\n",
      "Epoch: 0, Step: 100, Loss: -0.6286\n",
      "Epoch: 0, Step: 200, Loss: -35.6292\n",
      "Epoch: 0, Loss: -42.2643\n",
      "Epoch: 0, Train Loss: 325.1643\n",
      "Epoch: 0, Train Loss: 325.1643, Validation Loss: -44.0353\n",
      "Model checkpoint saved.\n",
      "Epoch: 1, Step: 300, Loss: -59.1449\n",
      "Epoch: 1, Step: 400, Loss: -69.7785\n",
      "Epoch: 1, Loss: -75.9879\n",
      "Epoch: 1, Train Loss: -63.3814\n",
      "Epoch: 1, Train Loss: -63.3814, Validation Loss: -74.2732\n",
      "Model checkpoint saved.\n",
      "Epoch: 2, Step: 500, Loss: -77.1166\n",
      "Epoch: 2, Step: 600, Loss: -76.8511\n",
      "Epoch: 2, Step: 700, Loss: -80.3784\n",
      "Epoch: 2, Loss: -78.2388\n",
      "Epoch: 2, Train Loss: -77.9628\n",
      "Epoch: 2, Train Loss: -77.9628, Validation Loss: -81.3407\n",
      "Model checkpoint saved.\n",
      "Epoch: 3, Step: 800, Loss: -81.8422\n",
      "Epoch: 3, Step: 900, Loss: -88.3388\n",
      "Epoch: 3, Loss: -89.7032\n",
      "Epoch: 3, Train Loss: -84.6038\n",
      "Epoch: 3, Train Loss: -84.6038, Validation Loss: -86.4890\n",
      "Model checkpoint saved.\n",
      "Epoch: 4, Step: 1000, Loss: -89.0026\n",
      "Epoch: 4, Step: 1100, Loss: -89.0993\n",
      "Epoch: 4, Loss: -87.9091\n",
      "Epoch: 4, Train Loss: -87.7406\n",
      "Epoch: 4, Train Loss: -87.7406, Validation Loss: -89.2467\n",
      "Model checkpoint saved.\n",
      "Epoch: 5, Step: 1200, Loss: -90.8634\n",
      "Epoch: 5, Step: 1300, Loss: -94.6015\n",
      "Epoch: 5, Step: 1400, Loss: -93.5384\n",
      "Epoch: 5, Loss: -83.7159\n",
      "Epoch: 5, Train Loss: -91.9214\n",
      "Epoch: 5, Train Loss: -91.9214, Validation Loss: -91.4516\n",
      "Model checkpoint saved.\n",
      "Epoch: 6, Step: 1500, Loss: -89.1143\n",
      "Epoch: 6, Step: 1600, Loss: -99.6566\n",
      "Epoch: 6, Loss: -94.0909\n",
      "Epoch: 6, Train Loss: -94.2781\n",
      "Epoch: 6, Train Loss: -94.2781, Validation Loss: -97.8443\n",
      "Model checkpoint saved.\n",
      "Epoch: 7, Step: 1700, Loss: -97.0024\n",
      "Epoch: 7, Step: 1800, Loss: -84.8241\n",
      "Epoch: 7, Loss: -102.9308\n",
      "Epoch: 7, Train Loss: -98.4069\n",
      "Epoch: 7, Train Loss: -98.4069, Validation Loss: -98.8224\n",
      "Model checkpoint saved.\n",
      "Epoch: 8, Step: 1900, Loss: -102.1066\n",
      "Epoch: 8, Step: 2000, Loss: -24.2887\n",
      "Epoch: 8, Step: 2100, Loss: -96.4196\n",
      "Epoch: 8, Loss: -94.5278\n",
      "Epoch: 8, Train Loss: -84.6429\n",
      "Epoch: 8, Train Loss: -84.6429, Validation Loss: -95.7349\n",
      "Epoch: 9, Step: 2200, Loss: -98.2162\n",
      "Epoch: 9, Step: 2300, Loss: -101.8379\n",
      "Epoch: 9, Loss: -103.0066\n",
      "Epoch: 9, Train Loss: -98.9649\n",
      "Epoch: 9, Train Loss: -98.9649, Validation Loss: -102.7669\n",
      "Model checkpoint saved.\n",
      "Epoch: 10, Step: 2400, Loss: -106.8547\n",
      "Epoch: 10, Step: 2500, Loss: -102.1536\n",
      "Epoch: 10, Loss: -104.6833\n",
      "Epoch: 10, Train Loss: -106.1093\n",
      "Epoch: 10, Train Loss: -106.1093, Validation Loss: -108.4344\n",
      "Model checkpoint saved.\n",
      "Epoch: 11, Step: 2600, Loss: -108.2760\n",
      "Epoch: 11, Step: 2700, Loss: -109.6769\n",
      "Epoch: 11, Step: 2800, Loss: -109.9744\n",
      "Epoch: 11, Loss: -109.9260\n",
      "Epoch: 11, Train Loss: -108.4428\n",
      "Epoch: 11, Train Loss: -108.4428, Validation Loss: -109.7666\n",
      "Model checkpoint saved.\n",
      "Epoch: 12, Step: 2900, Loss: -107.6566\n",
      "Epoch: 12, Step: 3000, Loss: -113.9808\n",
      "Epoch: 12, Loss: -110.8211\n",
      "Epoch: 12, Train Loss: -109.7382\n",
      "Epoch: 12, Train Loss: -109.7382, Validation Loss: -110.7247\n",
      "Model checkpoint saved.\n",
      "Epoch: 13, Step: 3100, Loss: -111.6971\n",
      "Epoch: 13, Step: 3200, Loss: -110.0480\n",
      "Epoch: 13, Loss: -109.2138\n",
      "Epoch: 13, Train Loss: -111.6377\n",
      "Epoch: 13, Train Loss: -111.6377, Validation Loss: -114.5199\n",
      "Model checkpoint saved.\n",
      "Epoch: 14, Step: 3300, Loss: -115.4290\n",
      "Epoch: 14, Step: 3400, Loss: -114.9283\n",
      "Epoch: 14, Step: 3500, Loss: -115.5795\n",
      "Epoch: 14, Loss: -109.2931\n",
      "Epoch: 14, Train Loss: -113.5265\n",
      "Epoch: 14, Train Loss: -113.5265, Validation Loss: -114.8744\n",
      "Model checkpoint saved.\n",
      "Epoch: 15, Step: 3600, Loss: -113.9173\n",
      "Epoch: 15, Step: 3700, Loss: -108.2498\n",
      "Epoch: 15, Loss: -122.0825\n",
      "Epoch: 15, Train Loss: -115.0227\n",
      "Epoch: 15, Train Loss: -115.0227, Validation Loss: -116.9923\n",
      "Model checkpoint saved.\n",
      "Epoch: 16, Step: 3800, Loss: -117.2106\n",
      "Epoch: 16, Step: 3900, Loss: -118.7584\n",
      "Epoch: 16, Loss: -121.9446\n",
      "Epoch: 16, Train Loss: -116.5646\n",
      "Epoch: 16, Train Loss: -116.5646, Validation Loss: -119.1696\n",
      "Model checkpoint saved.\n",
      "Epoch: 17, Step: 4000, Loss: -118.1328\n",
      "Epoch: 17, Step: 4100, Loss: -123.0982\n",
      "Epoch: 17, Step: 4200, Loss: -121.9060\n",
      "Epoch: 17, Loss: -113.7590\n",
      "Epoch: 17, Train Loss: -117.9939\n",
      "Epoch: 17, Train Loss: -117.9939, Validation Loss: -116.7349\n",
      "Epoch: 18, Step: 4300, Loss: -115.7551\n",
      "Epoch: 18, Step: 4400, Loss: -124.1272\n",
      "Epoch: 18, Loss: -93.8129\n",
      "Epoch: 18, Train Loss: -118.7989\n",
      "Epoch: 18, Train Loss: -118.7989, Validation Loss: -94.3744\n",
      "Epoch: 19, Step: 4500, Loss: -111.6719\n",
      "Epoch: 19, Step: 4600, Loss: -119.6575\n",
      "Epoch: 19, Loss: -114.7985\n",
      "Epoch: 19, Train Loss: -118.2694\n",
      "Epoch: 19, Train Loss: -118.2694, Validation Loss: -118.1809\n"
     ]
    }
   ],
   "source": [
    "learning_rate = 1e-3\n",
    "\n",
    "# optimizer\n",
    "optimizer = optim.Adam(flow.parameters(), lr=learning_rate, weight_decay=1e-5)\n",
    "\n",
    "# scheduler\n",
    "scheduler = optim.lr_scheduler.StepLR(optimizer, step_size=10, gamma=0.5)\n",
    "\n",
    "# Initialize TensorBoard writer\n",
    "writer = SummaryWriter(log_dir=\"runs/MAF_MNIST\")\n",
    "\n",
    "# training loop\n",
    "best_val_loss = 0\n",
    "num_epochs = 20\n",
    "step = 0\n",
    "for epoch in range(num_epochs):\n",
    "    flow.train()\n",
    "    total_train_loss = 0\n",
    "    for x, _ in train_loader:\n",
    "        x = x.view(x.size(0), -1)\n",
    "        x = x.to(device)\n",
    "        optimizer.zero_grad()\n",
    "        loss = flow.forward_kld(x)\n",
    "        loss.backward()\n",
    "        optimizer.step()\n",
    "\n",
    "        if step % 100 == 0:\n",
    "            print(\"Epoch: {}, Step: {}, Loss: {:.4f}\".format(epoch, step, loss.item()))\n",
    "        step += 1\n",
    "\n",
    "        total_train_loss += loss.item() * x.size(0)\n",
    "\n",
    "    print(\"Epoch: {}, Loss: {:.4f}\".format(epoch, loss.item()))\n",
    "\n",
    "    avg_train_loss = total_train_loss / len(train_loader.dataset)\n",
    "    print(f\"Epoch: {epoch}, Train Loss: {avg_train_loss:.4f}\")\n",
    "\n",
    "    # Validation phase\n",
    "    flow.eval()\n",
    "    total_val_loss = 0\n",
    "    with torch.no_grad():\n",
    "        for x, _ in test_loader:\n",
    "            x = x.to(device)\n",
    "            loss = flow.forward_kld(x)\n",
    "            total_val_loss += loss.item() * x.size(0)\n",
    "\n",
    "    avg_val_loss = total_val_loss / len(test_loader.dataset)\n",
    "\n",
    "    # Logging\n",
    "    print(\n",
    "        f\"Epoch: {epoch}, Train Loss: {avg_train_loss:.4f}, Validation Loss: {avg_val_loss:.4f}\"\n",
    "    )\n",
    "    writer.add_scalar(\"Loss/Train\", avg_train_loss, epoch)\n",
    "    writer.add_scalar(\"Loss/Validation\", avg_val_loss, epoch)\n",
    "\n",
    "    # Checkpointing\n",
    "    if avg_val_loss < best_val_loss:\n",
    "        best_val_loss = avg_val_loss\n",
    "        torch.save(flow.state_dict(), \"best_MAF_MNIST.pth\")\n",
    "        print(\"Model checkpoint saved.\")\n",
    "\n",
    "    # Step the scheduler\n",
    "    scheduler.step()\n",
    "\n",
    "writer.close()"
   ]
  },
  {
   "cell_type": "code",
   "execution_count": null,
   "metadata": {
    "id": "90yN0ExqgzjD",
    "outputId": "eb8b2573-5cef-461a-8cae-8ce39594929b"
   },
   "outputs": [
    {
     "name": "stderr",
     "output_type": "stream",
     "text": [
      "/var/folders/4f/ll38rx255klcxftt254q2vwh0000gn/T/ipykernel_91527/381953210.py:2: FutureWarning: You are using `torch.load` with `weights_only=False` (the current default value), which uses the default pickle module implicitly. It is possible to construct malicious pickle data which will execute arbitrary code during unpickling (See https://github.com/pytorch/pytorch/blob/main/SECURITY.md#untrusted-models for more details). In a future release, the default value for `weights_only` will be flipped to `True`. This limits the functions that could be executed during unpickling. Arbitrary objects will no longer be allowed to be loaded via this mode unless they are explicitly allowlisted by the user via `torch.serialization.add_safe_globals`. We recommend you start setting `weights_only=True` for any use case where you don't have full control of the loaded file. Please open an issue on GitHub for any issues related to this experimental feature.\n",
      "  flow.load_state_dict(torch.load('best_MAF_MNIST.pth'))\n"
     ]
    },
    {
     "name": "stdout",
     "output_type": "stream",
     "text": [
      "Average Log Probability: 119.1637\n",
      "Shape of samples: torch.Size([64, 64])\n"
     ]
    },
    {
     "data": {
      "image/png": "[encoded data removed]",
      "text/plain": [
       "<Figure size 1200x1200 with 1 Axes>"
      ]
     },
     "metadata": {},
     "output_type": "display_data"
    }
   ],
   "source": [
    "# Visualization of Generated Samples\n",
    "flow.load_state_dict(torch.load('best_MAF_MNIST.pth'))\n",
    "flow.eval()\n",
    "\n",
    "# compute the log likelihood of the test set\n",
    "total_log_prob = 0\n",
    "with torch.no_grad():\n",
    "    for x, _ in test_loader:\n",
    "        x = x.view(x.size(0), -1)\n",
    "        x = x.to(device)\n",
    "        log_prob = flow.log_prob(x)\n",
    "        total_log_prob += log_prob.sum().item()\n",
    "\n",
    "    avg_log_prob = total_log_prob / len(test_loader.dataset)\n",
    "    print(\"Average Log Probability: {:.4f}\".format(avg_log_prob))\n",
    "\n",
    "with torch.no_grad():\n",
    "    samples, _ = flow.sample(64)\n",
    "    # clamp samples to [0, 1]\n",
    "    samples = torch.clamp(samples, 0, 1)\n",
    "    print(\"Shape of samples:\", samples.shape)\n",
    "\n",
    "\n",
    "# Reshape and visualize\n",
    "samples = samples.view(-1, 1, 8, 8)\n",
    "grid = torchvision.utils.make_grid(samples, nrow=8, normalize=False)\n",
    "plt.figure(figsize=(12, 12))\n",
    "plt.imshow(grid.permute(1, 2, 0).squeeze(), cmap='gray')\n",
    "plt.title('Generated Samples')\n",
    "plt.axis('off')\n",
    "plt.show()"
   ]
  },
  {
   "cell_type": "markdown",
   "metadata": {
    "id": "TJ3fhG-9gzjD"
   },
   "source": [
    "## Question 2: WaveNet for Image Modeling\n",
    "\n",
    "- Pick a WaveNet-typed model (e.g., WaveNet, ParallelWaveNet).\n",
    "- Train the model for image modelling on MNIST.\n",
    "- You can resize the MNIST images to 7 × 7 pixels to reduce computational complexity.\n",
    "\n",
    "Some reference:\n",
    "- https://medium.com/@evinpinar/wavenet-implementation-and-experiments-2d2ee57105d5\n",
    "- https://github.com/kan-bayashi/ParallelWaveGAN?tab=readme-ov-file\n",
    "- https://github.com/Zeta36/tensorflow-image-wavenet"
   ]
  },
  {
   "cell_type": "markdown",
   "metadata": {
    "id": "Uf2fc37ZgzjD"
   },
   "source": [
    "For this question, I worked with:\n",
    "\n",
    "- (name, remark)\n",
    "- (name, remark)\n",
    "\n",
    "For this question, I referenced a few sites/ papers/ github repositories, especially:\n",
    "\n",
    "- (remark, link)\n",
    "- (remark, link)\n",
    "- (remark, link)\n",
    "- ...\n",
    "\n",
    "I spent ... amount of time, I have some suggestions ..."
   ]
  },
  {
   "cell_type": "code",
   "execution_count": null,
   "metadata": {
    "id": "m6lqb8tIgzjD",
    "outputId": "c32e996f-c455-4f54-8669-bdde8c2fd571"
   },
   "outputs": [
    {
     "name": "stderr",
     "output_type": "stream",
     "text": [
      "Seed set to 42\n"
     ]
    },
    {
     "name": "stdout",
     "output_type": "stream",
     "text": [
      "Using device: mps\n"
     ]
    }
   ],
   "source": [
    "import numpy as np\n",
    "import torch\n",
    "import torch.nn as nn\n",
    "import torch.nn.functional as F\n",
    "import torch.optim as optim\n",
    "import torchvision\n",
    "from torchvision import datasets, transforms\n",
    "from torch.utils.data import DataLoader\n",
    "\n",
    "import matplotlib.pyplot as plt\n",
    "\n",
    "# Pytorch lightning\n",
    "try:\n",
    "    import pytorch_lightning as pl\n",
    "except ModuleNotFoundError:\n",
    "    !pip install pytorch-lightning\n",
    "from pytorch_lightning.callbacks import LearningRateMonitor, ModelCheckpoint\n",
    "\n",
    "# Path to folder for MNIST dataset\n",
    "DATASET_PATH = \"./MNIST/\"\n",
    "# Path to folder for storing the trained models in this question\n",
    "CHECKPOINT_PATH = \"./checkpoints/PixelCNN/\"\n",
    "\n",
    "# Set seed\n",
    "pl.seed_everything(42)\n",
    "\n",
    "# Reproducibility for GPU\n",
    "torch.backends.cudnn.deterministic = True\n",
    "torch.backends.cudnn.benchmark = False\n",
    "\n",
    "# Reproducibility for MPS\n",
    "torch.backends.mps.deterministic = True\n",
    "torch.backends.mps.benchmark = False\n",
    "\n",
    "# Get device\n",
    "device = torch.device(\"cuda\" if torch.cuda.is_available() else \"mps\" if torch.backends.mps.is_available() else \"cpu\")\n",
    "print(f\"Using device: {device}\")\n"
   ]
  },
  {
   "cell_type": "code",
   "execution_count": null,
   "metadata": {
    "id": "nGNKhw1tgzjE"
   },
   "outputs": [],
   "source": [
    "from utils import _discretize\n",
    "# # transformations for images, similar to the previous question, except we need to discretize the pixel values\n",
    "# def _discretize(x):\n",
    "#     \"\"\"\n",
    "#     Discretize the pixel values to 0-255.\n",
    "#     Need a function to be called, for pickling to work when using num_workers in pytorch lightning dataloader.\n",
    "#     \"\"\"\n",
    "#     return (x * 255).to(torch.long)\n",
    "\n",
    "transform = transforms.Compose([\n",
    "    transforms.Resize(11),\n",
    "    transforms.ToTensor(),\n",
    "    # not using dequantization since we are going to learn the distribution over the each 256 values for each pixel\n",
    "    # transforms.Lambda(lambda x: x + 0.01 * torch.rand_like(x) / 256.),\n",
    "    # normalize to mean 0 and std 1 using standard MNIST mean and std\n",
    "    # transforms.Normalize((0.1307,), (0.3081,))\n",
    "\n",
    "    # need to discretize instead\n",
    "    # DiscretizeTransform()\n",
    "    transforms.Lambda(_discretize)\n",
    "])\n",
    "\n",
    "# MNIST dataset\n",
    "train_dataset = datasets.MNIST(root=DATASET_PATH, train=True, transform=transform, download=True)\n",
    "test_dataset = datasets.MNIST(root=DATASET_PATH, train=False, transform=transform, download=True)\n",
    "\n",
    "train_set, val_set = torch.utils.data.random_split(train_dataset, [50000, 10000])\n",
    "\n",
    "# dataloader\n",
    "train_loader = DataLoader(train_set, batch_size=128, shuffle=True, num_workers=4)\n",
    "val_loader = DataLoader(val_set, batch_size=128, shuffle=False, num_workers=4)\n",
    "test_loader = DataLoader(test_dataset, batch_size=128, shuffle=False, num_workers=4)"
   ]
  },
  {
   "cell_type": "code",
   "execution_count": null,
   "metadata": {
    "id": "atyVGZw7gzjE",
    "outputId": "a2c75003-dc95-49fc-db11-6ef4bc652de5"
   },
   "outputs": [
    {
     "data": {
      "image/png": "[encoded data removed]",
      "text/plain": [
       "<Figure size 400x400 with 1 Axes>"
      ]
     },
     "metadata": {},
     "output_type": "display_data"
    }
   ],
   "source": [
    "# visualize images\n",
    "def visualize_images(images, max_rows=4, max_cols=4):\n",
    "    num_imgs = images.shape[0] if isinstance(images, torch.Tensor) else len(images)\n",
    "    nrow = min(num_imgs, max_rows)\n",
    "    ncol = min(num_imgs, max_cols)\n",
    "    imgs = torchvision.utils.make_grid(images, nrow=ncol, pad_value=255)\n",
    "    imgs = imgs.clamp(0, 255)\n",
    "    plt.figure(figsize=(ncol, nrow))\n",
    "    plt.imshow(imgs.cpu().permute(1, 2, 0))\n",
    "    plt.axis('off')\n",
    "    plt.show()\n",
    "\n",
    "# visualize training images\n",
    "train_images = [train_set[i][0] for i in range(16)]\n",
    "visualize_images(train_images)"
   ]
  },
  {
   "cell_type": "code",
   "execution_count": null,
   "metadata": {
    "id": "hO9ou-B7gzjF"
   },
   "outputs": [],
   "source": [
    "# implement masked convolution module\n",
    "class MaskedConv2d(nn.Module):\n",
    "    \"\"\"\n",
    "    Implements a convolution with mask applied to the weights.\n",
    "    The mask ensures that the output can only depend on the pixels that are to the right and below the current pixel.\n",
    "    This is achieved by having a random mask with all values set to 1 except for the pixels that are to the right and below the current pixel.\n",
    "\n",
    "    Inputs:\n",
    "        in_channels: int, number of input channels\n",
    "        out_channels: int, number of output channels\n",
    "        mask: torch.Tensor, mask with shape (kernel_size_h, kernel_size_w) with 0s where the convolution is masked\n",
    "        kwargs: other arguments for the convolution\n",
    "    \"\"\"\n",
    "    def __init__(self, in_channels, out_channels, mask, **kwargs):\n",
    "        super(MaskedConv2d, self).__init__()\n",
    "        self.in_channels = in_channels\n",
    "        self.out_channels = out_channels\n",
    "\n",
    "        # calculate padding automatically\n",
    "        kernel_size = (mask.shape[0], mask.shape[1])\n",
    "        dilation = 1 if 'dilation' not in kwargs else kwargs['dilation']\n",
    "        padding = tuple([dilation*(kernel_size[i]-1)//2 for i in range(2)])\n",
    "        self.conv = nn.Conv2d(in_channels, out_channels, kernel_size=kernel_size, padding=padding, **kwargs)\n",
    "\n",
    "        # buffer for mask\n",
    "        # to allow the mask to be saved and loaded with the model\n",
    "        # also allows the mask to be moved to the correct device\n",
    "        # without buffer, need to handle device movement manually\n",
    "        # also registering it as a buffer means it is not a parameter and not subject to gradient descent\n",
    "        # note we don't want it to update during training\n",
    "        self.register_buffer('mask', mask[None, None])\n",
    "\n",
    "    def forward(self, x):\n",
    "        # apply mask to the weights\n",
    "        self.conv.weight.data *= self.mask\n",
    "        return self.conv(x)\n",
    "\n"
   ]
  },
  {
   "cell_type": "code",
   "execution_count": null,
   "metadata": {
    "id": "mm1Z1hAXgzjF"
   },
   "outputs": [],
   "source": [
    "# implement vertical and horizontal convolution stacks\n",
    "# Although we can stack few masked convolutions on top of each other (like in PixelCNN),\n",
    "# the issue is we will miss out on pixels on the upper right (blind spot), the authors of\n",
    "# PixelCNN proposed a fix by splitting the convolutions into a vertical and horizontal stack.\n",
    "# The vertical stack looks at the pixels above the current pixel, while the horizontal stack looks at the pixels to the left of the current pixel.\n",
    "# This way, we can ensure that all pixels are considered.\n",
    "class VerticalStackConvolution(MaskedConv2d):\n",
    "    \"\"\"\n",
    "    Implements a vertical stack of masked convolutions.\n",
    "    Masks out pixels below. To reduce computational complexity,\n",
    "    we can reduce the kernel size in height. But for simplicity,\n",
    "    we use the same kernel size for both height and width and employ masking instead.\n",
    "    \"\"\"\n",
    "    def __init__(self, in_channels, out_channels, kernel_size=3, mask_center=False, **kwargs):\n",
    "\n",
    "        # create mask\n",
    "        mask = torch.ones(kernel_size, kernel_size)\n",
    "        mask[kernel_size // 2 + 1:, :] = 0\n",
    "\n",
    "        # Mask the center row for the first convolution\n",
    "        if mask_center:\n",
    "            mask[kernel_size // 2, :] = 0\n",
    "\n",
    "\n",
    "        super().__init__(in_channels, out_channels, mask, **kwargs)\n",
    "\n",
    "class HorizontalStackConvolution(MaskedConv2d):\n",
    "    \"\"\"\n",
    "    Implements a horizontal stack of masked convolutions.\n",
    "    Masks out pixels on the left.\n",
    "    \"\"\"\n",
    "    def __init__(self, in_channels, out_channels, kernel_size=3, mask_center=False, **kwargs):\n",
    "\n",
    "        # only have a size of 1 in height, since we only look at the pixels on the left\n",
    "        mask = torch.ones(1, kernel_size)\n",
    "        mask[:, kernel_size // 2 + 1:] = 0\n",
    "\n",
    "        # Mask the center column for the first convolution\n",
    "        if mask_center:\n",
    "            mask[:, kernel_size // 2] = 0\n",
    "\n",
    "\n",
    "        super().__init__(in_channels, out_channels, mask, **kwargs)\n",
    "\n",
    "\n"
   ]
  },
  {
   "cell_type": "code",
   "execution_count": null,
   "metadata": {
    "id": "ufrPa-tZgzjF",
    "outputId": "93eac157-9864-4e64-c9a8-9c423152f611"
   },
   "outputs": [
    {
     "data": {
      "image/png": "[encoded data removed]",
      "text/plain": [
       "<Figure size 640x480 with 2 Axes>"
      ]
     },
     "metadata": {},
     "output_type": "display_data"
    }
   ],
   "source": [
    "# validate the masked convolutions by visualizing the receptive fields\n",
    "\n",
    "inp_img = torch.zeros(1, 1, 11, 11)\n",
    "inp_img.requires_grad = True\n",
    "def show_center_receptive_field(img, out):\n",
    "    \"\"\"\n",
    "    Calculates gradients of input image with respect to output center pixel,\n",
    "    and visualizes the overall receptive field.\n",
    "\n",
    "    Inputs:\n",
    "        img: torch.Tensor, input image with shape (1, 1, H, W)\n",
    "        out: torch.Tensor, output features or loss which is used for backprop,\n",
    "            should be the output of the network/computation graph\n",
    "    \"\"\"\n",
    "    # calculate gradients\n",
    "    loss = out[0, :, img.shape[2] // 2, img.shape[3] // 2].sum() # L1 loss\n",
    "    loss.backward(retain_graph=True) # Retain graph since we want to stack multiple layers and show the receptive field of all of them.\n",
    "    img_grads = img.grad.abs()\n",
    "    img.grad.fill_(0) # Clear the gradient\n",
    "\n",
    "    # Plot the receptive field\n",
    "    img = img_grads.squeeze().cpu().numpy()\n",
    "    fig, ax = plt.subplots(1, 2)\n",
    "    pos = ax[0].imshow(img)\n",
    "    ax[1].imshow(img > 0)\n",
    "\n",
    "    # mark the center of the receptive field if it does not have gradients\n",
    "    show_center = (img[img.shape[0] // 2, img.shape[1] // 2] == 0)\n",
    "    if show_center:\n",
    "        center_pix = np.zeros(img.shape + (4,))\n",
    "        center_pix[img.shape[0] // 2, img.shape[1] // 2, :] = [1, 0, 0, 1]\n",
    "        ax[0].imshow(center_pix)\n",
    "        ax[1].imshow(center_pix)\n",
    "\n",
    "    ax[0].set_title('Weighted Receptive Field')\n",
    "    ax[1].set_title('Binary Receptive Field')\n",
    "    plt.tight_layout()\n",
    "    plt.show()\n",
    "\n",
    "show_center_receptive_field(inp_img, inp_img)"
   ]
  },
  {
   "cell_type": "code",
   "execution_count": null,
   "metadata": {
    "id": "G-hKDzvagzjF",
    "outputId": "fee2ab68-ebc2-43ca-f27f-42ae17233fc0"
   },
   "outputs": [
    {
     "data": {
      "image/png": "[encoded data removed]",
      "text/plain": [
       "<Figure size 640x480 with 2 Axes>"
      ]
     },
     "metadata": {},
     "output_type": "display_data"
    },
    {
     "data": {
      "image/png": "[encoded data removed]",
      "text/plain": [
       "<Figure size 640x480 with 2 Axes>"
      ]
     },
     "metadata": {},
     "output_type": "display_data"
    }
   ],
   "source": [
    "# visualize horizontal and vertical convolutions\n",
    "\n",
    "# horizontal convolution\n",
    "horizontal_conv = HorizontalStackConvolution(in_channels=1, out_channels=1, kernel_size=3, mask_center=True)\n",
    "horizontal_conv.conv.weight.data.fill_(1)\n",
    "horizontal_conv.conv.bias.data.fill_(0)\n",
    "show_center_receptive_field(inp_img, horizontal_conv(inp_img))\n",
    "\n",
    "# vertical convolution\n",
    "vertical_conv = VerticalStackConvolution(in_channels=1, out_channels=1, kernel_size=3, mask_center=True)\n",
    "vertical_conv.conv.weight.data.fill_(1)\n",
    "vertical_conv.conv.bias.data.fill_(0)\n",
    "show_center_receptive_field(inp_img, vertical_conv(inp_img))\n",
    "\n",
    "\n",
    "\n"
   ]
  },
  {
   "cell_type": "code",
   "execution_count": null,
   "metadata": {
    "id": "oYHjzZg6gzjF",
    "outputId": "b3343c65-14cd-44ef-80a7-cc418a74fb31"
   },
   "outputs": [
    {
     "data": {
      "image/png": "[encoded data removed]",
      "text/plain": [
       "<Figure size 640x480 with 2 Axes>"
      ]
     },
     "metadata": {},
     "output_type": "display_data"
    }
   ],
   "source": [
    "# combine horizontal and vertical convolutions\n",
    "show_center_receptive_field(inp_img, horizontal_conv(inp_img) + vertical_conv(inp_img))"
   ]
  },
  {
   "cell_type": "code",
   "execution_count": null,
   "metadata": {
    "id": "oDDqjESEgzjF",
    "outputId": "01f365ae-df80-4e94-a167-250ccf45b8e7"
   },
   "outputs": [
    {
     "name": "stdout",
     "output_type": "stream",
     "text": [
      "Layer 1 Receptive Field:\n"
     ]
    },
    {
     "data": {
      "image/png": "[encoded data removed]",
      "text/plain": [
       "<Figure size 640x480 with 2 Axes>"
      ]
     },
     "metadata": {},
     "output_type": "display_data"
    },
    {
     "name": "stdout",
     "output_type": "stream",
     "text": [
      "Layer 2 Receptive Field:\n"
     ]
    },
    {
     "data": {
      "image/png": "[encoded data removed]",
      "text/plain": [
       "<Figure size 640x480 with 2 Axes>"
      ]
     },
     "metadata": {},
     "output_type": "display_data"
    },
    {
     "name": "stdout",
     "output_type": "stream",
     "text": [
      "Layer 3 Receptive Field:\n"
     ]
    },
    {
     "data": {
      "image/png": "[encoded data removed]",
      "text/plain": [
       "<Figure size 640x480 with 2 Axes>"
      ]
     },
     "metadata": {},
     "output_type": "display_data"
    },
    {
     "name": "stdout",
     "output_type": "stream",
     "text": [
      "Layer 4 Receptive Field:\n"
     ]
    },
    {
     "data": {
      "image/png": "[encoded data removed]",
      "text/plain": [
       "<Figure size 640x480 with 2 Axes>"
      ]
     },
     "metadata": {},
     "output_type": "display_data"
    },
    {
     "name": "stdout",
     "output_type": "stream",
     "text": [
      "Layer 5 Receptive Field:\n"
     ]
    },
    {
     "data": {
      "image/png": "[encoded data removed]",
      "text/plain": [
       "<Figure size 640x480 with 2 Axes>"
      ]
     },
     "metadata": {},
     "output_type": "display_data"
    }
   ],
   "source": [
    "# to stack multiple layers:\n",
    "# horizontal convolutions can operate on the joint features of previous horizontal and vertical convolutions\n",
    "#! vertical convolutions can only operate on the features of previous vertical convolutions\n",
    "#! Subsequent convolutions should not be masking the center pixel, since it is already independent of its actual value\n",
    "\n",
    "# test it on 4 layers. Reuse the convolutions for simplicity. In practice, we can use different convolutions for each layer.\n",
    "# initialize the convolutions with equal weight to all input pixels, the first layer should have a mask center pixel\n",
    "horizontal_conv = HorizontalStackConvolution(in_channels=1, out_channels=1, kernel_size=3, mask_center=True)\n",
    "vertical_conv = VerticalStackConvolution(in_channels=1, out_channels=1, kernel_size=3, mask_center=True)\n",
    "horizontal_conv.conv.weight.data.fill_(1)\n",
    "vertical_conv.conv.weight.data.fill_(1)\n",
    "horizontal_conv.conv.bias.data.fill_(0)\n",
    "vertical_conv.conv.bias.data.fill_(0)\n",
    "\n",
    "inp_img = torch.zeros(1, 1, 11, 11)\n",
    "inp_img.requires_grad = True\n",
    "\n",
    "vert_out = vertical_conv(inp_img)\n",
    "horiz_out = horizontal_conv(inp_img)\n",
    "horiz_out = horiz_out + vert_out\n",
    "print(\"Layer 1 Receptive Field:\")\n",
    "show_center_receptive_field(inp_img, horiz_out)\n",
    "\n",
    "# now the convolutions should not mask the center pixel\n",
    "horizontal_conv = HorizontalStackConvolution(in_channels=1, out_channels=1, kernel_size=3, mask_center=False)\n",
    "vertical_conv = VerticalStackConvolution(in_channels=1, out_channels=1, kernel_size=3, mask_center=False)\n",
    "horizontal_conv.conv.weight.data.fill_(1)\n",
    "vertical_conv.conv.weight.data.fill_(1)\n",
    "horizontal_conv.conv.bias.data.fill_(0)\n",
    "vertical_conv.conv.bias.data.fill_(0)\n",
    "\n",
    "# stack the convolutions\n",
    "for layer in range(4):\n",
    "    vert_out = vertical_conv(vert_out)\n",
    "    horiz_out = horizontal_conv(horiz_out) + vert_out\n",
    "    print(f\"Layer {layer + 2} Receptive Field:\")\n",
    "    show_center_receptive_field(inp_img, horiz_out)\n",
    "\n"
   ]
  },
  {
   "cell_type": "code",
   "execution_count": null,
   "metadata": {
    "id": "n4Jptyb_gzjF",
    "outputId": "34039d7f-eb83-43fc-c5b8-fc4da1d5f21a"
   },
   "outputs": [
    {
     "data": {
      "image/png": "[encoded data removed]",
      "text/plain": [
       "<Figure size 640x480 with 2 Axes>"
      ]
     },
     "metadata": {},
     "output_type": "display_data"
    }
   ],
   "source": [
    "# check receptive field for the vertical stack after 4 layers\n",
    "show_center_receptive_field(inp_img, vert_out)\n",
    "\n",
    "del horizontal_conv, vertical_conv, horiz_out, vert_out, inp_img"
   ]
  },
  {
   "cell_type": "code",
   "execution_count": null,
   "metadata": {
    "id": "Mm-t15v8gzjG"
   },
   "outputs": [],
   "source": [
    "# gated masked convolutions\n",
    "class GatedMaskedConv2d(nn.Module):\n",
    "    \"\"\"\n",
    "    Implements a gated masked convolution.\n",
    "    \"\"\"\n",
    "    def __init__(self, in_channels, **kwargs):\n",
    "        super().__init__()\n",
    "\n",
    "        self.conv_vert = VerticalStackConvolution(in_channels=in_channels, out_channels=2*in_channels, **kwargs)\n",
    "        self.conv_horiz = HorizontalStackConvolution(in_channels=in_channels, out_channels=2*in_channels, **kwargs)\n",
    "        self.conv_vert_to_horiz = nn.Conv2d(2*in_channels, 2*in_channels, kernel_size=1, padding=0)\n",
    "        self.conv_horiz_1x1 = nn.Conv2d(in_channels, in_channels, kernel_size=1, padding=0)\n",
    "\n",
    "\n",
    "    def forward(self, vert_stack, horiz_stack):\n",
    "        # Vertical stack\n",
    "        vert_stack_feat = self.conv_vert(vert_stack)\n",
    "        vert_val, vert_gate = vert_stack_feat.chunk(2, dim=1)\n",
    "        vert_stack_out = torch.tanh(vert_val) * torch.sigmoid(vert_gate)\n",
    "\n",
    "        # Horizontal stack\n",
    "        horiz_stack_feat = self.conv_horiz(horiz_stack)\n",
    "        horiz_stack_feat = horiz_stack_feat + self.conv_vert_to_horiz(vert_stack_feat)\n",
    "        horiz_val, horiz_gate = horiz_stack_feat.chunk(2, dim=1)\n",
    "        horiz_stack_feat = torch.tanh(horiz_val) * torch.sigmoid(horiz_gate)\n",
    "        horiz_stack_out = self.conv_horiz_1x1(horiz_stack_feat)\n",
    "        horiz_stack_out = horiz_stack_out + horiz_stack\n",
    "\n",
    "        return vert_stack_out, horiz_stack_out"
   ]
  },
  {
   "cell_type": "code",
   "execution_count": null,
   "metadata": {
    "id": "FkS84wgggzjG"
   },
   "outputs": [],
   "source": [
    "class PixelCNN(pl.LightningModule):\n",
    "\n",
    "    def __init__(self, in_channels, hidden_channels, num_layers):\n",
    "        super(PixelCNN, self).__init__()\n",
    "        self.save_hyperparameters()\n",
    "\n",
    "        # initial convolutions, skip the center pixel\n",
    "        self.conv_init_vert = VerticalStackConvolution(in_channels=in_channels, out_channels=hidden_channels, kernel_size=3, mask_center=True)\n",
    "        self.conv_init_horiz = HorizontalStackConvolution(in_channels=in_channels, out_channels=hidden_channels, kernel_size=3, mask_center=True)\n",
    "\n",
    "        # convolution block of PixelCNN, use dilation to increase receptive field\n",
    "        self.conv_block = nn.ModuleList([\n",
    "            GatedMaskedConv2d(hidden_channels),\n",
    "            GatedMaskedConv2d(hidden_channels, dilation=1),\n",
    "            GatedMaskedConv2d(hidden_channels),\n",
    "            GatedMaskedConv2d(hidden_channels, dilation=2),\n",
    "            GatedMaskedConv2d(hidden_channels),\n",
    "            GatedMaskedConv2d(hidden_channels, dilation=1),\n",
    "            GatedMaskedConv2d(hidden_channels),\n",
    "        ])\n",
    "\n",
    "        # output convolution, convolution with 1x1 kernel, output is logits for each of the 256 values for each pixel\n",
    "        self.conv_out = nn.Conv2d(hidden_channels, in_channels * 256, kernel_size=1, padding=0)\n",
    "\n",
    "    def forward(self, x):\n",
    "        \"\"\"\n",
    "        Forward image through the network, return logits for each of the 256 values for each pixel\n",
    "        Input is a tensor of shape (B, C, H, W)\n",
    "        \"\"\"\n",
    "        # Scale input from 0-255 to -1-1\n",
    "        x = x.float() / 255. * 2 - 1\n",
    "\n",
    "        # initial convolutions\n",
    "        vert_stack = self.conv_init_vert(x)\n",
    "        horiz_stack = self.conv_init_horiz(x)\n",
    "\n",
    "        # convolution block\n",
    "        for conv in self.conv_block:\n",
    "            vert_stack, horiz_stack = conv(vert_stack, horiz_stack)\n",
    "\n",
    "        # ELU activation before output convolution for non-linearity on residual connection\n",
    "        out = self.conv_out(F.elu(horiz_stack))\n",
    "\n",
    "        # Output [B, Class, C, H, W]\n",
    "        return out.reshape(out.shape[0], 256, out.shape[1]//256, out.shape[2], out.shape[3])\n",
    "\n",
    "    def compute_likelihood(self, x):\n",
    "        \"\"\"\n",
    "        Compute the likelihood of the model\n",
    "        Input is a tensor of shape (B, C, H, W)\n",
    "        \"\"\"\n",
    "        out = self.forward(x)\n",
    "        nll = F.cross_entropy(out, x, reduction='none')\n",
    "        bpd = nll.mean(dim=(1,2,3)) / np.log2(np.exp(1)) # bits per dimension\n",
    "        return bpd.mean()\n",
    "\n",
    "    @torch.no_grad()\n",
    "    def sample(self, img_shape, img=None):\n",
    "        \"\"\"\n",
    "        Sample from the model\n",
    "        Inputs:\n",
    "            img_shape: tuple, shape of the image to sample (B, C, H, W)\n",
    "            img: torch.Tensor, image to continue sampling, if None, sample from -1s. Pixels to be filled should be -1s.\n",
    "        \"\"\"\n",
    "        if img is None:\n",
    "            img = torch.ones(img_shape) * -1\n",
    "\n",
    "        # Generation\n",
    "        for h in range(img.shape[2]):\n",
    "            for w in range(img.shape[3]):\n",
    "                for c in range(img.shape[1]):\n",
    "                    if (img[:, c, h, w] != -1).all().item():\n",
    "                        continue\n",
    "\n",
    "                    # Only consider the pixels to the right and below the current pixel\n",
    "                    pred = self.forward(img[:, :, :h+1, :])\n",
    "                    probs = F.softmax(pred[:, :, c, h, w], dim=-1) # compute the probabilities of the 256 values for the current pixel\n",
    "                    img[:, c, h, w] = torch.multinomial(probs, num_samples=1).squeeze(-1) # sample one value from the 256 values\n",
    "        return img\n",
    "\n",
    "    def configure_optimizers(self):\n",
    "        optimizer = torch.optim.Adam(self.parameters(), lr=1e-3)\n",
    "        scheduler = torch.optim.lr_scheduler.StepLR(optimizer, 1, gamma=0.99)\n",
    "        return [optimizer], [scheduler]\n",
    "\n",
    "    # batch_idx is provided by PyTorch Lightning to track which batch is being processed in the epoch\n",
    "    def training_step(self, batch, batch_idx):\n",
    "        loss = self.compute_likelihood(batch[0]) # batch[0] is the image, batch[1] is the label\n",
    "        self.log('train_bpd', loss)\n",
    "        return loss\n",
    "\n",
    "    def validation_step(self, batch, batch_idx):\n",
    "        loss = self.compute_likelihood(batch[0])\n",
    "        self.log('val_bpd', loss)\n",
    "\n",
    "    def test_step(self, batch, batch_idx):\n",
    "        loss = self.compute_likelihood(batch[0])\n",
    "        self.log('test_bpd', loss)"
   ]
  },
  {
   "cell_type": "code",
   "execution_count": null,
   "metadata": {
    "id": "UctqKvS4gzjG",
    "outputId": "b7c3151d-6f60-43ee-de79-0d83b3611e34"
   },
   "outputs": [
    {
     "data": {
      "image/png": "[encoded data removed]",
      "text/plain": [
       "<Figure size 640x480 with 2 Axes>"
      ]
     },
     "metadata": {},
     "output_type": "display_data"
    }
   ],
   "source": [
    "test_model = PixelCNN(in_channels=1, hidden_channels=64, num_layers=4)\n",
    "inp = torch.zeros(1,1,11,11)\n",
    "inp.requires_grad_()\n",
    "out = test_model(inp)\n",
    "show_center_receptive_field(inp, out.squeeze(dim=2))\n",
    "del inp, out, test_model"
   ]
  },
  {
   "cell_type": "code",
   "execution_count": null,
   "metadata": {
    "colab": {
     "referenced_widgets": [
      "6841a6682600495abcf04bf235ce71c0",
      "b500dfed210849b38be08cb1340b2b62",
      "ef54ee934aae4c7d8f95b67ffdd49ee5",
      "7452932da8a34babb72dd9ccca4913ef",
      "9582cb6fffad419eabeb102a77c354bc",
      "9f38d0c098a24eda8ad8985e740a3035",
      "acac02346cd24adfb55a126c81c20ab1",
      "0bed9324eef54547beb4ccb8c659177c",
      "87f0dea171aa4c52a07bde1b089d8d89",
      "6013e56dd71e48c7a117eee966077c18",
      "abf0ec156e4e478c937d4c1c8762b666",
      "af7ca9a433e64784a37ce83d72b50b3c",
      "ab8e04d33c9d4d6e96ed6ca0059b5bba",
      "4e901c975c0e41a4b5a09f13349bf5b5",
      "ffcb656ea01a4f16a048478248f9fc56",
      "542475815f0847bf83aa64728f7834cf",
      "3aef0c250ad6411281643d4699f0cd12",
      "4d52afb6cbe54bbc900f3187083e9661",
      "48b7fa170dbe401d93f2c4fb4d02868c",
      "fa23064852034820a482c7ce81aa17fc",
      "431c484d4c5d4ae8898329bdec1a16cf",
      "61cc4ab5b07d41e3b53801333a7221d0",
      "dbdff0db3aa74501b110d563eb9be217",
      "cac11a5a66374fa6918c1af5351dd6e8",
      "57b554685ed64fbbaf09b697bb98d340",
      "e708254161754a1caa97e1a328737e12",
      "8bcf5f8c24cc42658d76935b1abe5342",
      "d91504431e7049ab9b5bc61642143016",
      "c05a46f3eeb14fd6bd5fbbb259fbb159",
      "a33f743d91ee4208b4c83a41cf29c416",
      "a4774d5a0a9242f2b5a9ec6e1d7ceb59",
      "134d5896aa06452d8bf131b0dc8f5ef1",
      "c3e4b1dc6cb74aa2be0e54e64b4970d6",
      "31870e262b3145eca6cf0bd98a499ef2",
      "7fc9b5cec7f341ca87c69a8948a17824",
      "23ad1587117a42b19fdac91accfa9616",
      "be1ae2c0a6534efa9ea44fba71ed72e5",
      "e8b102acfd144f8da08a99d82697f953",
      "a2e9e2cdfcb849158759a9aa0410907d",
      "d9dc83e3169540c781b21ec09eb36fa1",
      "e3618d7bfd664c0ab5ab49dd0f46efc5",
      "a852bb63341246b788743fbe49ad41dc",
      "9d3e7ad017164c05bbf2d45a5861deb2",
      "c075e8736fdc46eeb3c23735d2ee7178",
      "abbae407798347af97a6ce11719fd385",
      "1ad543f502ec46b9bcfb8a7d4344064e"
     ]
    },
    "id": "qlNxuDnVgzjG",
    "outputId": "a2371d91-9bca-4bef-98d1-1abedf0e7723"
   },
   "outputs": [
    {
     "name": "stderr",
     "output_type": "stream",
     "text": [
      "GPU available: True (mps), used: True\n",
      "TPU available: False, using: 0 TPU cores\n",
      "IPU available: False, using: 0 IPUs\n",
      "HPU available: False, using: 0 HPUs\n",
      "\n",
      "  | Name            | Type                       | Params\n",
      "---------------------------------------------------------------\n",
      "0 | conv_init_vert  | VerticalStackConvolution   | 640   \n",
      "1 | conv_init_horiz | HorizontalStackConvolution | 256   \n",
      "2 | conv_block      | ModuleList                 | 834 K \n",
      "3 | conv_out        | Conv2d                     | 16.6 K\n",
      "---------------------------------------------------------------\n",
      "852 K     Trainable params\n",
      "0         Non-trainable params\n",
      "852 K     Total params\n",
      "3.409     Total estimated model params size (MB)\n"
     ]
    },
    {
     "name": "stdout",
     "output_type": "stream",
     "text": [
      "Training model from scratch...\n"
     ]
    },
    {
     "data": {
      "application/vnd.jupyter.widget-view+json": {
       "model_id": "6841a6682600495abcf04bf235ce71c0",
       "version_major": 2,
       "version_minor": 0
      },
      "text/plain": [
       "Sanity Checking: |          | 0/? [00:00<?, ?it/s]"
      ]
     },
     "metadata": {},
     "output_type": "display_data"
    },
    {
     "name": "stderr",
     "output_type": "stream",
     "text": [
      "/opt/homebrew/Caskroom/miniforge/base/envs/diffmap/lib/python3.11/site-packages/pytorch_lightning/trainer/connectors/data_connector.py:436: Consider setting `persistent_workers=True` in 'val_dataloader' to speed up the dataloader worker initialization.\n",
      "/opt/homebrew/Caskroom/miniforge/base/envs/diffmap/lib/python3.11/site-packages/pytorch_lightning/trainer/connectors/data_connector.py:436: Consider setting `persistent_workers=True` in 'train_dataloader' to speed up the dataloader worker initialization.\n"
     ]
    },
    {
     "data": {
      "application/vnd.jupyter.widget-view+json": {
       "model_id": "b500dfed210849b38be08cb1340b2b62",
       "version_major": 2,
       "version_minor": 0
      },
      "text/plain": [
       "Training: |          | 0/? [00:00<?, ?it/s]"
      ]
     },
     "metadata": {},
     "output_type": "display_data"
    },
    {
     "data": {
      "application/vnd.jupyter.widget-view+json": {
       "model_id": "ef54ee934aae4c7d8f95b67ffdd49ee5",
       "version_major": 2,
       "version_minor": 0
      },
      "text/plain": [
       "Validation: |          | 0/? [00:00<?, ?it/s]"
      ]
     },
     "metadata": {},
     "output_type": "display_data"
    },
    {
     "name": "stderr",
     "output_type": "stream",
     "text": [
      "Metric val_bpd improved. New best score: 1.291\n"
     ]
    },
    {
     "data": {
      "application/vnd.jupyter.widget-view+json": {
       "model_id": "7452932da8a34babb72dd9ccca4913ef",
       "version_major": 2,
       "version_minor": 0
      },
      "text/plain": [
       "Validation: |          | 0/? [00:00<?, ?it/s]"
      ]
     },
     "metadata": {},
     "output_type": "display_data"
    },
    {
     "name": "stderr",
     "output_type": "stream",
     "text": [
      "Metric val_bpd improved by 0.078 >= min_delta = 0.0. New best score: 1.213\n"
     ]
    },
    {
     "data": {
      "application/vnd.jupyter.widget-view+json": {
       "model_id": "9582cb6fffad419eabeb102a77c354bc",
       "version_major": 2,
       "version_minor": 0
      },
      "text/plain": [
       "Validation: |          | 0/? [00:00<?, ?it/s]"
      ]
     },
     "metadata": {},
     "output_type": "display_data"
    },
    {
     "name": "stderr",
     "output_type": "stream",
     "text": [
      "Metric val_bpd improved by 0.036 >= min_delta = 0.0. New best score: 1.177\n"
     ]
    },
    {
     "data": {
      "application/vnd.jupyter.widget-view+json": {
       "model_id": "9f38d0c098a24eda8ad8985e740a3035",
       "version_major": 2,
       "version_minor": 0
      },
      "text/plain": [
       "Validation: |          | 0/? [00:00<?, ?it/s]"
      ]
     },
     "metadata": {},
     "output_type": "display_data"
    },
    {
     "name": "stderr",
     "output_type": "stream",
     "text": [
      "Metric val_bpd improved by 0.009 >= min_delta = 0.0. New best score: 1.168\n"
     ]
    },
    {
     "data": {
      "application/vnd.jupyter.widget-view+json": {
       "model_id": "acac02346cd24adfb55a126c81c20ab1",
       "version_major": 2,
       "version_minor": 0
      },
      "text/plain": [
       "Validation: |          | 0/? [00:00<?, ?it/s]"
      ]
     },
     "metadata": {},
     "output_type": "display_data"
    },
    {
     "name": "stderr",
     "output_type": "stream",
     "text": [
      "Metric val_bpd improved by 0.024 >= min_delta = 0.0. New best score: 1.144\n"
     ]
    },
    {
     "data": {
      "application/vnd.jupyter.widget-view+json": {
       "model_id": "0bed9324eef54547beb4ccb8c659177c",
       "version_major": 2,
       "version_minor": 0
      },
      "text/plain": [
       "Validation: |          | 0/? [00:00<?, ?it/s]"
      ]
     },
     "metadata": {},
     "output_type": "display_data"
    },
    {
     "name": "stderr",
     "output_type": "stream",
     "text": [
      "Metric val_bpd improved by 0.015 >= min_delta = 0.0. New best score: 1.130\n"
     ]
    },
    {
     "data": {
      "application/vnd.jupyter.widget-view+json": {
       "model_id": "87f0dea171aa4c52a07bde1b089d8d89",
       "version_major": 2,
       "version_minor": 0
      },
      "text/plain": [
       "Validation: |          | 0/? [00:00<?, ?it/s]"
      ]
     },
     "metadata": {},
     "output_type": "display_data"
    },
    {
     "name": "stderr",
     "output_type": "stream",
     "text": [
      "Metric val_bpd improved by 0.013 >= min_delta = 0.0. New best score: 1.117\n"
     ]
    },
    {
     "data": {
      "application/vnd.jupyter.widget-view+json": {
       "model_id": "6013e56dd71e48c7a117eee966077c18",
       "version_major": 2,
       "version_minor": 0
      },
      "text/plain": [
       "Validation: |          | 0/? [00:00<?, ?it/s]"
      ]
     },
     "metadata": {},
     "output_type": "display_data"
    },
    {
     "name": "stderr",
     "output_type": "stream",
     "text": [
      "Metric val_bpd improved by 0.012 >= min_delta = 0.0. New best score: 1.105\n"
     ]
    },
    {
     "data": {
      "application/vnd.jupyter.widget-view+json": {
       "model_id": "abf0ec156e4e478c937d4c1c8762b666",
       "version_major": 2,
       "version_minor": 0
      },
      "text/plain": [
       "Validation: |          | 0/? [00:00<?, ?it/s]"
      ]
     },
     "metadata": {},
     "output_type": "display_data"
    },
    {
     "name": "stderr",
     "output_type": "stream",
     "text": [
      "Metric val_bpd improved by 0.007 >= min_delta = 0.0. New best score: 1.097\n"
     ]
    },
    {
     "data": {
      "application/vnd.jupyter.widget-view+json": {
       "model_id": "af7ca9a433e64784a37ce83d72b50b3c",
       "version_major": 2,
       "version_minor": 0
      },
      "text/plain": [
       "Validation: |          | 0/? [00:00<?, ?it/s]"
      ]
     },
     "metadata": {},
     "output_type": "display_data"
    },
    {
     "name": "stderr",
     "output_type": "stream",
     "text": [
      "Metric val_bpd improved by 0.005 >= min_delta = 0.0. New best score: 1.092\n"
     ]
    },
    {
     "data": {
      "application/vnd.jupyter.widget-view+json": {
       "model_id": "ab8e04d33c9d4d6e96ed6ca0059b5bba",
       "version_major": 2,
       "version_minor": 0
      },
      "text/plain": [
       "Validation: |          | 0/? [00:00<?, ?it/s]"
      ]
     },
     "metadata": {},
     "output_type": "display_data"
    },
    {
     "name": "stderr",
     "output_type": "stream",
     "text": [
      "Metric val_bpd improved by 0.002 >= min_delta = 0.0. New best score: 1.090\n"
     ]
    },
    {
     "data": {
      "application/vnd.jupyter.widget-view+json": {
       "model_id": "4e901c975c0e41a4b5a09f13349bf5b5",
       "version_major": 2,
       "version_minor": 0
      },
      "text/plain": [
       "Validation: |          | 0/? [00:00<?, ?it/s]"
      ]
     },
     "metadata": {},
     "output_type": "display_data"
    },
    {
     "name": "stderr",
     "output_type": "stream",
     "text": [
      "Metric val_bpd improved by 0.001 >= min_delta = 0.0. New best score: 1.089\n"
     ]
    },
    {
     "data": {
      "application/vnd.jupyter.widget-view+json": {
       "model_id": "ffcb656ea01a4f16a048478248f9fc56",
       "version_major": 2,
       "version_minor": 0
      },
      "text/plain": [
       "Validation: |          | 0/? [00:00<?, ?it/s]"
      ]
     },
     "metadata": {},
     "output_type": "display_data"
    },
    {
     "name": "stderr",
     "output_type": "stream",
     "text": [
      "Metric val_bpd improved by 0.007 >= min_delta = 0.0. New best score: 1.082\n"
     ]
    },
    {
     "data": {
      "application/vnd.jupyter.widget-view+json": {
       "model_id": "542475815f0847bf83aa64728f7834cf",
       "version_major": 2,
       "version_minor": 0
      },
      "text/plain": [
       "Validation: |          | 0/? [00:00<?, ?it/s]"
      ]
     },
     "metadata": {},
     "output_type": "display_data"
    },
    {
     "name": "stderr",
     "output_type": "stream",
     "text": [
      "Metric val_bpd improved by 0.003 >= min_delta = 0.0. New best score: 1.079\n"
     ]
    },
    {
     "data": {
      "application/vnd.jupyter.widget-view+json": {
       "model_id": "3aef0c250ad6411281643d4699f0cd12",
       "version_major": 2,
       "version_minor": 0
      },
      "text/plain": [
       "Validation: |          | 0/? [00:00<?, ?it/s]"
      ]
     },
     "metadata": {},
     "output_type": "display_data"
    },
    {
     "name": "stderr",
     "output_type": "stream",
     "text": [
      "Metric val_bpd improved by 0.003 >= min_delta = 0.0. New best score: 1.076\n"
     ]
    },
    {
     "data": {
      "application/vnd.jupyter.widget-view+json": {
       "model_id": "4d52afb6cbe54bbc900f3187083e9661",
       "version_major": 2,
       "version_minor": 0
      },
      "text/plain": [
       "Validation: |          | 0/? [00:00<?, ?it/s]"
      ]
     },
     "metadata": {},
     "output_type": "display_data"
    },
    {
     "name": "stderr",
     "output_type": "stream",
     "text": [
      "Metric val_bpd improved by 0.003 >= min_delta = 0.0. New best score: 1.074\n"
     ]
    },
    {
     "data": {
      "application/vnd.jupyter.widget-view+json": {
       "model_id": "48b7fa170dbe401d93f2c4fb4d02868c",
       "version_major": 2,
       "version_minor": 0
      },
      "text/plain": [
       "Validation: |          | 0/? [00:00<?, ?it/s]"
      ]
     },
     "metadata": {},
     "output_type": "display_data"
    },
    {
     "name": "stderr",
     "output_type": "stream",
     "text": [
      "Metric val_bpd improved by 0.004 >= min_delta = 0.0. New best score: 1.070\n"
     ]
    },
    {
     "data": {
      "application/vnd.jupyter.widget-view+json": {
       "model_id": "fa23064852034820a482c7ce81aa17fc",
       "version_major": 2,
       "version_minor": 0
      },
      "text/plain": [
       "Validation: |          | 0/? [00:00<?, ?it/s]"
      ]
     },
     "metadata": {},
     "output_type": "display_data"
    },
    {
     "name": "stderr",
     "output_type": "stream",
     "text": [
      "Metric val_bpd improved by 0.001 >= min_delta = 0.0. New best score: 1.069\n"
     ]
    },
    {
     "data": {
      "application/vnd.jupyter.widget-view+json": {
       "model_id": "431c484d4c5d4ae8898329bdec1a16cf",
       "version_major": 2,
       "version_minor": 0
      },
      "text/plain": [
       "Validation: |          | 0/? [00:00<?, ?it/s]"
      ]
     },
     "metadata": {},
     "output_type": "display_data"
    },
    {
     "name": "stderr",
     "output_type": "stream",
     "text": [
      "Metric val_bpd improved by 0.003 >= min_delta = 0.0. New best score: 1.067\n"
     ]
    },
    {
     "data": {
      "application/vnd.jupyter.widget-view+json": {
       "model_id": "61cc4ab5b07d41e3b53801333a7221d0",
       "version_major": 2,
       "version_minor": 0
      },
      "text/plain": [
       "Validation: |          | 0/? [00:00<?, ?it/s]"
      ]
     },
     "metadata": {},
     "output_type": "display_data"
    },
    {
     "name": "stderr",
     "output_type": "stream",
     "text": [
      "Metric val_bpd improved by 0.000 >= min_delta = 0.0. New best score: 1.067\n"
     ]
    },
    {
     "data": {
      "application/vnd.jupyter.widget-view+json": {
       "model_id": "dbdff0db3aa74501b110d563eb9be217",
       "version_major": 2,
       "version_minor": 0
      },
      "text/plain": [
       "Validation: |          | 0/? [00:00<?, ?it/s]"
      ]
     },
     "metadata": {},
     "output_type": "display_data"
    },
    {
     "data": {
      "application/vnd.jupyter.widget-view+json": {
       "model_id": "cac11a5a66374fa6918c1af5351dd6e8",
       "version_major": 2,
       "version_minor": 0
      },
      "text/plain": [
       "Validation: |          | 0/? [00:00<?, ?it/s]"
      ]
     },
     "metadata": {},
     "output_type": "display_data"
    },
    {
     "name": "stderr",
     "output_type": "stream",
     "text": [
      "Metric val_bpd improved by 0.003 >= min_delta = 0.0. New best score: 1.064\n"
     ]
    },
    {
     "data": {
      "application/vnd.jupyter.widget-view+json": {
       "model_id": "57b554685ed64fbbaf09b697bb98d340",
       "version_major": 2,
       "version_minor": 0
      },
      "text/plain": [
       "Validation: |          | 0/? [00:00<?, ?it/s]"
      ]
     },
     "metadata": {},
     "output_type": "display_data"
    },
    {
     "data": {
      "application/vnd.jupyter.widget-view+json": {
       "model_id": "e708254161754a1caa97e1a328737e12",
       "version_major": 2,
       "version_minor": 0
      },
      "text/plain": [
       "Validation: |          | 0/? [00:00<?, ?it/s]"
      ]
     },
     "metadata": {},
     "output_type": "display_data"
    },
    {
     "data": {
      "application/vnd.jupyter.widget-view+json": {
       "model_id": "8bcf5f8c24cc42658d76935b1abe5342",
       "version_major": 2,
       "version_minor": 0
      },
      "text/plain": [
       "Validation: |          | 0/? [00:00<?, ?it/s]"
      ]
     },
     "metadata": {},
     "output_type": "display_data"
    },
    {
     "name": "stderr",
     "output_type": "stream",
     "text": [
      "Metric val_bpd improved by 0.005 >= min_delta = 0.0. New best score: 1.059\n"
     ]
    },
    {
     "data": {
      "application/vnd.jupyter.widget-view+json": {
       "model_id": "d91504431e7049ab9b5bc61642143016",
       "version_major": 2,
       "version_minor": 0
      },
      "text/plain": [
       "Validation: |          | 0/? [00:00<?, ?it/s]"
      ]
     },
     "metadata": {},
     "output_type": "display_data"
    },
    {
     "name": "stderr",
     "output_type": "stream",
     "text": [
      "Metric val_bpd improved by 0.000 >= min_delta = 0.0. New best score: 1.058\n"
     ]
    },
    {
     "data": {
      "application/vnd.jupyter.widget-view+json": {
       "model_id": "c05a46f3eeb14fd6bd5fbbb259fbb159",
       "version_major": 2,
       "version_minor": 0
      },
      "text/plain": [
       "Validation: |          | 0/? [00:00<?, ?it/s]"
      ]
     },
     "metadata": {},
     "output_type": "display_data"
    },
    {
     "name": "stderr",
     "output_type": "stream",
     "text": [
      "Metric val_bpd improved by 0.001 >= min_delta = 0.0. New best score: 1.057\n"
     ]
    },
    {
     "data": {
      "application/vnd.jupyter.widget-view+json": {
       "model_id": "a33f743d91ee4208b4c83a41cf29c416",
       "version_major": 2,
       "version_minor": 0
      },
      "text/plain": [
       "Validation: |          | 0/? [00:00<?, ?it/s]"
      ]
     },
     "metadata": {},
     "output_type": "display_data"
    },
    {
     "data": {
      "application/vnd.jupyter.widget-view+json": {
       "model_id": "a4774d5a0a9242f2b5a9ec6e1d7ceb59",
       "version_major": 2,
       "version_minor": 0
      },
      "text/plain": [
       "Validation: |          | 0/? [00:00<?, ?it/s]"
      ]
     },
     "metadata": {},
     "output_type": "display_data"
    },
    {
     "name": "stderr",
     "output_type": "stream",
     "text": [
      "Metric val_bpd improved by 0.001 >= min_delta = 0.0. New best score: 1.056\n"
     ]
    },
    {
     "data": {
      "application/vnd.jupyter.widget-view+json": {
       "model_id": "134d5896aa06452d8bf131b0dc8f5ef1",
       "version_major": 2,
       "version_minor": 0
      },
      "text/plain": [
       "Validation: |          | 0/? [00:00<?, ?it/s]"
      ]
     },
     "metadata": {},
     "output_type": "display_data"
    },
    {
     "name": "stderr",
     "output_type": "stream",
     "text": [
      "Metric val_bpd improved by 0.001 >= min_delta = 0.0. New best score: 1.055\n"
     ]
    },
    {
     "data": {
      "application/vnd.jupyter.widget-view+json": {
       "model_id": "c3e4b1dc6cb74aa2be0e54e64b4970d6",
       "version_major": 2,
       "version_minor": 0
      },
      "text/plain": [
       "Validation: |          | 0/? [00:00<?, ?it/s]"
      ]
     },
     "metadata": {},
     "output_type": "display_data"
    },
    {
     "name": "stderr",
     "output_type": "stream",
     "text": [
      "Metric val_bpd improved by 0.001 >= min_delta = 0.0. New best score: 1.055\n"
     ]
    },
    {
     "data": {
      "application/vnd.jupyter.widget-view+json": {
       "model_id": "31870e262b3145eca6cf0bd98a499ef2",
       "version_major": 2,
       "version_minor": 0
      },
      "text/plain": [
       "Validation: |          | 0/? [00:00<?, ?it/s]"
      ]
     },
     "metadata": {},
     "output_type": "display_data"
    },
    {
     "name": "stderr",
     "output_type": "stream",
     "text": [
      "Metric val_bpd improved by 0.000 >= min_delta = 0.0. New best score: 1.055\n"
     ]
    },
    {
     "data": {
      "application/vnd.jupyter.widget-view+json": {
       "model_id": "7fc9b5cec7f341ca87c69a8948a17824",
       "version_major": 2,
       "version_minor": 0
      },
      "text/plain": [
       "Validation: |          | 0/? [00:00<?, ?it/s]"
      ]
     },
     "metadata": {},
     "output_type": "display_data"
    },
    {
     "name": "stderr",
     "output_type": "stream",
     "text": [
      "Metric val_bpd improved by 0.000 >= min_delta = 0.0. New best score: 1.054\n"
     ]
    },
    {
     "data": {
      "application/vnd.jupyter.widget-view+json": {
       "model_id": "23ad1587117a42b19fdac91accfa9616",
       "version_major": 2,
       "version_minor": 0
      },
      "text/plain": [
       "Validation: |          | 0/? [00:00<?, ?it/s]"
      ]
     },
     "metadata": {},
     "output_type": "display_data"
    },
    {
     "name": "stderr",
     "output_type": "stream",
     "text": [
      "Metric val_bpd improved by 0.002 >= min_delta = 0.0. New best score: 1.053\n"
     ]
    },
    {
     "data": {
      "application/vnd.jupyter.widget-view+json": {
       "model_id": "be1ae2c0a6534efa9ea44fba71ed72e5",
       "version_major": 2,
       "version_minor": 0
      },
      "text/plain": [
       "Validation: |          | 0/? [00:00<?, ?it/s]"
      ]
     },
     "metadata": {},
     "output_type": "display_data"
    },
    {
     "data": {
      "application/vnd.jupyter.widget-view+json": {
       "model_id": "e8b102acfd144f8da08a99d82697f953",
       "version_major": 2,
       "version_minor": 0
      },
      "text/plain": [
       "Validation: |          | 0/? [00:00<?, ?it/s]"
      ]
     },
     "metadata": {},
     "output_type": "display_data"
    },
    {
     "name": "stderr",
     "output_type": "stream",
     "text": [
      "Metric val_bpd improved by 0.000 >= min_delta = 0.0. New best score: 1.053\n"
     ]
    },
    {
     "data": {
      "application/vnd.jupyter.widget-view+json": {
       "model_id": "a2e9e2cdfcb849158759a9aa0410907d",
       "version_major": 2,
       "version_minor": 0
      },
      "text/plain": [
       "Validation: |          | 0/? [00:00<?, ?it/s]"
      ]
     },
     "metadata": {},
     "output_type": "display_data"
    },
    {
     "name": "stderr",
     "output_type": "stream",
     "text": [
      "Metric val_bpd improved by 0.002 >= min_delta = 0.0. New best score: 1.051\n"
     ]
    },
    {
     "data": {
      "application/vnd.jupyter.widget-view+json": {
       "model_id": "d9dc83e3169540c781b21ec09eb36fa1",
       "version_major": 2,
       "version_minor": 0
      },
      "text/plain": [
       "Validation: |          | 0/? [00:00<?, ?it/s]"
      ]
     },
     "metadata": {},
     "output_type": "display_data"
    },
    {
     "data": {
      "application/vnd.jupyter.widget-view+json": {
       "model_id": "e3618d7bfd664c0ab5ab49dd0f46efc5",
       "version_major": 2,
       "version_minor": 0
      },
      "text/plain": [
       "Validation: |          | 0/? [00:00<?, ?it/s]"
      ]
     },
     "metadata": {},
     "output_type": "display_data"
    },
    {
     "data": {
      "application/vnd.jupyter.widget-view+json": {
       "model_id": "a852bb63341246b788743fbe49ad41dc",
       "version_major": 2,
       "version_minor": 0
      },
      "text/plain": [
       "Validation: |          | 0/? [00:00<?, ?it/s]"
      ]
     },
     "metadata": {},
     "output_type": "display_data"
    },
    {
     "data": {
      "application/vnd.jupyter.widget-view+json": {
       "model_id": "9d3e7ad017164c05bbf2d45a5861deb2",
       "version_major": 2,
       "version_minor": 0
      },
      "text/plain": [
       "Validation: |          | 0/? [00:00<?, ?it/s]"
      ]
     },
     "metadata": {},
     "output_type": "display_data"
    },
    {
     "data": {
      "application/vnd.jupyter.widget-view+json": {
       "model_id": "c075e8736fdc46eeb3c23735d2ee7178",
       "version_major": 2,
       "version_minor": 0
      },
      "text/plain": [
       "Validation: |          | 0/? [00:00<?, ?it/s]"
      ]
     },
     "metadata": {},
     "output_type": "display_data"
    },
    {
     "name": "stderr",
     "output_type": "stream",
     "text": [
      "Monitored metric val_bpd did not improve in the last 5 records. Best score: 1.051. Signaling Trainer to stop.\n",
      "/opt/homebrew/Caskroom/miniforge/base/envs/diffmap/lib/python3.11/site-packages/lightning_fabric/utilities/cloud_io.py:56: You are using `torch.load` with `weights_only=False` (the current default value), which uses the default pickle module implicitly. It is possible to construct malicious pickle data which will execute arbitrary code during unpickling (See https://github.com/pytorch/pytorch/blob/main/SECURITY.md#untrusted-models for more details). In a future release, the default value for `weights_only` will be flipped to `True`. This limits the functions that could be executed during unpickling. Arbitrary objects will no longer be allowed to be loaded via this mode unless they are explicitly allowlisted by the user via `torch.serialization.add_safe_globals`. We recommend you start setting `weights_only=True` for any use case where you don't have full control of the loaded file. Please open an issue on GitHub for any issues related to this experimental feature.\n"
     ]
    },
    {
     "data": {
      "application/vnd.jupyter.widget-view+json": {
       "model_id": "abbae407798347af97a6ce11719fd385",
       "version_major": 2,
       "version_minor": 0
      },
      "text/plain": [
       "Validation: |          | 0/? [00:00<?, ?it/s]"
      ]
     },
     "metadata": {},
     "output_type": "display_data"
    },
    {
     "data": {
      "text/html": [
       "<pre style=\"white-space:pre;overflow-x:auto;line-height:normal;font-family:Menlo,'DejaVu Sans Mono',consolas,'Courier New',monospace\">┏━━━━━━━━━━━━━━━━━━━━━━━━━━━┳━━━━━━━━━━━━━━━━━━━━━━━━━━━┓\n",
       "┃<span style=\"font-weight: bold\">      Validate metric      </span>┃<span style=\"font-weight: bold\">       DataLoader 0        </span>┃\n",
       "┡━━━━━━━━━━━━━━━━━━━━━━━━━━━╇━━━━━━━━━━━━━━━━━━━━━━━━━━━┩\n",
       "│<span style=\"color: #008080; text-decoration-color: #008080\">          val_bpd          </span>│<span style=\"color: #800080; text-decoration-color: #800080\">    1.0508787631988525     </span>│\n",
       "└───────────────────────────┴───────────────────────────┘\n",
       "</pre>\n"
      ],
      "text/plain": [
       "┏━━━━━━━━━━━━━━━━━━━━━━━━━━━┳━━━━━━━━━━━━━━━━━━━━━━━━━━━┓\n",
       "┃\u001b[1m \u001b[0m\u001b[1m     Validate metric     \u001b[0m\u001b[1m \u001b[0m┃\u001b[1m \u001b[0m\u001b[1m      DataLoader 0       \u001b[0m\u001b[1m \u001b[0m┃\n",
       "┡━━━━━━━━━━━━━━━━━━━━━━━━━━━╇━━━━━━━━━━━━━━━━━━━━━━━━━━━┩\n",
       "│\u001b[36m \u001b[0m\u001b[36m         val_bpd         \u001b[0m\u001b[36m \u001b[0m│\u001b[35m \u001b[0m\u001b[35m   1.0508787631988525    \u001b[0m\u001b[35m \u001b[0m│\n",
       "└───────────────────────────┴───────────────────────────┘\n"
      ]
     },
     "metadata": {},
     "output_type": "display_data"
    },
    {
     "name": "stderr",
     "output_type": "stream",
     "text": [
      "/opt/homebrew/Caskroom/miniforge/base/envs/diffmap/lib/python3.11/site-packages/pytorch_lightning/trainer/connectors/data_connector.py:436: Consider setting `persistent_workers=True` in 'test_dataloader' to speed up the dataloader worker initialization.\n"
     ]
    },
    {
     "data": {
      "application/vnd.jupyter.widget-view+json": {
       "model_id": "1ad543f502ec46b9bcfb8a7d4344064e",
       "version_major": 2,
       "version_minor": 0
      },
      "text/plain": [
       "Testing: |          | 0/? [00:00<?, ?it/s]"
      ]
     },
     "metadata": {},
     "output_type": "display_data"
    },
    {
     "data": {
      "text/html": [
       "<pre style=\"white-space:pre;overflow-x:auto;line-height:normal;font-family:Menlo,'DejaVu Sans Mono',consolas,'Courier New',monospace\">┏━━━━━━━━━━━━━━━━━━━━━━━━━━━┳━━━━━━━━━━━━━━━━━━━━━━━━━━━┓\n",
       "┃<span style=\"font-weight: bold\">        Test metric        </span>┃<span style=\"font-weight: bold\">       DataLoader 0        </span>┃\n",
       "┡━━━━━━━━━━━━━━━━━━━━━━━━━━━╇━━━━━━━━━━━━━━━━━━━━━━━━━━━┩\n",
       "│<span style=\"color: #008080; text-decoration-color: #008080\">         test_bpd          </span>│<span style=\"color: #800080; text-decoration-color: #800080\">    1.0508787631988525     </span>│\n",
       "└───────────────────────────┴───────────────────────────┘\n",
       "</pre>\n"
      ],
      "text/plain": [
       "┏━━━━━━━━━━━━━━━━━━━━━━━━━━━┳━━━━━━━━━━━━━━━━━━━━━━━━━━━┓\n",
       "┃\u001b[1m \u001b[0m\u001b[1m       Test metric       \u001b[0m\u001b[1m \u001b[0m┃\u001b[1m \u001b[0m\u001b[1m      DataLoader 0       \u001b[0m\u001b[1m \u001b[0m┃\n",
       "┡━━━━━━━━━━━━━━━━━━━━━━━━━━━╇━━━━━━━━━━━━━━━━━━━━━━━━━━━┩\n",
       "│\u001b[36m \u001b[0m\u001b[36m        test_bpd         \u001b[0m\u001b[36m \u001b[0m│\u001b[35m \u001b[0m\u001b[35m   1.0508787631988525    \u001b[0m\u001b[35m \u001b[0m│\n",
       "└───────────────────────────┴───────────────────────────┘\n"
      ]
     },
     "metadata": {},
     "output_type": "display_data"
    },
    {
     "name": "stdout",
     "output_type": "stream",
     "text": [
      "Validation BPD: 1.0509\n",
      "Test BPD: 1.0509\n"
     ]
    },
    {
     "ename": "RuntimeError",
     "evalue": "Given groups=1, weight of size [64, 1, 3, 3], expected input[1, 16, 1, 8] to have 1 channels, but got 16 channels instead",
     "output_type": "error",
     "traceback": [
      "\u001b[0;31m---------------------------------------------------------------------------\u001b[0m",
      "\u001b[0;31mRuntimeError\u001b[0m                              Traceback (most recent call last)",
      "Cell \u001b[0;32mIn[257], line 104\u001b[0m\n\u001b[1;32m    102\u001b[0m model\u001b[38;5;241m.\u001b[39meval()\n\u001b[1;32m    103\u001b[0m \u001b[38;5;28;01mwith\u001b[39;00m torch\u001b[38;5;241m.\u001b[39mno_grad():\n\u001b[0;32m--> 104\u001b[0m     samples \u001b[38;5;241m=\u001b[39m \u001b[43mmodel\u001b[49m\u001b[38;5;241;43m.\u001b[39;49m\u001b[43msample\u001b[49m\u001b[43m(\u001b[49m\u001b[43m(\u001b[49m\u001b[38;5;241;43m16\u001b[39;49m\u001b[43m,\u001b[49m\u001b[43m \u001b[49m\u001b[38;5;241;43m1\u001b[39;49m\u001b[43m,\u001b[49m\u001b[43m \u001b[49m\u001b[38;5;241;43m8\u001b[39;49m\u001b[43m,\u001b[49m\u001b[43m \u001b[49m\u001b[38;5;241;43m8\u001b[39;49m\u001b[43m)\u001b[49m\u001b[43m)\u001b[49m\n\u001b[1;32m    106\u001b[0m \u001b[38;5;66;03m# Display samples\u001b[39;00m\n\u001b[1;32m    107\u001b[0m samples_grid \u001b[38;5;241m=\u001b[39m torchvision\u001b[38;5;241m.\u001b[39mutils\u001b[38;5;241m.\u001b[39mmake_grid(samples, nrow\u001b[38;5;241m=\u001b[39m\u001b[38;5;241m4\u001b[39m, normalize\u001b[38;5;241m=\u001b[39m\u001b[38;5;28;01mTrue\u001b[39;00m, value_range\u001b[38;5;241m=\u001b[39m(\u001b[38;5;241m-\u001b[39m\u001b[38;5;241m1\u001b[39m,\u001b[38;5;241m1\u001b[39m))\n",
      "File \u001b[0;32m/opt/homebrew/Caskroom/miniforge/base/envs/diffmap/lib/python3.11/site-packages/torch/utils/_contextlib.py:116\u001b[0m, in \u001b[0;36mcontext_decorator.<locals>.decorate_context\u001b[0;34m(*args, **kwargs)\u001b[0m\n\u001b[1;32m    113\u001b[0m \u001b[38;5;129m@functools\u001b[39m\u001b[38;5;241m.\u001b[39mwraps(func)\n\u001b[1;32m    114\u001b[0m \u001b[38;5;28;01mdef\u001b[39;00m \u001b[38;5;21mdecorate_context\u001b[39m(\u001b[38;5;241m*\u001b[39margs, \u001b[38;5;241m*\u001b[39m\u001b[38;5;241m*\u001b[39mkwargs):\n\u001b[1;32m    115\u001b[0m     \u001b[38;5;28;01mwith\u001b[39;00m ctx_factory():\n\u001b[0;32m--> 116\u001b[0m         \u001b[38;5;28;01mreturn\u001b[39;00m \u001b[43mfunc\u001b[49m\u001b[43m(\u001b[49m\u001b[38;5;241;43m*\u001b[39;49m\u001b[43margs\u001b[49m\u001b[43m,\u001b[49m\u001b[43m \u001b[49m\u001b[38;5;241;43m*\u001b[39;49m\u001b[38;5;241;43m*\u001b[39;49m\u001b[43mkwargs\u001b[49m\u001b[43m)\u001b[49m\n",
      "Cell \u001b[0;32mIn[255], line 76\u001b[0m, in \u001b[0;36mPixelCNN.sample\u001b[0;34m(self, img_shape, img)\u001b[0m\n\u001b[1;32m     73\u001b[0m     \u001b[38;5;28;01mcontinue\u001b[39;00m\n\u001b[1;32m     75\u001b[0m \u001b[38;5;66;03m# Only consider the pixels to the right and below the current pixel\u001b[39;00m\n\u001b[0;32m---> 76\u001b[0m pred \u001b[38;5;241m=\u001b[39m \u001b[38;5;28;43mself\u001b[39;49m\u001b[38;5;241;43m.\u001b[39;49m\u001b[43mforward\u001b[49m\u001b[43m(\u001b[49m\u001b[43mimg\u001b[49m\u001b[43m[\u001b[49m\u001b[43m:\u001b[49m\u001b[43m,\u001b[49m\u001b[43m \u001b[49m\u001b[43m:\u001b[49m\u001b[43m,\u001b[49m\u001b[43m \u001b[49m\u001b[43mh\u001b[49m\u001b[38;5;241;43m+\u001b[39;49m\u001b[38;5;241;43m1\u001b[39;49m\u001b[43m,\u001b[49m\u001b[43m \u001b[49m\u001b[43m:\u001b[49m\u001b[43m]\u001b[49m\u001b[43m)\u001b[49m\n\u001b[1;32m     77\u001b[0m probs \u001b[38;5;241m=\u001b[39m F\u001b[38;5;241m.\u001b[39msoftmax(pred[:, :, c, h, w], dim\u001b[38;5;241m=\u001b[39m\u001b[38;5;241m-\u001b[39m\u001b[38;5;241m1\u001b[39m) \u001b[38;5;66;03m# compute the probabilities of the 256 values for the current pixel\u001b[39;00m\n\u001b[1;32m     78\u001b[0m img[:, c, h, w] \u001b[38;5;241m=\u001b[39m torch\u001b[38;5;241m.\u001b[39mmultinomial(probs, num_samples\u001b[38;5;241m=\u001b[39m\u001b[38;5;241m1\u001b[39m)\u001b[38;5;241m.\u001b[39msqueeze(\u001b[38;5;241m-\u001b[39m\u001b[38;5;241m1\u001b[39m) \u001b[38;5;66;03m# sample one value from the 256 values\u001b[39;00m\n",
      "Cell \u001b[0;32mIn[255], line 34\u001b[0m, in \u001b[0;36mPixelCNN.forward\u001b[0;34m(self, x)\u001b[0m\n\u001b[1;32m     31\u001b[0m x \u001b[38;5;241m=\u001b[39m x\u001b[38;5;241m.\u001b[39mfloat() \u001b[38;5;241m/\u001b[39m \u001b[38;5;241m255.\u001b[39m \u001b[38;5;241m*\u001b[39m \u001b[38;5;241m2\u001b[39m \u001b[38;5;241m-\u001b[39m \u001b[38;5;241m1\u001b[39m\n\u001b[1;32m     33\u001b[0m \u001b[38;5;66;03m# initial convolutions\u001b[39;00m\n\u001b[0;32m---> 34\u001b[0m vert_stack \u001b[38;5;241m=\u001b[39m \u001b[38;5;28;43mself\u001b[39;49m\u001b[38;5;241;43m.\u001b[39;49m\u001b[43mconv_init_vert\u001b[49m\u001b[43m(\u001b[49m\u001b[43mx\u001b[49m\u001b[43m)\u001b[49m\n\u001b[1;32m     35\u001b[0m horiz_stack \u001b[38;5;241m=\u001b[39m \u001b[38;5;28mself\u001b[39m\u001b[38;5;241m.\u001b[39mconv_init_horiz(x)\n\u001b[1;32m     37\u001b[0m \u001b[38;5;66;03m# convolution block\u001b[39;00m\n",
      "File \u001b[0;32m/opt/homebrew/Caskroom/miniforge/base/envs/diffmap/lib/python3.11/site-packages/torch/nn/modules/module.py:1736\u001b[0m, in \u001b[0;36mModule._wrapped_call_impl\u001b[0;34m(self, *args, **kwargs)\u001b[0m\n\u001b[1;32m   1734\u001b[0m     \u001b[38;5;28;01mreturn\u001b[39;00m \u001b[38;5;28mself\u001b[39m\u001b[38;5;241m.\u001b[39m_compiled_call_impl(\u001b[38;5;241m*\u001b[39margs, \u001b[38;5;241m*\u001b[39m\u001b[38;5;241m*\u001b[39mkwargs)  \u001b[38;5;66;03m# type: ignore[misc]\u001b[39;00m\n\u001b[1;32m   1735\u001b[0m \u001b[38;5;28;01melse\u001b[39;00m:\n\u001b[0;32m-> 1736\u001b[0m     \u001b[38;5;28;01mreturn\u001b[39;00m \u001b[38;5;28;43mself\u001b[39;49m\u001b[38;5;241;43m.\u001b[39;49m\u001b[43m_call_impl\u001b[49m\u001b[43m(\u001b[49m\u001b[38;5;241;43m*\u001b[39;49m\u001b[43margs\u001b[49m\u001b[43m,\u001b[49m\u001b[43m \u001b[49m\u001b[38;5;241;43m*\u001b[39;49m\u001b[38;5;241;43m*\u001b[39;49m\u001b[43mkwargs\u001b[49m\u001b[43m)\u001b[49m\n",
      "File \u001b[0;32m/opt/homebrew/Caskroom/miniforge/base/envs/diffmap/lib/python3.11/site-packages/torch/nn/modules/module.py:1747\u001b[0m, in \u001b[0;36mModule._call_impl\u001b[0;34m(self, *args, **kwargs)\u001b[0m\n\u001b[1;32m   1742\u001b[0m \u001b[38;5;66;03m# If we don't have any hooks, we want to skip the rest of the logic in\u001b[39;00m\n\u001b[1;32m   1743\u001b[0m \u001b[38;5;66;03m# this function, and just call forward.\u001b[39;00m\n\u001b[1;32m   1744\u001b[0m \u001b[38;5;28;01mif\u001b[39;00m \u001b[38;5;129;01mnot\u001b[39;00m (\u001b[38;5;28mself\u001b[39m\u001b[38;5;241m.\u001b[39m_backward_hooks \u001b[38;5;129;01mor\u001b[39;00m \u001b[38;5;28mself\u001b[39m\u001b[38;5;241m.\u001b[39m_backward_pre_hooks \u001b[38;5;129;01mor\u001b[39;00m \u001b[38;5;28mself\u001b[39m\u001b[38;5;241m.\u001b[39m_forward_hooks \u001b[38;5;129;01mor\u001b[39;00m \u001b[38;5;28mself\u001b[39m\u001b[38;5;241m.\u001b[39m_forward_pre_hooks\n\u001b[1;32m   1745\u001b[0m         \u001b[38;5;129;01mor\u001b[39;00m _global_backward_pre_hooks \u001b[38;5;129;01mor\u001b[39;00m _global_backward_hooks\n\u001b[1;32m   1746\u001b[0m         \u001b[38;5;129;01mor\u001b[39;00m _global_forward_hooks \u001b[38;5;129;01mor\u001b[39;00m _global_forward_pre_hooks):\n\u001b[0;32m-> 1747\u001b[0m     \u001b[38;5;28;01mreturn\u001b[39;00m \u001b[43mforward_call\u001b[49m\u001b[43m(\u001b[49m\u001b[38;5;241;43m*\u001b[39;49m\u001b[43margs\u001b[49m\u001b[43m,\u001b[49m\u001b[43m \u001b[49m\u001b[38;5;241;43m*\u001b[39;49m\u001b[38;5;241;43m*\u001b[39;49m\u001b[43mkwargs\u001b[49m\u001b[43m)\u001b[49m\n\u001b[1;32m   1749\u001b[0m result \u001b[38;5;241m=\u001b[39m \u001b[38;5;28;01mNone\u001b[39;00m\n\u001b[1;32m   1750\u001b[0m called_always_called_hooks \u001b[38;5;241m=\u001b[39m \u001b[38;5;28mset\u001b[39m()\n",
      "Cell \u001b[0;32mIn[247], line 36\u001b[0m, in \u001b[0;36mMaskedConv2d.forward\u001b[0;34m(self, x)\u001b[0m\n\u001b[1;32m     33\u001b[0m \u001b[38;5;28;01mdef\u001b[39;00m \u001b[38;5;21mforward\u001b[39m(\u001b[38;5;28mself\u001b[39m, x):\n\u001b[1;32m     34\u001b[0m     \u001b[38;5;66;03m# apply mask to the weights\u001b[39;00m\n\u001b[1;32m     35\u001b[0m     \u001b[38;5;28mself\u001b[39m\u001b[38;5;241m.\u001b[39mconv\u001b[38;5;241m.\u001b[39mweight\u001b[38;5;241m.\u001b[39mdata \u001b[38;5;241m*\u001b[39m\u001b[38;5;241m=\u001b[39m \u001b[38;5;28mself\u001b[39m\u001b[38;5;241m.\u001b[39mmask\n\u001b[0;32m---> 36\u001b[0m     \u001b[38;5;28;01mreturn\u001b[39;00m \u001b[38;5;28;43mself\u001b[39;49m\u001b[38;5;241;43m.\u001b[39;49m\u001b[43mconv\u001b[49m\u001b[43m(\u001b[49m\u001b[43mx\u001b[49m\u001b[43m)\u001b[49m\n",
      "File \u001b[0;32m/opt/homebrew/Caskroom/miniforge/base/envs/diffmap/lib/python3.11/site-packages/torch/nn/modules/module.py:1736\u001b[0m, in \u001b[0;36mModule._wrapped_call_impl\u001b[0;34m(self, *args, **kwargs)\u001b[0m\n\u001b[1;32m   1734\u001b[0m     \u001b[38;5;28;01mreturn\u001b[39;00m \u001b[38;5;28mself\u001b[39m\u001b[38;5;241m.\u001b[39m_compiled_call_impl(\u001b[38;5;241m*\u001b[39margs, \u001b[38;5;241m*\u001b[39m\u001b[38;5;241m*\u001b[39mkwargs)  \u001b[38;5;66;03m# type: ignore[misc]\u001b[39;00m\n\u001b[1;32m   1735\u001b[0m \u001b[38;5;28;01melse\u001b[39;00m:\n\u001b[0;32m-> 1736\u001b[0m     \u001b[38;5;28;01mreturn\u001b[39;00m \u001b[38;5;28;43mself\u001b[39;49m\u001b[38;5;241;43m.\u001b[39;49m\u001b[43m_call_impl\u001b[49m\u001b[43m(\u001b[49m\u001b[38;5;241;43m*\u001b[39;49m\u001b[43margs\u001b[49m\u001b[43m,\u001b[49m\u001b[43m \u001b[49m\u001b[38;5;241;43m*\u001b[39;49m\u001b[38;5;241;43m*\u001b[39;49m\u001b[43mkwargs\u001b[49m\u001b[43m)\u001b[49m\n",
      "File \u001b[0;32m/opt/homebrew/Caskroom/miniforge/base/envs/diffmap/lib/python3.11/site-packages/torch/nn/modules/module.py:1747\u001b[0m, in \u001b[0;36mModule._call_impl\u001b[0;34m(self, *args, **kwargs)\u001b[0m\n\u001b[1;32m   1742\u001b[0m \u001b[38;5;66;03m# If we don't have any hooks, we want to skip the rest of the logic in\u001b[39;00m\n\u001b[1;32m   1743\u001b[0m \u001b[38;5;66;03m# this function, and just call forward.\u001b[39;00m\n\u001b[1;32m   1744\u001b[0m \u001b[38;5;28;01mif\u001b[39;00m \u001b[38;5;129;01mnot\u001b[39;00m (\u001b[38;5;28mself\u001b[39m\u001b[38;5;241m.\u001b[39m_backward_hooks \u001b[38;5;129;01mor\u001b[39;00m \u001b[38;5;28mself\u001b[39m\u001b[38;5;241m.\u001b[39m_backward_pre_hooks \u001b[38;5;129;01mor\u001b[39;00m \u001b[38;5;28mself\u001b[39m\u001b[38;5;241m.\u001b[39m_forward_hooks \u001b[38;5;129;01mor\u001b[39;00m \u001b[38;5;28mself\u001b[39m\u001b[38;5;241m.\u001b[39m_forward_pre_hooks\n\u001b[1;32m   1745\u001b[0m         \u001b[38;5;129;01mor\u001b[39;00m _global_backward_pre_hooks \u001b[38;5;129;01mor\u001b[39;00m _global_backward_hooks\n\u001b[1;32m   1746\u001b[0m         \u001b[38;5;129;01mor\u001b[39;00m _global_forward_hooks \u001b[38;5;129;01mor\u001b[39;00m _global_forward_pre_hooks):\n\u001b[0;32m-> 1747\u001b[0m     \u001b[38;5;28;01mreturn\u001b[39;00m \u001b[43mforward_call\u001b[49m\u001b[43m(\u001b[49m\u001b[38;5;241;43m*\u001b[39;49m\u001b[43margs\u001b[49m\u001b[43m,\u001b[49m\u001b[43m \u001b[49m\u001b[38;5;241;43m*\u001b[39;49m\u001b[38;5;241;43m*\u001b[39;49m\u001b[43mkwargs\u001b[49m\u001b[43m)\u001b[49m\n\u001b[1;32m   1749\u001b[0m result \u001b[38;5;241m=\u001b[39m \u001b[38;5;28;01mNone\u001b[39;00m\n\u001b[1;32m   1750\u001b[0m called_always_called_hooks \u001b[38;5;241m=\u001b[39m \u001b[38;5;28mset\u001b[39m()\n",
      "File \u001b[0;32m/opt/homebrew/Caskroom/miniforge/base/envs/diffmap/lib/python3.11/site-packages/torch/nn/modules/conv.py:554\u001b[0m, in \u001b[0;36mConv2d.forward\u001b[0;34m(self, input)\u001b[0m\n\u001b[1;32m    553\u001b[0m \u001b[38;5;28;01mdef\u001b[39;00m \u001b[38;5;21mforward\u001b[39m(\u001b[38;5;28mself\u001b[39m, \u001b[38;5;28minput\u001b[39m: Tensor) \u001b[38;5;241m-\u001b[39m\u001b[38;5;241m>\u001b[39m Tensor:\n\u001b[0;32m--> 554\u001b[0m     \u001b[38;5;28;01mreturn\u001b[39;00m \u001b[38;5;28;43mself\u001b[39;49m\u001b[38;5;241;43m.\u001b[39;49m\u001b[43m_conv_forward\u001b[49m\u001b[43m(\u001b[49m\u001b[38;5;28;43minput\u001b[39;49m\u001b[43m,\u001b[49m\u001b[43m \u001b[49m\u001b[38;5;28;43mself\u001b[39;49m\u001b[38;5;241;43m.\u001b[39;49m\u001b[43mweight\u001b[49m\u001b[43m,\u001b[49m\u001b[43m \u001b[49m\u001b[38;5;28;43mself\u001b[39;49m\u001b[38;5;241;43m.\u001b[39;49m\u001b[43mbias\u001b[49m\u001b[43m)\u001b[49m\n",
      "File \u001b[0;32m/opt/homebrew/Caskroom/miniforge/base/envs/diffmap/lib/python3.11/site-packages/torch/nn/modules/conv.py:549\u001b[0m, in \u001b[0;36mConv2d._conv_forward\u001b[0;34m(self, input, weight, bias)\u001b[0m\n\u001b[1;32m    537\u001b[0m \u001b[38;5;28;01mif\u001b[39;00m \u001b[38;5;28mself\u001b[39m\u001b[38;5;241m.\u001b[39mpadding_mode \u001b[38;5;241m!=\u001b[39m \u001b[38;5;124m\"\u001b[39m\u001b[38;5;124mzeros\u001b[39m\u001b[38;5;124m\"\u001b[39m:\n\u001b[1;32m    538\u001b[0m     \u001b[38;5;28;01mreturn\u001b[39;00m F\u001b[38;5;241m.\u001b[39mconv2d(\n\u001b[1;32m    539\u001b[0m         F\u001b[38;5;241m.\u001b[39mpad(\n\u001b[1;32m    540\u001b[0m             \u001b[38;5;28minput\u001b[39m, \u001b[38;5;28mself\u001b[39m\u001b[38;5;241m.\u001b[39m_reversed_padding_repeated_twice, mode\u001b[38;5;241m=\u001b[39m\u001b[38;5;28mself\u001b[39m\u001b[38;5;241m.\u001b[39mpadding_mode\n\u001b[0;32m   (...)\u001b[0m\n\u001b[1;32m    547\u001b[0m         \u001b[38;5;28mself\u001b[39m\u001b[38;5;241m.\u001b[39mgroups,\n\u001b[1;32m    548\u001b[0m     )\n\u001b[0;32m--> 549\u001b[0m \u001b[38;5;28;01mreturn\u001b[39;00m \u001b[43mF\u001b[49m\u001b[38;5;241;43m.\u001b[39;49m\u001b[43mconv2d\u001b[49m\u001b[43m(\u001b[49m\n\u001b[1;32m    550\u001b[0m \u001b[43m    \u001b[49m\u001b[38;5;28;43minput\u001b[39;49m\u001b[43m,\u001b[49m\u001b[43m \u001b[49m\u001b[43mweight\u001b[49m\u001b[43m,\u001b[49m\u001b[43m \u001b[49m\u001b[43mbias\u001b[49m\u001b[43m,\u001b[49m\u001b[43m \u001b[49m\u001b[38;5;28;43mself\u001b[39;49m\u001b[38;5;241;43m.\u001b[39;49m\u001b[43mstride\u001b[49m\u001b[43m,\u001b[49m\u001b[43m \u001b[49m\u001b[38;5;28;43mself\u001b[39;49m\u001b[38;5;241;43m.\u001b[39;49m\u001b[43mpadding\u001b[49m\u001b[43m,\u001b[49m\u001b[43m \u001b[49m\u001b[38;5;28;43mself\u001b[39;49m\u001b[38;5;241;43m.\u001b[39;49m\u001b[43mdilation\u001b[49m\u001b[43m,\u001b[49m\u001b[43m \u001b[49m\u001b[38;5;28;43mself\u001b[39;49m\u001b[38;5;241;43m.\u001b[39;49m\u001b[43mgroups\u001b[49m\n\u001b[1;32m    551\u001b[0m \u001b[43m\u001b[49m\u001b[43m)\u001b[49m\n",
      "\u001b[0;31mRuntimeError\u001b[0m: Given groups=1, weight of size [64, 1, 3, 3], expected input[1, 16, 1, 8] to have 1 channels, but got 16 channels instead"
     ]
    }
   ],
   "source": [
    "import os\n",
    "from pytorch_lightning.callbacks import LearningRateMonitor, EarlyStopping, ModelCheckpoint\n",
    "from pytorch_lightning.loggers import TensorBoardLogger\n",
    "\n",
    "\n",
    "# Create generation callback to monitor training progress\n",
    "class GenerateCallback(pl.Callback):\n",
    "    def __init__(self, every_n_epochs=1):\n",
    "        \"\"\"\n",
    "        Inputs:\n",
    "            every_n_epochs - Only save those images every N epochs (default: 1)\n",
    "        \"\"\"\n",
    "        super().__init__()\n",
    "        self.every_n_epochs = every_n_epochs\n",
    "\n",
    "    def on_epoch_end(self, trainer, pl_module):\n",
    "        \"\"\"\n",
    "        This function is called after every epoch.\n",
    "        \"\"\"\n",
    "        if (trainer.current_epoch+1) % self.every_n_epochs == 0:\n",
    "            # Generate images\n",
    "            with torch.no_grad():\n",
    "                pl_module.eval()\n",
    "                imgs_shape = (4, 1, 11, 11)  # Generate 4 images\n",
    "                imgs = pl_module.sample(imgs_shape)\n",
    "                pl_module.train()\n",
    "\n",
    "            # Plot and save images\n",
    "            imgs = imgs.cpu()\n",
    "            imgs_grid = torchvision.utils.make_grid(imgs, nrow=4, normalize=True, value_range=(-1,1))\n",
    "            trainer.logger.experiment.add_image(\"generated_images\", imgs_grid, global_step=trainer.global_step)\n",
    "\n",
    "# # Set up model and training\n",
    "# CHECKPOINT_PATH = \"saved_models/pixelcnn.ckpt\"\n",
    "# os.makedirs(os.path.dirname(CHECKPOINT_PATH), exist_ok=True)\n",
    "\n",
    "def train_pixelcnn(train_loader, val_loader, **kwargs):\n",
    "    # Create a PyTorch Lightning trainer with the generation callback\n",
    "    trainer = pl.Trainer(\n",
    "        # default_root_dir=os.path.dirname(CHECKPOINT_PATH),\n",
    "        accelerator=\"auto\",\n",
    "        devices=1,\n",
    "        max_epochs=100,\n",
    "        callbacks=[\n",
    "            ModelCheckpoint(save_weights_only=True, mode=\"min\", monitor=\"val_bpd\"),\n",
    "            GenerateCallback(every_n_epochs=5),\n",
    "            # Early stopping\n",
    "            EarlyStopping(monitor=\"val_bpd\", mode=\"min\", patience=5, verbose=True),\n",
    "            LearningRateMonitor(logging_interval='epoch')\n",
    "        ],\n",
    "        enable_progress_bar=True,\n",
    "        logger=TensorBoardLogger(\"lightning_logs\", name=\"pixelcnn\")\n",
    "    )\n",
    "\n",
    "    # Check if pretrained model exists, if yes load it\n",
    "    if os.path.isfile(CHECKPOINT_PATH):\n",
    "        print(\"Found pretrained model, loading...\")\n",
    "        model = PixelCNN.load_from_checkpoint(CHECKPOINT_PATH)\n",
    "    else:\n",
    "        print(\"Training model from scratch...\")\n",
    "        model = PixelCNN(in_channels=1, hidden_channels=64, num_layers=7)\n",
    "        trainer.fit(model, train_loader, val_loader)\n",
    "        # Load best model after training\n",
    "        model = PixelCNN.load_from_checkpoint(trainer.checkpoint_callback.best_model_path)\n",
    "\n",
    "    # Test best model on validation and test set\n",
    "    val_result = trainer.validate(model, val_loader, verbose=True)\n",
    "    test_result = trainer.test(model, test_loader, verbose=True)\n",
    "\n",
    "    return model, val_result, test_result\n",
    "\n",
    "if __name__ == \"__main__\":\n",
    "\n",
    "    transform = transforms.Compose([\n",
    "        transforms.Resize(11),\n",
    "        transforms.ToTensor(),\n",
    "        # not using dequantization since we are going to learn the distribution over the each 256 values for each pixel\n",
    "        # transforms.Lambda(lambda x: x + 0.01 * torch.rand_like(x) / 256.),\n",
    "        # normalize to mean 0 and std 1 using standard MNIST mean and std\n",
    "        # transforms.Normalize((0.1307,), (0.3081,))\n",
    "\n",
    "        # need to discretize instead\n",
    "        # DiscretizeTransform()\n",
    "        transforms.Lambda(_discretize)\n",
    "    ])\n",
    "\n",
    "    train_set = torchvision.datasets.MNIST(root='./MNIST', train=True, transform=transform, download=True)\n",
    "    val_set = torchvision.datasets.MNIST(root='./MNIST', train=False, transform=transform, download=True)\n",
    "    test_dataset = torchvision.datasets.MNIST(root='./MNIST', train=False, transform=transform, download=True)\n",
    "\n",
    "    train_loader = DataLoader(train_set, batch_size=128, shuffle=True, num_workers=4)\n",
    "    val_loader = DataLoader(val_set, batch_size=128, shuffle=False, num_workers=4)\n",
    "    test_loader = DataLoader(test_dataset, batch_size=128, shuffle=False, num_workers=4)\n",
    "\n",
    "    # Train model with default parameters\n",
    "    model, val_result, test_result = train_pixelcnn(train_loader, val_loader)\n",
    "\n",
    "    print(f\"Validation BPD: {val_result[0]['val_bpd']:.4f}\")\n",
    "    print(f\"Test BPD: {test_result[0]['test_bpd']:.4f}\")"
   ]
  },
  {
   "cell_type": "code",
   "execution_count": null,
   "metadata": {
    "id": "IL-3IoW-gzjG",
    "outputId": "2a8d3b1b-bff0-4e61-8f36-a278b7c534aa"
   },
   "outputs": [
    {
     "name": "stdout",
     "output_type": "stream",
     "text": [
      "Loading checkpoint from: lightning_logs/pixelcnn/version_13/checkpoints/epoch=36-step=17353.ckpt\n",
      "Runtime Error: Mismatched Tensor types in NNPack convolutionOutput\n",
      "\n",
      "Trying alternative approach...\n"
     ]
    },
    {
     "name": "stderr",
     "output_type": "stream",
     "text": [
      "Clipping input data to the valid range for imshow with RGB data ([0..1] for floats or [0..255] for integers).\n"
     ]
    },
    {
     "data": {
      "image/png": "[encoded data removed]",
      "text/plain": [
       "<Figure size 400x400 with 1 Axes>"
      ]
     },
     "metadata": {},
     "output_type": "display_data"
    }
   ],
   "source": [
    "import glob\n",
    "\n",
    "def load_latest_model():\n",
    "    # Find all checkpoint files in the Lightning logs directory\n",
    "    checkpoint_files = glob.glob(\"lightning_logs/pixelcnn/version_*/checkpoints/*.ckpt\")\n",
    "\n",
    "    if not checkpoint_files:\n",
    "        raise FileNotFoundError(\"No checkpoint files found\")\n",
    "\n",
    "    # Get the most recent checkpoint file based on modification time\n",
    "    latest_checkpoint = max(checkpoint_files, key=os.path.getmtime)\n",
    "    print(f\"Loading checkpoint from: {latest_checkpoint}\")\n",
    "\n",
    "    # Load the model\n",
    "    model = PixelCNN.load_from_checkpoint(latest_checkpoint)\n",
    "\n",
    "    # Move model to appropriate device\n",
    "    device = torch.device(\"cuda\" if torch.cuda.is_available()\n",
    "                         else \"mps\" if torch.backends.mps.is_available()\n",
    "                         else \"cpu\")\n",
    "    model = model.to(device)\n",
    "    model.eval()  # Set to evaluation mode\n",
    "    return model, device\n",
    "\n",
    "# Usage\n",
    "try:\n",
    "    model, device = load_latest_model()\n",
    "\n",
    "    # Generate samples\n",
    "    with torch.no_grad():\n",
    "        # Create sample tensor on the same device as model\n",
    "        img_shape = (16, 1, 11, 11)\n",
    "        samples = model.sample(img_shape=img_shape)\n",
    "\n",
    "        # Move samples to CPU for visualization\n",
    "        samples = samples.cpu()\n",
    "\n",
    "    # Display samples\n",
    "    samples_grid = torchvision.utils.make_grid(images, nrow=4, pad_value=255)\n",
    "    samples_grid = samples_grid.clamp(0, 255)\n",
    "    plt.figure(figsize=(8,8))\n",
    "    plt.imshow(samples_grid.permute(1,2,0))\n",
    "    plt.axis('off')\n",
    "    plt.show()\n",
    "\n",
    "except FileNotFoundError as e:\n",
    "    print(f\"Error: {e}\")\n",
    "except RuntimeError as e:\n",
    "    print(f\"Runtime Error: {e}\")\n",
    "    print(\"\\nTrying alternative approach...\")\n",
    "\n",
    "    # If the above fails, try forcing CPU execution\n",
    "    model = model.cpu()\n",
    "    with torch.no_grad():\n",
    "        samples = model.sample(img_shape=(16, 1, 11, 11))\n",
    "        samples = samples.cpu()\n",
    "\n",
    "    visualize_images(samples)"
   ]
  },
  {
   "cell_type": "markdown",
   "metadata": {
    "id": "RExRcdxFgzjG"
   },
   "source": [
    "## Question 3: Energy-based Models\n",
    "\n",
    "- make a simple energy-based model with E(x,\\theta) = f_{\\theta}(x). Here, f_{\\theta}() is a simple 2-layer convolutional network (CNN). You should design this CNN yourself, which include (at least) 2 convolutional layers.\n",
    "- train and use Gibbs sampling and Langevin Dynamics method on USPS."
   ]
  },
  {
   "cell_type": "markdown",
   "metadata": {
    "id": "mLCFM3T6gzjG"
   },
   "source": [
    "For this question, I worked with:\n",
    "\n",
    "- (name, remark)\n",
    "- (name, remark)\n",
    "\n",
    "For this question, I referenced a few sites/ papers/ github repositories, especially:\n",
    "\n",
    "- (remark, link)\n",
    "- (remark, link)\n",
    "- (remark, link)\n",
    "- ...\n",
    "\n",
    "I spent ... amount of time, I have some suggestions ..."
   ]
  },
  {
   "cell_type": "markdown",
   "metadata": {
    "id": "-wlqfQaQgzjH"
   },
   "source": [
    "If you are interested in the above, start thinking about presentation topics and talk to Vahid. <br>\n",
    "If you are interested in something later on in the class, skim through the slides, also start thinking about presentation topics and talk to Vahid."
   ]
  },
  {
   "cell_type": "code",
   "execution_count": 5,
   "metadata": {
    "id": "t3Ke8_iHgzjH"
   },
   "outputs": [],
   "source": [
    "import random\n",
    "import numpy as np\n",
    "import torch\n",
    "import torch.nn as nn\n",
    "import torch.nn.functional as F\n",
    "import torch.optim as optim\n",
    "import torchvision\n",
    "\n",
    "try:\n",
    "    import pytorch_lightning as pl\n",
    "except ModuleNotFoundError:\n",
    "    !pip install pytorch-lightning\n",
    "    import pytorch_lightning as pl\n",
    "\n",
    "from torchvision import datasets, transforms\n",
    "from torch.utils.data import DataLoader\n",
    "from pytorch_lightning.callbacks import LearningRateMonitor, EarlyStopping, ModelCheckpoint\n",
    "from pytorch_lightning.loggers import TensorBoardLogger\n",
    "\n",
    "import matplotlib.pyplot as plt\n",
    "\n",
    "method = 'gibbs'\n",
    "CHECKPOINT_PATH = f\"saved_models/energy_model_{method}.ckpt\"\n",
    "device = torch.device(\"cuda\" if torch.cuda.is_available() else \"mps\" if torch.backends.mps.is_available() else \"cpu\")\n",
    "\n",
    "\n",
    "class Swish(nn.Module):\n",
    "\n",
    "    def forward(self, x):\n",
    "        return x * torch.sigmoid(x)\n",
    "\n",
    "\n",
    "class CNNModel(nn.Module):\n",
    "\n",
    "    def __init__(self, hidden_features=32, out_dim=1, **kwargs):\n",
    "        super().__init__()\n",
    "        # We increase the hidden dimension over layers. Here pre-calculated for simplicity.\n",
    "        c_hid1 = hidden_features//2\n",
    "        c_hid2 = hidden_features\n",
    "        c_hid3 = hidden_features*2\n",
    "\n",
    "        # Series of convolutions and Swish activation functions\n",
    "        self.cnn_layers = nn.Sequential(\n",
    "                nn.Conv2d(1, c_hid1, kernel_size=5, stride=2, padding=4), # [16x16] - Larger padding to get 32x32 image\n",
    "                Swish(),\n",
    "                nn.Conv2d(c_hid1, c_hid2, kernel_size=3, stride=2, padding=1), #  [8x8]\n",
    "                Swish(),\n",
    "                nn.Conv2d(c_hid2, c_hid3, kernel_size=3, stride=2, padding=1), # [4x4]\n",
    "                Swish(),\n",
    "                nn.Conv2d(c_hid3, c_hid3, kernel_size=3, stride=2, padding=1), # [2x2]\n",
    "                Swish(),\n",
    "                nn.Flatten(),\n",
    "                nn.Linear(c_hid3*4, c_hid3),\n",
    "                Swish(),\n",
    "                nn.Linear(c_hid3, out_dim)\n",
    "        )\n",
    "\n",
    "    def forward(self, x):\n",
    "        x = self.cnn_layers(x).squeeze(dim=-1)\n",
    "        return x"
   ]
  },
  {
   "cell_type": "code",
   "execution_count": 6,
   "metadata": {
    "id": "_JgxLMG-gzjH"
   },
   "outputs": [],
   "source": [
    "class Sampler:\n",
    "    def __init__(self, model, img_shape, sample_size, max_len=8192, method='langevin'):\n",
    "        \"\"\"\n",
    "        Inputs:\n",
    "            model - Neural network to use for modeling E_theta\n",
    "            img_shape - Shape of the images to model\n",
    "            sample_size - Batch size of the samples\n",
    "            max_len - Maximum number of data points to keep in the buffer\n",
    "            binary - If True, use binary pixels (0/1). If False, use continuous values\n",
    "            method - Sampling method to use. 'langevin' or 'gibbs'\n",
    "        \"\"\"\n",
    "        super().__init__()\n",
    "        self.model = model\n",
    "        self.img_shape = img_shape\n",
    "        self.sample_size = sample_size\n",
    "        self.max_len = max_len\n",
    "        self.method = method\n",
    "        # Initialize buffer with random samples\n",
    "        self.examples = [(torch.rand((1,)+img_shape) > 0.5).float() * 2 - 1 if self.method == 'gibbs'\n",
    "                        else (torch.rand((1,)+img_shape)*2-1)\n",
    "                        for _ in range(self.sample_size)]\n",
    "\n",
    "\n",
    "    def sample_new_exmps(self, steps=60, step_size=10, method='langevin'):\n",
    "        \"\"\"\n",
    "        Get new batch of samples using either Langevin dynamics or Gibbs sampling\n",
    "        \"\"\"\n",
    "        # Choose 95% of batch from buffer, 5% generate from scratch\n",
    "        n_new = np.random.binomial(self.sample_size, 0.05)\n",
    "        if self.method == 'gibbs':\n",
    "            rand_imgs = (torch.rand((n_new,) + self.img_shape) > 0.5).float() * 2 - 1\n",
    "        else:\n",
    "            rand_imgs = torch.rand((n_new,) + self.img_shape) * 2 - 1\n",
    "\n",
    "        old_imgs = torch.cat(random.choices(self.examples, k=self.sample_size-n_new), dim=0)\n",
    "        inp_imgs = torch.cat([rand_imgs, old_imgs], dim=0).detach().to(device)\n",
    "\n",
    "        # # Perform sampling\n",
    "        # print(\"Sampling:\")\n",
    "        # print(\"Shape of inp_imgs:\", inp_imgs.shape)\n",
    "        inp_imgs = self.generate_samples(self.model, inp_imgs, steps, step_size, method=method)\n",
    "\n",
    "        # Update buffer\n",
    "        self.examples = list(inp_imgs.to(torch.device(\"cpu\")).chunk(self.sample_size, dim=0)) + self.examples\n",
    "        self.examples = self.examples[:self.max_len]\n",
    "        return inp_imgs\n",
    "\n",
    "    @staticmethod\n",
    "    def generate_samples(model, inp_imgs, steps=60, step_size=10, return_img_per_step=False, method='langevin'):\n",
    "        \"\"\"\n",
    "        Function for sampling images for a given model.\n",
    "        Inputs:\n",
    "            model - Neural network to use for modeling E_theta\n",
    "            inp_imgs - Images to start from for sampling. If you want to generate new images, enter noise between -1 and 1.\n",
    "            steps - Number of iterations in the MCMC algorithm.\n",
    "            step_size - Learning rate nu in the algorithm above\n",
    "            return_img_per_step - If True, we return the sample at every iteration of the MCMC\n",
    "        \"\"\"\n",
    "        # Before MCMC: set model parameters to \"required_grad=False\"\n",
    "        # because we are only interested in the gradients of the input.\n",
    "        is_training = model.training\n",
    "        model.eval()\n",
    "\n",
    "        if method == 'langevin':\n",
    "            print(\"Langevin sampling:\")\n",
    "            for p in model.parameters():\n",
    "                p.requires_grad = False\n",
    "            inp_imgs.requires_grad = True\n",
    "\n",
    "            # Enable gradient calculation if not already the case\n",
    "            had_gradients_enabled = torch.is_grad_enabled()\n",
    "            torch.set_grad_enabled(True)\n",
    "\n",
    "            # We use a buffer tensor in which we generate noise each loop iteration.\n",
    "            # More efficient than creating a new tensor every iteration.\n",
    "            noise = torch.randn(inp_imgs.shape, device=inp_imgs.device)\n",
    "\n",
    "            # List for storing generations at each step (for later analysis)\n",
    "            imgs_per_step = []\n",
    "\n",
    "            # Loop over K (steps)\n",
    "            for _ in range(steps):\n",
    "                # Part 1: Add noise to the input.\n",
    "                noise.normal_(0, 0.005)\n",
    "                inp_imgs.data.add_(noise.data)\n",
    "                inp_imgs.data.clamp_(min=-1.0, max=1.0)\n",
    "\n",
    "                # Part 2: calculate gradients for the current input.\n",
    "                out_imgs = -model(inp_imgs)\n",
    "                out_imgs.sum().backward()\n",
    "                inp_imgs.grad.data.clamp_(-0.03, 0.03) # For stabilizing and preventing too high gradients\n",
    "\n",
    "                # Apply gradients to our current samples\n",
    "                inp_imgs.data.add_(-step_size * inp_imgs.grad.data)\n",
    "                inp_imgs.grad.detach_()\n",
    "                inp_imgs.grad.zero_()\n",
    "                inp_imgs.data.clamp_(min=-1.0, max=1.0)\n",
    "\n",
    "                if return_img_per_step:\n",
    "                    imgs_per_step.append(inp_imgs.clone().detach())\n",
    "\n",
    "            # Reactivate gradients for parameters for training\n",
    "            for p in model.parameters():\n",
    "                p.requires_grad = True\n",
    "            model.train(is_training)\n",
    "\n",
    "            # Reset gradient calculation to setting before this function\n",
    "            torch.set_grad_enabled(had_gradients_enabled)\n",
    "\n",
    "            if return_img_per_step:\n",
    "                return torch.stack(imgs_per_step, dim=0)\n",
    "            else:\n",
    "                return inp_imgs\n",
    "\n",
    "        elif method == 'gibbs':\n",
    "            for _ in range(steps):\n",
    "                # flip small number of pixels in the image (-1 to 1 or vice versa)\n",
    "                mask = torch.rand_like(inp_imgs) < 0.01\n",
    "                inp_imgs = inp_imgs.clone()\n",
    "                inp_imgs[mask] = -inp_imgs[mask]  # flip the selected pixels\n",
    "\n",
    "                # Perform Gibbs sampling step\n",
    "                inp_imgs = Sampler.gibbs_step(model, inp_imgs)\n",
    "            return inp_imgs\n",
    "\n",
    "\n",
    "    @staticmethod \n",
    "    def gibbs_step(model, x):\n",
    "        \"\"\"\n",
    "        Perform one full Gibbs sampling step, updating every pixel in random order.\n",
    "        Uses masking for efficient energy computation.\n",
    "        \"\"\"\n",
    "        batch_size = x.shape[0]  # [B, 1, H, W]\n",
    "        h, w = x.shape[2:]\n",
    "        n_pixels = h * w\n",
    "\n",
    "        # Randomize the order in which pixels are updated\n",
    "        pixel_order = torch.randperm(n_pixels)\n",
    "\n",
    "        for idx in pixel_order:  # Loop over every pixel\n",
    "            i, j = idx // w, idx % w\n",
    "\n",
    "            # Compute energies for -1 and 1 states\n",
    "            x[:, :, i, j] = -1.0\n",
    "            energy_neg = -model(x)  # Add negative sign since model is -E\n",
    "            x[:, :, i, j] = 1.0\n",
    "            energy_pos = -model(x)  # Add negative sign since model is -E\n",
    "\n",
    "            # Compute probabilities\n",
    "            logits = torch.stack([energy_pos, energy_neg], dim=1)  # [B, 2]\n",
    "            probs = F.softmax(logits, dim=1)  # [B, 2]\n",
    "\n",
    "            # Sample new pixel values \n",
    "            choices = torch.multinomial(probs, 1)  # [B, 1]\n",
    "            x[:, :, i, j] = choices.float() * 2 - 1  # Convert 0/1 to -1/1\n",
    "\n",
    "        return x\n"
   ]
  },
  {
   "cell_type": "code",
   "execution_count": 7,
   "metadata": {
    "id": "WWjCRRS4gzjH"
   },
   "outputs": [],
   "source": [
    "class DeepEnergyModel(pl.LightningModule):\n",
    "\n",
    "    def __init__(self, img_shape, batch_size, alpha=0.1, lr=1e-4, beta1=0.0, method='langevin', steps=60, step_size=10, **CNN_args):\n",
    "        super().__init__()\n",
    "        self.save_hyperparameters()\n",
    "\n",
    "        self.cnn = CNNModel(**CNN_args)\n",
    "        self.sampler = Sampler(self.cnn, img_shape=img_shape, sample_size=batch_size, method=method)\n",
    "        self.example_input_array = torch.zeros(1, *img_shape)\n",
    "\n",
    "    def forward(self, x):\n",
    "        z = self.cnn(x)\n",
    "        return z\n",
    "\n",
    "    def configure_optimizers(self):\n",
    "        # Energy models can have issues with momentum as the loss surfaces changes with its parameters.\n",
    "        # Hence, we set it to 0 by default.\n",
    "        optimizer = optim.Adam(self.parameters(), lr=self.hparams.lr, betas=(self.hparams.beta1, 0.999))\n",
    "        scheduler = optim.lr_scheduler.StepLR(optimizer, 1, gamma=0.97) # Exponential decay over epochs\n",
    "        return [optimizer], [scheduler]\n",
    "\n",
    "    def training_step(self, batch, batch_idx):\n",
    "\n",
    "        real_imgs, _ = batch\n",
    "\n",
    "        if self.hparams.method == 'langevin':\n",
    "            # add minimal noise to the original images to prevent the model from focusing on purely \"clean\" inputs\n",
    "            small_noise = torch.randn_like(real_imgs) * 0.005\n",
    "            real_imgs.add_(small_noise).clamp_(min=-1.0, max=1.0)\n",
    "\n",
    "        elif self.hparams.method == 'gibbs':\n",
    "            # flip small number of pixels in the image\n",
    "            mask = torch.rand_like(real_imgs) < 0.01\n",
    "            real_imgs = real_imgs.clone()\n",
    "            real_imgs[mask] = -real_imgs[mask]\n",
    "\n",
    "        # Obtain samples\n",
    "        fake_imgs = self.sampler.sample_new_exmps(steps=self.hparams.steps, step_size=self.hparams.step_size, method=self.hparams.method)\n",
    "\n",
    "        # print(\"Training step:\")\n",
    "        # print(\"Shape of real_imgs:\", real_imgs.shape)\n",
    "        # print(\"Shape of fake_imgs:\", fake_imgs.shape)\n",
    "\n",
    "        # Predict energy score for all images\n",
    "        inp_imgs = torch.cat([real_imgs, fake_imgs], dim=0)\n",
    "        real_out, fake_out = self.cnn(inp_imgs).chunk(2, dim=0)\n",
    "\n",
    "        # Calculate losses\n",
    "        reg_loss = self.hparams.alpha * (real_out ** 2 + fake_out ** 2).mean()\n",
    "        cdiv_loss = fake_out.mean() - real_out.mean()\n",
    "        loss = reg_loss + cdiv_loss\n",
    "\n",
    "        # Logging\n",
    "        self.log('loss', loss)\n",
    "        self.log('loss_regularization', reg_loss)\n",
    "        self.log('loss_contrastive_divergence', cdiv_loss)\n",
    "        self.log('metrics_avg_real', real_out.mean())\n",
    "        self.log('metrics_avg_fake', fake_out.mean())\n",
    "        return loss\n",
    "\n",
    "    def validation_step(self, batch, batch_idx):\n",
    "        # For validating, we calculate the contrastive divergence between purely random images and unseen examples\n",
    "        # Note that the validation/test step of energy-based models depends on what we are interested in the model\n",
    "        real_imgs, _ = batch\n",
    "        fake_imgs = torch.rand_like(real_imgs) * 2 - 1\n",
    "\n",
    "        # print(\"Validation step:\")\n",
    "        # print(\"Shape of real_imgs:\", real_imgs.shape)\n",
    "        # print(\"Shape of fake_imgs:\", fake_imgs.shape)\n",
    "\n",
    "        inp_imgs = torch.cat([real_imgs, fake_imgs], dim=0)\n",
    "        real_out, fake_out = self.cnn(inp_imgs).chunk(2, dim=0)\n",
    "\n",
    "        cdiv = fake_out.mean() - real_out.mean()\n",
    "        self.log('val_contrastive_divergence', cdiv)\n",
    "        self.log('val_fake_out', fake_out.mean())\n",
    "        self.log('val_real_out', real_out.mean())"
   ]
  },
  {
   "cell_type": "code",
   "execution_count": 8,
   "metadata": {
    "id": "NWDHCWAfgzjH"
   },
   "outputs": [],
   "source": [
    "class GenerateCallback(pl.Callback):\n",
    "\n",
    "    def __init__(self, batch_size=8, vis_steps=8, num_steps=256, every_n_epochs=5):\n",
    "        super().__init__()\n",
    "        self.batch_size = batch_size         # Number of images to generate\n",
    "        self.vis_steps = vis_steps           # Number of steps within generation to visualize\n",
    "        self.num_steps = num_steps           # Number of steps to take during generation\n",
    "        self.every_n_epochs = every_n_epochs # Only save those images every N epochs (otherwise tensorboard gets quite large)\n",
    "\n",
    "    def on_epoch_end(self, trainer, pl_module):\n",
    "        # Skip for all other epochs\n",
    "        if trainer.current_epoch % self.every_n_epochs == 0:\n",
    "            # Generate images\n",
    "            imgs_per_step = self.generate_imgs(pl_module)\n",
    "            # Plot and add to tensorboard\n",
    "            for i in range(imgs_per_step.shape[1]):\n",
    "                step_size = self.num_steps // self.vis_steps\n",
    "                imgs_to_plot = imgs_per_step[step_size-1::step_size,i]\n",
    "                grid = torchvision.utils.make_grid(imgs_to_plot, nrow=imgs_to_plot.shape[0], normalize=True, range=(-1,1))\n",
    "                trainer.logger.experiment.add_image(f\"generation_{i}\", grid, global_step=trainer.current_epoch)\n",
    "\n",
    "    def generate_imgs(self, pl_module):\n",
    "        pl_module.eval()\n",
    "        if pl_module.hparams.method == 'langevin':\n",
    "            start_imgs = torch.rand((self.batch_size,) + pl_module.hparams[\"img_shape\"]).to(pl_module.device)\n",
    "            start_imgs = start_imgs * 2 - 1\n",
    "            torch.set_grad_enabled(True)  # Tracking gradients for sampling necessary\n",
    "\n",
    "        elif pl_module.hparams.method == 'gibbs':\n",
    "            start_imgs = torch.rand((self.batch_size,) + pl_module.hparams[\"img_shape\"]).to(pl_module.device)\n",
    "            start_imgs = (start_imgs > 0.5).float() * 2 - 1  # Convert to {-1, 1}\n",
    "\n",
    "        imgs_per_step = Sampler.generate_samples(pl_module.cnn, start_imgs, steps=self.num_steps, step_size=10, return_img_per_step=True, method=pl_module.hparams.method)\n",
    "        torch.set_grad_enabled(False)\n",
    "        pl_module.train()\n",
    "        return imgs_per_step"
   ]
  },
  {
   "cell_type": "code",
   "execution_count": 9,
   "metadata": {
    "id": "GV1nvEM3gzjI"
   },
   "outputs": [],
   "source": [
    "class SamplerCallback(pl.Callback):\n",
    "\n",
    "    def __init__(self, num_imgs=32, every_n_epochs=5):\n",
    "        super().__init__()\n",
    "        self.num_imgs = num_imgs             # Number of images to plot\n",
    "        self.every_n_epochs = every_n_epochs # Only save those images every N epochs (otherwise tensorboard gets quite large)\n",
    "\n",
    "    def on_epoch_end(self, trainer, pl_module):\n",
    "        if trainer.current_epoch % self.every_n_epochs == 0:\n",
    "            exmp_imgs = torch.cat(random.choices(pl_module.sampler.examples, k=self.num_imgs), dim=0)\n",
    "            grid = torchvision.utils.make_grid(exmp_imgs, nrow=4, normalize=True, range=(-1,1))\n",
    "            trainer.logger.experiment.add_image(\"sampler\", grid, global_step=trainer.current_epoch)"
   ]
  },
  {
   "cell_type": "code",
   "execution_count": 10,
   "metadata": {
    "id": "mtNwoZehgzjI"
   },
   "outputs": [],
   "source": [
    "class OutlierCallback(pl.Callback):\n",
    "\n",
    "    def __init__(self, batch_size=1024):\n",
    "        super().__init__()\n",
    "        self.batch_size = batch_size\n",
    "\n",
    "    def on_epoch_end(self, trainer, pl_module):\n",
    "        with torch.no_grad():\n",
    "            pl_module.eval()\n",
    "            if pl_module.hparams.method == 'langevin':\n",
    "                rand_imgs = torch.rand((self.batch_size,) + pl_module.hparams[\"img_shape\"]).to(pl_module.device)\n",
    "                rand_imgs = rand_imgs * 2 - 1.0\n",
    "            elif pl_module.hparams.method == 'gibbs':\n",
    "                rand_imgs = torch.rand((self.batch_size,) + pl_module.hparams[\"img_shape\"]).to(pl_module.device)\n",
    "                rand_imgs = (rand_imgs > 0.5).float() * 2 - 1.0\n",
    "            rand_out = pl_module.cnn(rand_imgs).mean()\n",
    "            pl_module.train()\n",
    "\n",
    "        trainer.logger.experiment.add_scalar(\"rand_out\", rand_out, global_step=trainer.current_epoch)"
   ]
  },
  {
   "cell_type": "code",
   "execution_count": 11,
   "metadata": {
    "id": "SCPw-_3ngzjI"
   },
   "outputs": [],
   "source": [
    "def train_model(method='langeivn', **kwargs):\n",
    "    # Create a PyTorch Lightning trainer with the generation callback\n",
    "    trainer = pl.Trainer(default_root_dir=os.path.join(CHECKPOINT_PATH, \"USPS\"),\n",
    "                         accelerator=\"gpu\" if str(device).startswith(\"cuda\") or str(device).startswith(\"mps\") else \"cpu\",\n",
    "                         devices=1,\n",
    "                         max_epochs=60,\n",
    "                         gradient_clip_val=0.1,\n",
    "                         callbacks=[ModelCheckpoint(save_weights_only=True, mode=\"min\", monitor='val_contrastive_divergence'),\n",
    "                                    GenerateCallback(every_n_epochs=5),\n",
    "                                    SamplerCallback(every_n_epochs=5),\n",
    "                                    OutlierCallback(),\n",
    "                                    LearningRateMonitor(\"epoch\")\n",
    "                                   ])\n",
    "    # Check whether pretrained model exists. If yes, load it and skip training\n",
    "    pretrained_filename = os.path.join(CHECKPOINT_PATH, \"USPS.ckpt\")\n",
    "    if os.path.isfile(pretrained_filename):\n",
    "        print(\"Found pretrained model, loading...\")\n",
    "        model = DeepEnergyModel.load_from_checkpoint(pretrained_filename)\n",
    "    else:\n",
    "        pl.seed_everything(42)\n",
    "        model = DeepEnergyModel(method=method, **kwargs)\n",
    "        trainer.fit(model, train_loader, test_loader)\n",
    "        model = DeepEnergyModel.load_from_checkpoint(trainer.checkpoint_callback.best_model_path)\n",
    "    # No testing as we are more interested in other properties\n",
    "    return model"
   ]
  },
  {
   "cell_type": "code",
   "execution_count": 1,
   "metadata": {
    "colab": {
     "base_uri": "https://localhost:8080/",
     "height": 207
    },
    "id": "c4dPpXy6gzjI",
    "outputId": "dbc9f8e3-e521-4cd9-fe15-28446ee092a6"
   },
   "outputs": [
    {
     "ename": "NameError",
     "evalue": "name 'transforms' is not defined",
     "output_type": "error",
     "traceback": [
      "\u001b[0;31m---------------------------------------------------------------------------\u001b[0m",
      "\u001b[0;31mNameError\u001b[0m                                 Traceback (most recent call last)",
      "\u001b[0;32m<ipython-input-1-97cc02ab1f7e>\u001b[0m in \u001b[0;36m<cell line: 0>\u001b[0;34m()\u001b[0m\n\u001b[1;32m     11\u001b[0m \u001b[0;34m\u001b[0m\u001b[0m\n\u001b[1;32m     12\u001b[0m \u001b[0;31m# Load USPS dataset and create dataloaders\u001b[0m\u001b[0;34m\u001b[0m\u001b[0;34m\u001b[0m\u001b[0m\n\u001b[0;32m---> 13\u001b[0;31m transform = transforms.Compose([\n\u001b[0m\u001b[1;32m     14\u001b[0m     \u001b[0;31m# transforms.Resize(11),\u001b[0m\u001b[0;34m\u001b[0m\u001b[0;34m\u001b[0m\u001b[0m\n\u001b[1;32m     15\u001b[0m     \u001b[0mtransforms\u001b[0m\u001b[0;34m.\u001b[0m\u001b[0mToTensor\u001b[0m\u001b[0;34m(\u001b[0m\u001b[0;34m)\u001b[0m\u001b[0;34m,\u001b[0m\u001b[0;34m\u001b[0m\u001b[0;34m\u001b[0m\u001b[0m\n",
      "\u001b[0;31mNameError\u001b[0m: name 'transforms' is not defined"
     ]
    }
   ],
   "source": [
    "# reload utils and _binarize\n",
    "# from utils import _binarize\n",
    "import os\n",
    "\n",
    "def _binarize(x):\n",
    "    \"\"\"\n",
    "    Binarize the pixel values to -1 and 1.\n",
    "    \"\"\"\n",
    "    return torch.where(x > 0.5, torch.tensor(1.0), torch.tensor(-1.0))\n",
    "\n",
    "\n",
    "# Load USPS dataset and create dataloaders\n",
    "transform = transforms.Compose([\n",
    "    # transforms.Resize(11),\n",
    "    transforms.ToTensor(),\n",
    "    transforms.Lambda(_binarize)\n",
    "])\n",
    "\n",
    "train_dataset = datasets.USPS(root='USPS/', train=True, download=True, transform=transform)\n",
    "test_dataset = datasets.USPS(root='USPS/', train=False, download=True, transform=transform)\n",
    "\n",
    "train_loader = DataLoader(train_dataset, batch_size=128, shuffle=True, drop_last=True, num_workers=0, pin_memory=True)\n",
    "test_loader = DataLoader(test_dataset, batch_size=256, shuffle=False, drop_last=False, num_workers=0)\n",
    "\n",
    "# check the shape of the data\n",
    "x, _ = next(iter(train_loader))\n",
    "# print(f\"Training data shape: {x.shape}\")\n",
    "\n",
    "\n",
    "model = train_model(img_shape=(1,16,16),\n",
    "                    batch_size=train_loader.batch_size,\n",
    "                    lr=1e-4,\n",
    "                    beta1=0.0,\n",
    "                    method=method,\n",
    "                    steps=5,\n",
    "                    step_size=10\n",
    "                    )"
   ]
  }
 ],
 "metadata": {
  "accelerator": "GPU",
  "colab": {
   "name": "HW1_Template_ECE590_Spring2022.ipynb",
   "provenance": []
  },
  "kernelspec": {
   "display_name": "diffmap",
   "language": "python",
   "name": "python3"
  },
  "language_info": {
   "codemirror_mode": {
    "name": "ipython",
    "version": 3
   },
   "file_extension": ".py",
   "mimetype": "text/x-python",
   "name": "python",
   "nbconvert_exporter": "python",
   "pygments_lexer": "ipython3",
   "version": "3.11.7"
  }
 },
 "nbformat": 4,
 "nbformat_minor": 0
}
