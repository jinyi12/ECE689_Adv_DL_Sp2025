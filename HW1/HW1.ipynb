{
 "cells": [
  {
   "cell_type": "markdown",
   "metadata": {
    "id": "_y3XpY_hw1hb"
   },
   "source": [
    "# ECE 689, Spring 2025\n",
    "## Homework 1\n",
    "\n",
    "## Full name:\n",
    "## NetID:"
   ]
  },
  {
   "cell_type": "markdown",
   "metadata": {
    "id": "81zydQuegzi-"
   },
   "source": [
    "Please submit the homework as pdf file."
   ]
  },
  {
   "cell_type": "markdown",
   "metadata": {
    "id": "pbqTTFeww1hf"
   },
   "source": [
    "## Imports and Datasets"
   ]
  },
  {
   "cell_type": "code",
   "execution_count": 17,
   "metadata": {
    "id": "3lEjedRvw1hf"
   },
   "outputs": [],
   "source": [
    "# Import some useful packages, please edit as needed\n",
    "\n",
    "import numpy as np\n",
    "import matplotlib.pyplot as plt\n",
    "import torch\n",
    "import torch.optim as optim\n",
    "import torch.nn as nn\n",
    "import torch.nn.functional as F\n",
    "import torchvision\n",
    "import copy\n",
    "import normflows as nf\n",
    "\n",
    "from torch.distributions.multivariate_normal import MultivariateNormal\n",
    "\n",
    "from torch.utils.tensorboard import SummaryWriter\n",
    "\n",
    "%matplotlib inline"
   ]
  },
  {
   "cell_type": "code",
   "execution_count": 18,
   "metadata": {
    "id": "bSLBTZOww1hh",
    "outputId": "55e8172b-b68f-4234-df12-7ccf4419a61d"
   },
   "outputs": [
    {
     "name": "stdout",
     "output_type": "stream",
     "text": [
      "cuda\n"
     ]
    }
   ],
   "source": [
    "if torch.cuda.is_available():\n",
    "    device = torch.device('cuda')\n",
    "elif torch.mps.is_available():\n",
    "    device = torch.device('mps')\n",
    "else:\n",
    "    device = torch.device('cpu')\n",
    "\n",
    "print(device)"
   ]
  },
  {
   "cell_type": "code",
   "execution_count": 19,
   "metadata": {
    "id": "z4I-wicRgzi_"
   },
   "outputs": [],
   "source": [
    "ds_USPS  = torchvision.datasets.USPS('USPS', train=True, download=True,\n",
    "                                     transform=torchvision.transforms.Compose([\n",
    "                                         torchvision.transforms.Resize(16),\n",
    "                                         torchvision.transforms.ToTensor()]))\n"
   ]
  },
  {
   "cell_type": "markdown",
   "metadata": {
    "id": "nCKUlYQ0w1hk",
    "tags": []
   },
   "source": [
    "## Question 1: Normalizing Flows\n",
    "\n",
    "- Select a coupling Normalizing Flow and an autoregressive Normalizing Flow (NF).\n",
    "- Apply the NF models to MNIST dataset.\n",
    "- You can resize the MNIST images to 7 × 7 pixels to reduce computational complexity.\n",
    "\n",
    "Some github repositories:\n",
    "- https://github.com/zhongyuchen/generative-models\n",
    "- https://github.com/kamenbliznashki/normalizing_flows\n",
    "- https://github.com/karpathy/pytorch-normalizing-flows\n",
    "- https://github.com/VincentStimper/normalizing-flows\n",
    "- remember to list these references below if you use them!\n",
    "- if you find some other references, do share too!"
   ]
  },
  {
   "cell_type": "markdown",
   "metadata": {
    "id": "nLjcCQq7gzjA"
   },
   "source": [
    "For this question, I worked with:\n",
    "\n",
    "- Daniel Cobles (discussing the math and the equivalence of MAF and (implicit) IAF)\n",
    "\n",
    "For this question, I referenced a few sites/ papers/ github repositories, especially:\n",
    "\n",
    "- https://github.com/VincentStimper/normalizing-flows\n",
    "\n",
    "I spent approximately 13-15 hours on this question. Specifically, the intricacies of coupling layers, and the implementation of MAF using normflows."
   ]
  },
  {
   "cell_type": "code",
   "execution_count": 20,
   "metadata": {
    "id": "E4bzcfBfgzjB"
   },
   "outputs": [],
   "source": [
    "import torch\n",
    "import torchvision\n",
    "from torch.utils.data import DataLoader\n",
    "\n",
    "# Device configuration\n",
    "device = torch.device('cuda' if torch.cuda.is_available() else 'cpu')\n",
    "\n",
    "# Define transformations\n",
    "transform_train = torchvision.transforms.Compose([\n",
    "    torchvision.transforms.Resize(8),\n",
    "    torchvision.transforms.ToTensor(),\n",
    "    # Add Gaussian noise for dequantization\n",
    "    # torchvision.transforms.Lambda(lambda x: x + 0.1 * torch.randn_like(x)),\n",
    "    nf.utils.Scale(255. / 256.), nf.utils.Jitter(1 / 256.)\n",
    "])\n",
    "\n",
    "transform_test = torchvision.transforms.Compose([\n",
    "    torchvision.transforms.Resize(8),\n",
    "    torchvision.transforms.ToTensor(),\n",
    "    # torchvision.transforms.Lambda(lambda x: x + 0.1 * torch.randn_like(x)),\n",
    "    nf.utils.Scale(255. / 256.), nf.utils.Jitter(1 / 256.),\n",
    "])\n",
    "\n",
    "# Load MNIST datasets\n",
    "ds_MNIST_train = torchvision.datasets.MNIST(\n",
    "    root='MNIST',\n",
    "    train=True,\n",
    "    download=True,\n",
    "    transform=transform_train\n",
    ")\n",
    "\n",
    "ds_MNIST_test = torchvision.datasets.MNIST(\n",
    "    root='MNIST',\n",
    "    train=False,\n",
    "    download=True,\n",
    "    transform=transform_test\n",
    ")\n",
    "\n",
    "# DataLoader setup\n",
    "batch_size = 256\n",
    "train_loader = DataLoader(ds_MNIST_train, batch_size=batch_size, shuffle=True)\n",
    "test_loader = DataLoader(ds_MNIST_test, batch_size=batch_size, shuffle=False)"
   ]
  },
  {
   "cell_type": "code",
   "execution_count": 35,
   "metadata": {},
   "outputs": [],
   "source": [
    "def build_glow_model(input_shape, num_classes, L=3, K=16) -> nf.MultiscaleFlow:\n",
    "    \"\"\"\n",
    "    Constructs a multi-scale Glow model with explicit dimension tracking and documentation\n",
    "    of all architectural components. Follows the original Glow paper's hierarchical design.\n",
    "    \n",
    "    Args:\n",
    "        input_shape: Tuple of (channels, height, width) for input images\n",
    "        num_classes: Number of class labels for conditional generation\n",
    "        L: Number of hierarchical levels (compression stages)\n",
    "        K: Number of flow steps per hierarchical level\n",
    "        \n",
    "    Returns:\n",
    "        Configured MultiscaleFlow model with proper dimension tracking at each stage\n",
    "    \"\"\"\n",
    "    # --- Initialization & Configuration ---\n",
    "    torch.manual_seed(0)  # Ensure reproducible architecture\n",
    "    channels, height, width = input_shape\n",
    "    hidden_channels = 256  # Size of hidden layers in affine coupling networks\n",
    "    split_mode = 'channel' # Split along channel dimension for multi-scale architecture\n",
    "    scale = True           # Use scaling operation in affine coupling\n",
    "\n",
    "    # Component storage\n",
    "    base_dists = []    # Class-conditional base distributions for each level\n",
    "    flow_levels = []   # List of flow operations per hierarchy level\n",
    "    merge_ops = []     # Merge operations between hierarchy levels\n",
    "\n",
    "    # --- Hierarchical Architecture Construction ---\n",
    "    for level in range(L):\n",
    "        # === Flow Step Construction ===\n",
    "        # Each level contains K GlowBlocks followed by a Squeeze operation\n",
    "        level_flows = []\n",
    "        \n",
    "        # GLOW BLOCK CHANNEL CALCULATION:\n",
    "        # Channels grow exponentially based on hierarchy depth:\n",
    "        # - Base multiplier: 2^(L+1) decreases by factor of 2 per level\n",
    "        # - Ensures sufficient capacity as spatial dimensions shrink\n",
    "        glow_channels = channels * 2 ** (L + 1 - level)\n",
    "        \n",
    "        # Create K sequential GlowBlocks for current level\n",
    "        level_flows = [\n",
    "            nf.flows.GlowBlock(\n",
    "                channels=glow_channels,\n",
    "                hidden_channels=hidden_channels,\n",
    "                split_mode=split_mode,\n",
    "                scale=scale\n",
    "            ) for _ in range(K)\n",
    "        ]\n",
    "        \n",
    "        # SQUEEZE OPERATION:\n",
    "        # - Rearranges spatial dimensions into channels\n",
    "        # - Converts (C, H, W) → (4C, H//2, W//2)\n",
    "        # - Enables hierarchical processing of different frequency bands\n",
    "        level_flows.append(nf.flows.Squeeze())\n",
    "        flow_levels.append(level_flows)\n",
    "\n",
    "        # === Dimension Calculations for Base Distribution ===\n",
    "        # For first level (level=0):\n",
    "        # - Channels: input_channels * 2^(L+1) (full initial expansion)\n",
    "        # - Spatial: input_size // 2^L (max downsampling)\n",
    "        #\n",
    "        # Subsequent levels (level>0):\n",
    "        # - Channels: input_channels * 2^(L-level) (progressive reduction)\n",
    "        # - Spatial: input_size // 2^(L-level) (less downsampling)\n",
    "        if level > 0:\n",
    "            # MERGE OPERATION:\n",
    "            # - Combines features from different hierarchy levels\n",
    "            # - Added before base distribution for levels > 0\n",
    "            merge_ops.append(nf.flows.Merge())\n",
    "            \n",
    "            latent_channels = input_shape[0] * 2 ** (L - level)\n",
    "            spatial_dim = input_shape[1] // 2 ** (L - level)\n",
    "        else:\n",
    "            latent_channels = input_shape[0] * 2 ** (L + 1)\n",
    "            spatial_dim = input_shape[1] // 2 ** L\n",
    "\n",
    "        # === Base Distribution ===\n",
    "        # CLASS-CONDITIONAL GAUSSIAN:\n",
    "        # - Diagonal covariance Gaussian conditioned on class labels\n",
    "        # - Latent shape follows hierarchical compression rules\n",
    "        # - Each level models different frequency bands of the data\n",
    "        base_dist = nf.distributions.ClassCondDiagGaussian(\n",
    "            shape=(latent_channels, spatial_dim, spatial_dim),\n",
    "            num_classes=num_classes\n",
    "        )\n",
    "        base_dists.append(base_dist)\n",
    "\n",
    "    # --- Final Model Assembly ---\n",
    "    return nf.MultiscaleFlow(\n",
    "        q0=base_dists,\n",
    "        flows=flow_levels,\n",
    "        merges=merge_ops\n",
    "    )\n",
    "\n",
    "# get the input shape\n",
    "input_shape = ds_MNIST_train[0][0].shape  # (1, 8, 8) since we resized to 8x8\n",
    "flow = build_glow_model(input_shape, num_classes=10).to(device)"
   ]
  },
  {
   "cell_type": "code",
   "execution_count": 37,
   "metadata": {
    "id": "qW_qHQ9DgzjB",
    "outputId": "042b926c-fcee-4405-ae31-31d66a107b6f"
   },
   "outputs": [
    {
     "name": "stdout",
     "output_type": "stream",
     "text": [
      "Epoch: 000 | Step: 00000 | Loss: -130.3094 | LR: 1.00e-03\n",
      "Epoch: 000 | Step: 00100 | Loss: -152.8055 | LR: 1.00e-03\n",
      "Epoch: 000 | Step: 00200 | Loss: -172.7632 | LR: 1.00e-03\n",
      "Checkpoint saved at epoch 0 with val loss -177.4759\n",
      "\n",
      "Epoch 0 Summary:\n",
      "  Train Loss: -147.4812\n",
      "  Val Loss:   -177.4759\n",
      "  Current LR: 1.00e-03\n",
      "\n",
      "Epoch: 001 | Step: 00300 | Loss: -182.7216 | LR: 1.00e-03\n",
      "Epoch: 001 | Step: 00400 | Loss: -191.7928 | LR: 1.00e-03\n",
      "Checkpoint saved at epoch 1 with val loss -191.1817\n",
      "\n",
      "Epoch 1 Summary:\n",
      "  Train Loss: -183.6488\n",
      "  Val Loss:   -191.1817\n",
      "  Current LR: 1.00e-03\n",
      "\n",
      "Epoch: 002 | Step: 00500 | Loss: -190.8962 | LR: 1.00e-03\n",
      "Epoch: 002 | Step: 00600 | Loss: -200.7364 | LR: 1.00e-03\n",
      "Epoch: 002 | Step: 00700 | Loss: -201.4567 | LR: 1.00e-03\n",
      "Checkpoint saved at epoch 2 with val loss -200.3635\n",
      "\n",
      "Epoch 2 Summary:\n",
      "  Train Loss: -196.2936\n",
      "  Val Loss:   -200.3635\n",
      "  Current LR: 1.00e-03\n",
      "\n",
      "Epoch: 003 | Step: 00800 | Loss: -204.3210 | LR: 1.00e-03\n",
      "Epoch: 003 | Step: 00900 | Loss: -203.3538 | LR: 1.00e-03\n",
      "Checkpoint saved at epoch 3 with val loss -205.0125\n",
      "\n",
      "Epoch 3 Summary:\n",
      "  Train Loss: -202.8543\n",
      "  Val Loss:   -205.0125\n",
      "  Current LR: 1.00e-03\n",
      "\n",
      "Epoch: 004 | Step: 01000 | Loss: -202.8162 | LR: 1.00e-03\n",
      "Epoch: 004 | Step: 01100 | Loss: -205.8141 | LR: 1.00e-03\n",
      "\n",
      "Epoch 4 Summary:\n",
      "  Train Loss: -205.9807\n",
      "  Val Loss:   -197.3965\n",
      "  Current LR: 1.00e-03\n",
      "\n",
      "Epoch: 005 | Step: 01200 | Loss: -207.2359 | LR: 1.00e-03\n",
      "Epoch: 005 | Step: 01300 | Loss: -211.3121 | LR: 1.00e-03\n",
      "Epoch: 005 | Step: 01400 | Loss: -211.7536 | LR: 1.00e-03\n",
      "Checkpoint saved at epoch 5 with val loss -210.8058\n",
      "\n",
      "Epoch 5 Summary:\n",
      "  Train Loss: -208.7147\n",
      "  Val Loss:   -210.8058\n",
      "  Current LR: 1.00e-03\n",
      "\n",
      "Epoch: 006 | Step: 01500 | Loss: -213.0776 | LR: 1.00e-03\n",
      "Epoch: 006 | Step: 01600 | Loss: -215.6591 | LR: 1.00e-03\n",
      "Checkpoint saved at epoch 6 with val loss -210.8278\n",
      "\n",
      "Epoch 6 Summary:\n",
      "  Train Loss: -210.6316\n",
      "  Val Loss:   -210.8278\n",
      "  Current LR: 1.00e-03\n",
      "\n",
      "Epoch: 007 | Step: 01700 | Loss: -211.4167 | LR: 1.00e-03\n",
      "Epoch: 007 | Step: 01800 | Loss: -215.6103 | LR: 1.00e-03\n",
      "Checkpoint saved at epoch 7 with val loss -211.2079\n",
      "\n",
      "Epoch 7 Summary:\n",
      "  Train Loss: -211.9500\n",
      "  Val Loss:   -211.2079\n",
      "  Current LR: 1.00e-03\n",
      "\n",
      "Epoch: 008 | Step: 01900 | Loss: -212.2652 | LR: 1.00e-03\n",
      "Epoch: 008 | Step: 02000 | Loss: -212.2084 | LR: 1.00e-03\n",
      "Epoch: 008 | Step: 02100 | Loss: -213.7621 | LR: 1.00e-03\n",
      "Checkpoint saved at epoch 8 with val loss -213.5064\n",
      "\n",
      "Epoch 8 Summary:\n",
      "  Train Loss: -213.4009\n",
      "  Val Loss:   -213.5064\n",
      "  Current LR: 1.00e-03\n",
      "\n",
      "Epoch: 009 | Step: 02200 | Loss: -214.7364 | LR: 1.00e-03\n",
      "Epoch: 009 | Step: 02300 | Loss: -217.3064 | LR: 1.00e-03\n",
      "\n",
      "Epoch 9 Summary:\n",
      "  Train Loss: -214.1806\n",
      "  Val Loss:   -212.4181\n",
      "  Current LR: 5.00e-04\n",
      "\n"
     ]
    }
   ],
   "source": [
    "# --- Hyperparameters ---\n",
    "LEARNING_RATE = 1e-3\n",
    "NUM_EPOCHS = 10\n",
    "STEP_SIZE = 10  # For learning rate scheduler\n",
    "GAMMA = 0.5     # Learning rate decay factor\n",
    "LOG_INTERVAL = 100  # Steps between console logging\n",
    "CHECKPOINT_PATH = \"best_Glow_MNIST.pth\"\n",
    "\n",
    "def configure_optimizer(model):\n",
    "    \"\"\"Initialize Adam optimizer with learning rate scheduling\"\"\"\n",
    "    optimizer = optim.Adam(model.parameters(), lr=LEARNING_RATE)\n",
    "    scheduler = optim.lr_scheduler.StepLR(\n",
    "        optimizer, \n",
    "        step_size=STEP_SIZE, \n",
    "        gamma=GAMMA\n",
    "    )\n",
    "    return optimizer, scheduler\n",
    "\n",
    "def training_loop(flow, train_loader, test_loader, device):\n",
    "    \"\"\"\n",
    "    Main training routine for Glow model\n",
    "    Args:\n",
    "        flow: Glow model instance\n",
    "        train_loader: Training data loader\n",
    "        test_loader: Validation data loader\n",
    "        device: Computation device (CPU/GPU)\n",
    "    \"\"\"\n",
    "    # Initialize training components\n",
    "    optimizer, scheduler = configure_optimizer(flow)\n",
    "    writer = SummaryWriter(log_dir=\"runs/Glow_MNIST\")\n",
    "    best_val_loss = float('inf')\n",
    "    step = 0\n",
    "    \n",
    "    # Training phase\n",
    "    for epoch in range(NUM_EPOCHS):\n",
    "        flow.train()\n",
    "        epoch_train_loss = 0.0\n",
    "        \n",
    "        # Batch processing\n",
    "        for batch_idx, (x, y) in enumerate(train_loader):\n",
    "            x, y = x.to(device), y.to(device)\n",
    "            \n",
    "            # Forward pass and optimization\n",
    "            optimizer.zero_grad()\n",
    "            loss = flow.forward_kld(x, y=y)\n",
    "            loss.backward()\n",
    "            optimizer.step()\n",
    "            \n",
    "            # Logging and monitoring\n",
    "            epoch_train_loss += loss.item() * x.size(0)\n",
    "            \n",
    "            # Console logging at intervals\n",
    "            if step % LOG_INTERVAL == 0:\n",
    "                current_lr = optimizer.param_groups[0]['lr']\n",
    "                print(f\"Epoch: {epoch:03d} | Step: {step:05d} | \"\n",
    "                      f\"Loss: {loss.item():.4f} | LR: {current_lr:.2e}\")\n",
    "            \n",
    "            step += 1\n",
    "        \n",
    "        # Validation phase\n",
    "        avg_train_loss = epoch_train_loss / len(train_loader.dataset)\n",
    "        avg_val_loss = evaluate_model(flow, test_loader, device)\n",
    "        \n",
    "        # Learning rate scheduling\n",
    "        scheduler.step()\n",
    "        \n",
    "        # TensorBoard logging\n",
    "        writer.add_scalar(\"Loss/Train\", avg_train_loss, epoch)\n",
    "        writer.add_scalar(\"Loss/Validation\", avg_val_loss, epoch)\n",
    "        \n",
    "        # Model checkpointing\n",
    "        if avg_val_loss < best_val_loss:\n",
    "            best_val_loss = avg_val_loss\n",
    "            torch.save(flow.state_dict(), CHECKPOINT_PATH)\n",
    "            print(f\"Checkpoint saved at epoch {epoch} with val loss {avg_val_loss:.4f}\")\n",
    "        \n",
    "        # Epoch summary\n",
    "        print(f\"\\nEpoch {epoch} Summary:\")\n",
    "        print(f\"  Train Loss: {avg_train_loss:.4f}\")\n",
    "        print(f\"  Val Loss:   {avg_val_loss:.4f}\")\n",
    "        print(f\"  Current LR: {optimizer.param_groups[0]['lr']:.2e}\\n\")\n",
    "    \n",
    "    writer.close()\n",
    "\n",
    "def evaluate_model(flow, data_loader, device):\n",
    "    \"\"\"Calculate average loss on validation/test set\"\"\"\n",
    "    flow.eval()\n",
    "    total_loss = 0.0\n",
    "    \n",
    "    with torch.no_grad():\n",
    "        for x, y in data_loader:\n",
    "            x, y = x.to(device), y.to(device)\n",
    "            loss = flow.forward_kld(x, y=y)\n",
    "            total_loss += loss.item() * x.size(0)\n",
    "    \n",
    "    return total_loss / len(data_loader.dataset)\n",
    "\n",
    "training_loop(flow, train_loader, test_loader, device)"
   ]
  },
  {
   "cell_type": "code",
   "execution_count": 39,
   "metadata": {
    "id": "_NYFNrm6gzjC",
    "outputId": "2dc39b37-04ee-4467-cc5d-7eca7b09581f"
   },
   "outputs": [
    {
     "name": "stdout",
     "output_type": "stream",
     "text": [
      "Average Log Probability: 213.5196\n",
      "Shape of samples: torch.Size([64, 1, 8, 8])\n"
     ]
    },
    {
     "data": {
      "image/png": "[encoded data removed]",
      "text/plain": [
       "<Figure size 1200x1200 with 1 Axes>"
      ]
     },
     "metadata": {},
     "output_type": "display_data"
    }
   ],
   "source": [
    "# Visualization of Generated Samples\n",
    "flow.load_state_dict(torch.load('best_Glow_MNIST.pth'))\n",
    "flow.eval()\n",
    "\n",
    "# compute the log likelihood of the test set\n",
    "total_log_prob = 0\n",
    "with torch.no_grad():\n",
    "    for x, y in test_loader:\n",
    "        x = x.to(device)\n",
    "        y = y.to(device)\n",
    "        log_prob = flow.log_prob(x, y)\n",
    "        total_log_prob += log_prob.sum().item()\n",
    "\n",
    "    avg_log_prob = total_log_prob / len(test_loader.dataset)\n",
    "    print(\"Average Log Probability: {:.4f}\".format(avg_log_prob))\n",
    "\n",
    "with torch.no_grad():\n",
    "    samples, _ = flow.sample(64)\n",
    "    # clamp the samples to [0, 1]\n",
    "    samples = torch.clamp(samples, 0, 1)\n",
    "    print(\"Shape of samples:\", samples.shape)\n",
    "\n",
    "\n",
    "# Reshape and visualize\n",
    "samples = samples.view(-1, 1, 8, 8).cpu()\n",
    "grid = torchvision.utils.make_grid(samples, nrow=8, normalize=False)\n",
    "plt.figure(figsize=(12, 12))\n",
    "plt.imshow(grid.permute(1, 2, 0).squeeze(), cmap='gray')\n",
    "plt.title('Generated Samples')\n",
    "plt.axis('off')\n",
    "plt.show()"
   ]
  },
  {
   "cell_type": "code",
   "execution_count": 40,
   "metadata": {
    "id": "jLWv9PRFgzjC"
   },
   "outputs": [],
   "source": [
    "import torch\n",
    "import torchvision\n",
    "from torch.utils.data import DataLoader\n",
    "\n",
    "# Device configuration\n",
    "device = torch.device('cuda' if torch.cuda.is_available() else 'cpu')\n",
    "\n",
    "# Define transformations\n",
    "transform_train = torchvision.transforms.Compose([\n",
    "    torchvision.transforms.Resize(8),\n",
    "    torchvision.transforms.ToTensor(),\n",
    "    # Add Gaussian noise for dequantization\n",
    "    # torchvision.transforms.Lambda(lambda x: x + 0.1 * torch.randn_like(x)),\n",
    "    nf.utils.Scale(255. / 256.), nf.utils.Jitter(1 / 256.),\n",
    "    torchvision.transforms.Lambda(lambda x: x.view(-1))  # Flatten the image\n",
    "])\n",
    "\n",
    "transform_test = torchvision.transforms.Compose([\n",
    "    torchvision.transforms.Resize(8),\n",
    "    torchvision.transforms.ToTensor(),\n",
    "    # torchvision.transforms.Lambda(lambda x: x + 0.1 * torch.randn_like(x)),\n",
    "    nf.utils.Scale(255. / 256.), nf.utils.Jitter(1 / 256.),\n",
    "    torchvision.transforms.Lambda(lambda x: x.view(-1))  # Flatten the image\n",
    "])\n",
    "\n",
    "# Load MNIST datasets\n",
    "ds_MNIST_train = torchvision.datasets.MNIST(\n",
    "    root='MNIST',\n",
    "    train=True,\n",
    "    download=True,\n",
    "    transform=transform_train\n",
    ")\n",
    "\n",
    "ds_MNIST_test = torchvision.datasets.MNIST(\n",
    "    root='MNIST',\n",
    "    train=False,\n",
    "    download=True,\n",
    "    transform=transform_test\n",
    ")\n",
    "\n",
    "# DataLoader setup\n",
    "batch_size = 256\n",
    "train_loader = DataLoader(ds_MNIST_train, batch_size=batch_size, shuffle=True)\n",
    "test_loader = DataLoader(ds_MNIST_test, batch_size=batch_size, shuffle=False)"
   ]
  },
  {
   "cell_type": "code",
   "execution_count": 41,
   "metadata": {
    "id": "01AIpgp-gzjC",
    "outputId": "88622eb9-d909-47e3-9da2-96d9e22eb4b6"
   },
   "outputs": [
    {
     "data": {
      "image/png": "[encoded data removed]",
      "text/plain": [
       "<Figure size 800x800 with 16 Axes>"
      ]
     },
     "metadata": {},
     "output_type": "display_data"
    }
   ],
   "source": [
    "# visualize the data\n",
    "images, labels = next(iter(train_loader))\n",
    "plt.figure(figsize=(8, 8))\n",
    "for i, image in enumerate(images[:16]):\n",
    "    plt.subplot(4, 4, i+1)\n",
    "    plt.imshow(image.view(8, 8).numpy(), cmap='gray')\n",
    "    plt.axis('off')\n",
    "plt.show()"
   ]
  },
  {
   "cell_type": "code",
   "execution_count": 42,
   "metadata": {
    "id": "nDT1lFqJgzjC"
   },
   "outputs": [
    {
     "name": "stdout",
     "output_type": "stream",
     "text": [
      "MAF Model Summary:\n",
      "• Number of layers: 10\n",
      "• Base distribution: DiagGaussian\n",
      "• Device: cuda:0\n",
      "• Trainable parameters: 619,648\n"
     ]
    }
   ],
   "source": [
    "def build_maf_model(input_dim: int, num_classes: int = None) -> nf.NormalizingFlow:\n",
    "    \"\"\"\n",
    "    Constructs a Masked Autoregressive Flow (MAF) model with permutation layers\n",
    "    \n",
    "    Args:\n",
    "        input_dim: Dimension of input data (flattened image size)\n",
    "        num_classes: Optional number of classes for conditional modeling\n",
    "        \n",
    "    Returns:\n",
    "        Configured MAF model with alternating autoregressive and permutation layers\n",
    "    \"\"\"\n",
    "    # Architecture configuration\n",
    "    NUM_LAYERS = 5               # Total number of autoregressive blocks\n",
    "    HIDDEN_UNITS = 128           # Size of hidden layers in MADE network\n",
    "    NUM_BLOCKS = 3               # Number of hidden layers per autoregressive block\n",
    "    \n",
    "    # Set random seed for reproducibility\n",
    "    torch.manual_seed(0)\n",
    "\n",
    "    # Initialize base distribution (standard normal)\n",
    "    base_dist = nf.distributions.DiagGaussian(shape=(input_dim,))\n",
    "\n",
    "    # Construct flow layers\n",
    "    flow_layers = []\n",
    "    for _ in range(NUM_LAYERS):\n",
    "        # Autoregressive transformation layer\n",
    "        ar_layer = nf.flows.affine.MaskedAffineAutoregressive(\n",
    "            features=input_dim,\n",
    "            hidden_features=HIDDEN_UNITS,\n",
    "            num_blocks=NUM_BLOCKS\n",
    "        )\n",
    "        flow_layers.append(ar_layer)\n",
    "        \n",
    "        # Permutation layer for dimension shuffling\n",
    "        perm_layer = nf.flows.Permute(num_channels=input_dim)\n",
    "        flow_layers.append(perm_layer)\n",
    "\n",
    "    # Instantiate the normalizing flow model\n",
    "    return nf.NormalizingFlow(q0=base_dist, flows=flow_layers)\n",
    "\n",
    "\n",
    "INPUT_DIM = 8 * 8  # Flattened 8x8 image\n",
    "flow = build_maf_model(input_dim=INPUT_DIM)\n",
    "\n",
    "flow = flow.to(device)\n",
    "\n",
    "# Verify model structure\n",
    "print(f\"MAF Model Summary:\")\n",
    "print(f\"• Number of layers: {len(flow.flows)}\")\n",
    "print(f\"• Base distribution: {flow.q0.__class__.__name__}\")\n",
    "print(f\"• Device: {next(flow.parameters()).device}\")\n",
    "print(f\"• Trainable parameters: {sum(p.numel() for p in flow.parameters()):,}\")"
   ]
  },
  {
   "cell_type": "code",
   "execution_count": 43,
   "metadata": {
    "id": "VyLBh9RcgzjD",
    "outputId": "4412fb62-090c-4414-a38d-3629bf1fed61"
   },
   "outputs": [
    {
     "name": "stdout",
     "output_type": "stream",
     "text": [
      "Epoch: 0, Step: 0, Loss: 28.2458\n",
      "Epoch: 0, Step: 100, Loss: -56.3170\n",
      "Epoch: 0, Step: 200, Loss: -96.4476\n",
      "Epoch: 0, Loss: -81.7240\n",
      "Epoch: 0, Train Loss: -59.2856\n",
      "Epoch: 0, Train Loss: -59.2856, Validation Loss: -84.4577\n",
      "Model checkpoint saved.\n",
      "Epoch: 1, Step: 300, Loss: -108.6290\n",
      "Epoch: 1, Step: 400, Loss: -82.9333\n",
      "Epoch: 1, Loss: -74.5692\n",
      "Epoch: 1, Train Loss: -88.4860\n",
      "Epoch: 1, Train Loss: -88.4860, Validation Loss: -74.7991\n",
      "Epoch: 2, Step: 500, Loss: -100.2916\n",
      "Epoch: 2, Step: 600, Loss: -100.2621\n",
      "Epoch: 2, Step: 700, Loss: -118.7567\n",
      "Epoch: 2, Loss: -123.9408\n",
      "Epoch: 2, Train Loss: -107.4156\n",
      "Epoch: 2, Train Loss: -107.4156, Validation Loss: -126.7518\n",
      "Model checkpoint saved.\n",
      "Epoch: 3, Step: 800, Loss: -112.2045\n",
      "Epoch: 3, Step: 900, Loss: -125.4509\n",
      "Epoch: 3, Loss: -112.2801\n",
      "Epoch: 3, Train Loss: -119.5523\n",
      "Epoch: 3, Train Loss: -119.5523, Validation Loss: -99.1869\n",
      "Epoch: 4, Step: 1000, Loss: -133.1962\n",
      "Epoch: 4, Step: 1100, Loss: -142.4477\n",
      "Epoch: 4, Loss: -137.3704\n",
      "Epoch: 4, Train Loss: -132.3357\n",
      "Epoch: 4, Train Loss: -132.3357, Validation Loss: -132.3705\n",
      "Model checkpoint saved.\n",
      "Epoch: 5, Step: 1200, Loss: -115.0619\n",
      "Epoch: 5, Step: 1300, Loss: -131.8918\n",
      "Epoch: 5, Step: 1400, Loss: -147.0669\n",
      "Epoch: 5, Loss: -150.5096\n",
      "Epoch: 5, Train Loss: -135.1909\n",
      "Epoch: 5, Train Loss: -135.1909, Validation Loss: -146.5051\n",
      "Model checkpoint saved.\n",
      "Epoch: 6, Step: 1500, Loss: -144.5276\n",
      "Epoch: 6, Step: 1600, Loss: -131.1844\n",
      "Epoch: 6, Loss: -147.1493\n",
      "Epoch: 6, Train Loss: -143.2624\n",
      "Epoch: 6, Train Loss: -143.2624, Validation Loss: -152.3113\n",
      "Model checkpoint saved.\n",
      "Epoch: 7, Step: 1700, Loss: -146.8627\n",
      "Epoch: 7, Step: 1800, Loss: nan\n",
      "Epoch: 7, Loss: nan\n",
      "Epoch: 7, Train Loss: nan\n",
      "Epoch: 7, Train Loss: nan, Validation Loss: nan\n",
      "Epoch: 8, Step: 1900, Loss: nan\n",
      "Epoch: 8, Step: 2000, Loss: nan\n",
      "Epoch: 8, Step: 2100, Loss: nan\n",
      "Epoch: 8, Loss: nan\n",
      "Epoch: 8, Train Loss: nan\n",
      "Epoch: 8, Train Loss: nan, Validation Loss: nan\n",
      "Epoch: 9, Step: 2200, Loss: nan\n",
      "Epoch: 9, Step: 2300, Loss: nan\n",
      "Epoch: 9, Loss: nan\n",
      "Epoch: 9, Train Loss: nan\n",
      "Epoch: 9, Train Loss: nan, Validation Loss: nan\n"
     ]
    }
   ],
   "source": [
    "learning_rate = 1e-3\n",
    "\n",
    "# optimizer\n",
    "optimizer = optim.Adam(flow.parameters(), lr=learning_rate, weight_decay=1e-5)\n",
    "\n",
    "# scheduler\n",
    "scheduler = optim.lr_scheduler.StepLR(optimizer, step_size=10, gamma=0.5)\n",
    "\n",
    "# Initialize TensorBoard writer\n",
    "writer = SummaryWriter(log_dir=\"runs/MAF_MNIST\")\n",
    "\n",
    "# training loop\n",
    "best_val_loss = 0\n",
    "num_epochs = 10\n",
    "step = 0\n",
    "for epoch in range(num_epochs):\n",
    "    flow.train()\n",
    "    total_train_loss = 0\n",
    "    for x, _ in train_loader:\n",
    "        x = x.view(x.size(0), -1)\n",
    "        x = x.to(device)\n",
    "        optimizer.zero_grad()\n",
    "        loss = flow.forward_kld(x)\n",
    "        loss.backward()\n",
    "        optimizer.step()\n",
    "\n",
    "        if step % 100 == 0:\n",
    "            print(\"Epoch: {}, Step: {}, Loss: {:.4f}\".format(epoch, step, loss.item()))\n",
    "        step += 1\n",
    "\n",
    "        total_train_loss += loss.item() * x.size(0)\n",
    "\n",
    "    print(\"Epoch: {}, Loss: {:.4f}\".format(epoch, loss.item()))\n",
    "\n",
    "    avg_train_loss = total_train_loss / len(train_loader.dataset)\n",
    "    print(f\"Epoch: {epoch}, Train Loss: {avg_train_loss:.4f}\")\n",
    "\n",
    "    # Validation phase\n",
    "    flow.eval()\n",
    "    total_val_loss = 0\n",
    "    with torch.no_grad():\n",
    "        for x, _ in test_loader:\n",
    "            x = x.to(device)\n",
    "            loss = flow.forward_kld(x)\n",
    "            total_val_loss += loss.item() * x.size(0)\n",
    "\n",
    "    avg_val_loss = total_val_loss / len(test_loader.dataset)\n",
    "\n",
    "    # Logging\n",
    "    print(\n",
    "        f\"Epoch: {epoch}, Train Loss: {avg_train_loss:.4f}, Validation Loss: {avg_val_loss:.4f}\"\n",
    "    )\n",
    "    writer.add_scalar(\"Loss/Train\", avg_train_loss, epoch)\n",
    "    writer.add_scalar(\"Loss/Validation\", avg_val_loss, epoch)\n",
    "\n",
    "    # Checkpointing\n",
    "    if avg_val_loss < best_val_loss:\n",
    "        best_val_loss = avg_val_loss\n",
    "        torch.save(flow.state_dict(), \"best_MAF_MNIST.pth\")\n",
    "        print(\"Model checkpoint saved.\")\n",
    "\n",
    "    # Step the scheduler\n",
    "    scheduler.step()\n",
    "\n",
    "writer.close()"
   ]
  },
  {
   "cell_type": "code",
   "execution_count": 45,
   "metadata": {
    "id": "90yN0ExqgzjD",
    "outputId": "eb8b2573-5cef-461a-8cae-8ce39594929b"
   },
   "outputs": [
    {
     "name": "stdout",
     "output_type": "stream",
     "text": [
      "Average Log Probability: 152.2933\n",
      "Shape of samples: torch.Size([64, 64])\n"
     ]
    },
    {
     "data": {
      "image/png": "[encoded data removed]",
      "text/plain": [
       "<Figure size 1200x1200 with 1 Axes>"
      ]
     },
     "metadata": {},
     "output_type": "display_data"
    }
   ],
   "source": [
    "# Visualization of Generated Samples\n",
    "flow.load_state_dict(torch.load('best_MAF_MNIST.pth'))\n",
    "flow.eval()\n",
    "\n",
    "# compute the log likelihood of the test set\n",
    "total_log_prob = 0\n",
    "with torch.no_grad():\n",
    "    for x, _ in test_loader:\n",
    "        x = x.view(x.size(0), -1)\n",
    "        x = x.to(device)\n",
    "        log_prob = flow.log_prob(x)\n",
    "        total_log_prob += log_prob.sum().item()\n",
    "\n",
    "    avg_log_prob = total_log_prob / len(test_loader.dataset)\n",
    "    print(\"Average Log Probability: {:.4f}\".format(avg_log_prob))\n",
    "\n",
    "with torch.no_grad():\n",
    "    samples, _ = flow.sample(64)\n",
    "    # clamp samples to [0, 1]\n",
    "    samples = torch.clamp(samples, 0, 1)\n",
    "    print(\"Shape of samples:\", samples.shape)\n",
    "\n",
    "\n",
    "# Reshape and visualize\n",
    "samples = samples.view(-1, 1, 8, 8).cpu()\n",
    "grid = torchvision.utils.make_grid(samples, nrow=8, normalize=False)\n",
    "plt.figure(figsize=(12, 12))\n",
    "plt.imshow(grid.permute(1, 2, 0).squeeze(), cmap='gray')\n",
    "plt.title('Generated Samples')\n",
    "plt.axis('off')\n",
    "plt.show()"
   ]
  },
  {
   "cell_type": "markdown",
   "metadata": {
    "id": "TJ3fhG-9gzjD"
   },
   "source": [
    "## Question 2: WaveNet for Image Modeling\n",
    "\n",
    "- Pick a WaveNet-typed model (e.g., WaveNet, ParallelWaveNet).\n",
    "- Train the model for image modelling on MNIST.\n",
    "- You can resize the MNIST images to 7 × 7 pixels to reduce computational complexity.\n",
    "\n",
    "Some reference:\n",
    "- https://medium.com/@evinpinar/wavenet-implementation-and-experiments-2d2ee57105d5\n",
    "- https://github.com/kan-bayashi/ParallelWaveGAN?tab=readme-ov-file\n",
    "- https://github.com/Zeta36/tensorflow-image-wavenet"
   ]
  },
  {
   "cell_type": "markdown",
   "metadata": {
    "id": "Uf2fc37ZgzjD"
   },
   "source": [
    "For this question, I worked with:\n",
    "\n",
    "- None\n",
    "\n",
    "For this question, I referenced a few sites/ papers/ github repositories, especially:\n",
    "\n",
    "- https://uvadlc-notebooks.readthedocs.io/en/latest/tutorial_notebooks/tutorial12/Autoregressive_Image_Modeling.html\n",
    "\n",
    "I spent 7 hours on this question, I have some suggestions:\n",
    "\n",
    "1. Maybe some hints that WaveNet is for audio modeling, and to adapt it for image modeling, the equivalent will be PixelCNN, since PixelCNN is used for autoregressive image generation through causal convolutions. While WaveNet models temporal dependencies in 1D audio signals using dilated causal convolutions, PixelCNN extends this concept to 2D spatial relationships by using masked convolutions that prevent information flow from future pixels (to the right/below). Both architectures maintain the autoregressive property where each output element (pixel/audio sample) depends only on previous elements through a prescribed generation order (raster scan for images, time sequence for audio)."
   ]
  },
  {
   "cell_type": "code",
   "execution_count": 1,
   "metadata": {
    "id": "m6lqb8tIgzjD",
    "outputId": "c32e996f-c455-4f54-8669-bdde8c2fd571"
   },
   "outputs": [
    {
     "name": "stderr",
     "output_type": "stream",
     "text": [
      "Seed set to 42\n"
     ]
    },
    {
     "name": "stdout",
     "output_type": "stream",
     "text": [
      "Using device: cuda\n"
     ]
    }
   ],
   "source": [
    "import numpy as np\n",
    "import torch\n",
    "import torch.nn as nn\n",
    "import torch.nn.functional as F\n",
    "import torch.optim as optim\n",
    "import torchvision\n",
    "from torchvision import datasets, transforms\n",
    "from torch.utils.data import DataLoader\n",
    "\n",
    "import matplotlib.pyplot as plt\n",
    "\n",
    "# Pytorch lightning\n",
    "try:\n",
    "    import pytorch_lightning as pl\n",
    "except ModuleNotFoundError:\n",
    "    !pip install pytorch-lightning\n",
    "from pytorch_lightning.callbacks import LearningRateMonitor, ModelCheckpoint\n",
    "\n",
    "# Path to folder for MNIST dataset\n",
    "DATASET_PATH = \"./MNIST/\"\n",
    "# Path to folder for storing the trained models in this question\n",
    "CHECKPOINT_PATH = \"./checkpoints/PixelCNN/\"\n",
    "\n",
    "# Set seed\n",
    "pl.seed_everything(42)\n",
    "\n",
    "# Reproducibility for GPU\n",
    "torch.backends.cudnn.deterministic = True\n",
    "torch.backends.cudnn.benchmark = False\n",
    "\n",
    "# Reproducibility for MPS\n",
    "torch.backends.mps.deterministic = True\n",
    "torch.backends.mps.benchmark = False\n",
    "\n",
    "# Get device\n",
    "device = torch.device(\"cuda\" if torch.cuda.is_available() else \"mps\" if torch.backends.mps.is_available() else \"cpu\")\n",
    "print(f\"Using device: {device}\")\n"
   ]
  },
  {
   "cell_type": "code",
   "execution_count": 2,
   "metadata": {
    "id": "nGNKhw1tgzjE"
   },
   "outputs": [],
   "source": [
    "from utils import _discretize\n",
    "# # transformations for images, similar to the previous question, except we need to discretize the pixel values\n",
    "# def _discretize(x):\n",
    "#     \"\"\"\n",
    "#     Discretize the pixel values to 0-255.\n",
    "#     Need a function to be called, for pickling to work when using num_workers in pytorch lightning dataloader.\n",
    "#     \"\"\"\n",
    "#     return (x * 255).to(torch.long)\n",
    "\n",
    "transform = transforms.Compose([\n",
    "    transforms.Resize(11),\n",
    "    transforms.ToTensor(),\n",
    "    # not using dequantization since we are going to learn the distribution over the each 256 values for each pixel\n",
    "    transforms.Lambda(_discretize)\n",
    "])\n",
    "\n",
    "# MNIST dataset\n",
    "train_dataset = datasets.MNIST(root=DATASET_PATH, train=True, transform=transform, download=True)\n",
    "test_dataset = datasets.MNIST(root=DATASET_PATH, train=False, transform=transform, download=True)\n",
    "\n",
    "train_set, val_set = torch.utils.data.random_split(train_dataset, [50000, 10000])\n",
    "\n",
    "# dataloader\n",
    "train_loader = DataLoader(train_set, batch_size=128, shuffle=True, num_workers=4)\n",
    "val_loader = DataLoader(val_set, batch_size=128, shuffle=False, num_workers=4)\n",
    "test_loader = DataLoader(test_dataset, batch_size=128, shuffle=False, num_workers=4)"
   ]
  },
  {
   "cell_type": "code",
   "execution_count": 3,
   "metadata": {
    "id": "atyVGZw7gzjE",
    "outputId": "a2c75003-dc95-49fc-db11-6ef4bc652de5"
   },
   "outputs": [
    {
     "data": {
      "image/png": "[encoded data removed]",
      "text/plain": [
       "<Figure size 400x400 with 1 Axes>"
      ]
     },
     "metadata": {},
     "output_type": "display_data"
    }
   ],
   "source": [
    "# visualize images\n",
    "def visualize_images(images, max_rows=4, max_cols=4):\n",
    "    num_imgs = images.shape[0] if isinstance(images, torch.Tensor) else len(images)\n",
    "    nrow = min(num_imgs, max_rows)\n",
    "    ncol = min(num_imgs, max_cols)\n",
    "    imgs = torchvision.utils.make_grid(images, nrow=ncol, pad_value=255)\n",
    "    imgs = imgs.clamp(0, 255)\n",
    "    plt.figure(figsize=(ncol, nrow))\n",
    "    plt.imshow(imgs.cpu().permute(1, 2, 0))\n",
    "    plt.axis('off')\n",
    "    plt.show()\n",
    "\n",
    "# visualize training images\n",
    "train_images = [train_set[i][0] for i in range(16)]\n",
    "visualize_images(train_images)"
   ]
  },
  {
   "cell_type": "code",
   "execution_count": 4,
   "metadata": {
    "id": "hO9ou-B7gzjF"
   },
   "outputs": [],
   "source": [
    "# implement masked convolution module\n",
    "class MaskedConv2d(nn.Module):\n",
    "    \"\"\"\n",
    "    Implements a convolution with mask applied to the weights.\n",
    "    The mask ensures that the output can only depend on the pixels that are to the right and below the current pixel.\n",
    "    This is achieved by having a random mask with all values set to 1 except for the pixels that are to the right and below the current pixel.\n",
    "\n",
    "    Inputs:\n",
    "        in_channels: int, number of input channels\n",
    "        out_channels: int, number of output channels\n",
    "        mask: torch.Tensor, mask with shape (kernel_size_h, kernel_size_w) with 0s where the convolution is masked\n",
    "        kwargs: other arguments for the convolution\n",
    "    \"\"\"\n",
    "    def __init__(self, in_channels, out_channels, mask, **kwargs):\n",
    "        super(MaskedConv2d, self).__init__()\n",
    "        self.in_channels = in_channels\n",
    "        self.out_channels = out_channels\n",
    "\n",
    "        # calculate padding automatically\n",
    "        kernel_size = (mask.shape[0], mask.shape[1])\n",
    "        dilation = 1 if 'dilation' not in kwargs else kwargs['dilation']\n",
    "        padding = tuple([dilation*(kernel_size[i]-1)//2 for i in range(2)])\n",
    "        self.conv = nn.Conv2d(in_channels, out_channels, kernel_size=kernel_size, padding=padding, **kwargs)\n",
    "\n",
    "        # buffer for mask\n",
    "        # to allow the mask to be saved and loaded with the model\n",
    "        # also allows the mask to be moved to the correct device\n",
    "        # without buffer, need to handle device movement manually\n",
    "        # also registering it as a buffer means it is not a parameter and not subject to gradient descent\n",
    "        # note we don't want it to update during training\n",
    "        self.register_buffer('mask', mask[None, None])\n",
    "\n",
    "    def forward(self, x):\n",
    "        # apply mask to the weights\n",
    "        self.conv.weight.data *= self.mask\n",
    "        return self.conv(x)"
   ]
  },
  {
   "cell_type": "code",
   "execution_count": 5,
   "metadata": {
    "id": "mm1Z1hAXgzjF"
   },
   "outputs": [],
   "source": [
    "# implement vertical and horizontal convolution stacks\n",
    "# Although we can stack few masked convolutions on top of each other (like in PixelCNN),\n",
    "# the issue is we will miss out on pixels on the upper right (blind spot), the authors of\n",
    "# PixelCNN proposed a fix by splitting the convolutions into a vertical and horizontal stack.\n",
    "# The vertical stack looks at the pixels above the current pixel, while the horizontal stack looks at the pixels to the left of the current pixel.\n",
    "# This way, we can ensure that all pixels are considered.\n",
    "class VerticalStackConvolution(MaskedConv2d):\n",
    "    \"\"\"\n",
    "    Implements a vertical stack of masked convolutions.\n",
    "    Masks out pixels below. To reduce computational complexity,\n",
    "    we can reduce the kernel size in height. But for simplicity,\n",
    "    we use the same kernel size for both height and width and employ masking instead.\n",
    "    \"\"\"\n",
    "    def __init__(self, in_channels, out_channels, kernel_size=3, mask_center=False, **kwargs):\n",
    "\n",
    "        # create mask\n",
    "        mask = torch.ones(kernel_size, kernel_size)\n",
    "        mask[kernel_size // 2 + 1:, :] = 0\n",
    "\n",
    "        # Mask the center row for the first convolution\n",
    "        if mask_center:\n",
    "            mask[kernel_size // 2, :] = 0\n",
    "\n",
    "\n",
    "        super().__init__(in_channels, out_channels, mask, **kwargs)\n",
    "\n",
    "class HorizontalStackConvolution(MaskedConv2d):\n",
    "    \"\"\"\n",
    "    Implements a horizontal stack of masked convolutions.\n",
    "    Masks out pixels on the left.\n",
    "    \"\"\"\n",
    "    def __init__(self, in_channels, out_channels, kernel_size=3, mask_center=False, **kwargs):\n",
    "\n",
    "        # only have a size of 1 in height, since we only look at the pixels on the left\n",
    "        mask = torch.ones(1, kernel_size)\n",
    "        mask[:, kernel_size // 2 + 1:] = 0\n",
    "\n",
    "        # Mask the center column for the first convolution\n",
    "        if mask_center:\n",
    "            mask[:, kernel_size // 2] = 0\n",
    "\n",
    "\n",
    "        super().__init__(in_channels, out_channels, mask, **kwargs)"
   ]
  },
  {
   "cell_type": "code",
   "execution_count": 6,
   "metadata": {
    "id": "ufrPa-tZgzjF",
    "outputId": "93eac157-9864-4e64-c9a8-9c423152f611"
   },
   "outputs": [
    {
     "data": {
      "image/png": "[encoded data removed]",
      "text/plain": [
       "<Figure size 640x480 with 2 Axes>"
      ]
     },
     "metadata": {},
     "output_type": "display_data"
    }
   ],
   "source": [
    "# validate the masked convolutions by visualizing the receptive fields\n",
    "\n",
    "inp_img = torch.zeros(1, 1, 11, 11)\n",
    "inp_img.requires_grad_()\n",
    "\n",
    "def show_center_receptive_field(img, out):\n",
    "    \"\"\"\n",
    "    Calculates gradients of input image with respect to output center pixel,\n",
    "    and visualizes the overall receptive field.\n",
    "\n",
    "    Inputs:\n",
    "        img: torch.Tensor, input image with shape (1, 1, H, W)\n",
    "        out: torch.Tensor, output features or loss which is used for backprop,\n",
    "            should be the output of the network/computation graph\n",
    "    \"\"\"\n",
    "    \n",
    "    # Create clone of output that requires grad\n",
    "    out = out.clone().requires_grad_(True)\n",
    "    \n",
    "    # calculate gradients\n",
    "    loss = out[0, :, img.shape[2] // 2, img.shape[3] // 2].sum()\n",
    "    loss.backward(retain_graph=True)\n",
    "    \n",
    "    # Get gradients from original input\n",
    "    img_grads = img.grad.abs()\n",
    "    img.grad.data.zero_()\n",
    "    \n",
    "    # # calculate gradients\n",
    "    # loss = out[0, :, img.shape[2] // 2, img.shape[3] // 2].sum() # L1 loss\n",
    "    # loss.backward(retain_graph=True) # Retain graph since we want to stack multiple layers and show the receptive field of all of them.\n",
    "    # img_grads = img.grad.abs()\n",
    "    # img.grad.fill_(0) # Clear the gradient\n",
    "\n",
    "    # Plot the receptive field\n",
    "    img = img_grads.squeeze().cpu().numpy()\n",
    "    fig, ax = plt.subplots(1, 2)\n",
    "    pos = ax[0].imshow(img)\n",
    "    ax[1].imshow(img > 0)\n",
    "\n",
    "    # mark the center of the receptive field if it does not have gradients\n",
    "    show_center = (img[img.shape[0] // 2, img.shape[1] // 2] == 0)\n",
    "    if show_center:\n",
    "        center_pix = np.zeros(img.shape + (4,))\n",
    "        center_pix[img.shape[0] // 2, img.shape[1] // 2, :] = [1, 0, 0, 1]\n",
    "        ax[0].imshow(center_pix)\n",
    "        ax[1].imshow(center_pix)\n",
    "\n",
    "    ax[0].set_title('Weighted Receptive Field')\n",
    "    ax[1].set_title('Binary Receptive Field')\n",
    "    plt.tight_layout()\n",
    "    plt.show()\n",
    "\n",
    "show_center_receptive_field(inp_img, inp_img)"
   ]
  },
  {
   "cell_type": "code",
   "execution_count": 7,
   "metadata": {
    "id": "G-hKDzvagzjF",
    "outputId": "fee2ab68-ebc2-43ca-f27f-42ae17233fc0"
   },
   "outputs": [
    {
     "data": {
      "image/png": "[encoded data removed]",
      "text/plain": [
       "<Figure size 640x480 with 2 Axes>"
      ]
     },
     "metadata": {},
     "output_type": "display_data"
    },
    {
     "data": {
      "image/png": "[encoded data removed]",
      "text/plain": [
       "<Figure size 640x480 with 2 Axes>"
      ]
     },
     "metadata": {},
     "output_type": "display_data"
    }
   ],
   "source": [
    "# visualize horizontal and vertical convolutions\n",
    "\n",
    "# horizontal convolution\n",
    "horizontal_conv = HorizontalStackConvolution(in_channels=1, out_channels=1, kernel_size=3, mask_center=True)\n",
    "horizontal_conv.conv.weight.data.fill_(1)\n",
    "horizontal_conv.conv.bias.data.fill_(0)\n",
    "show_center_receptive_field(inp_img, horizontal_conv(inp_img))\n",
    "\n",
    "# vertical convolution\n",
    "vertical_conv = VerticalStackConvolution(in_channels=1, out_channels=1, kernel_size=3, mask_center=True)\n",
    "vertical_conv.conv.weight.data.fill_(1)\n",
    "vertical_conv.conv.bias.data.fill_(0)\n",
    "show_center_receptive_field(inp_img, vertical_conv(inp_img))"
   ]
  },
  {
   "cell_type": "code",
   "execution_count": 8,
   "metadata": {
    "id": "oYHjzZg6gzjF",
    "outputId": "b3343c65-14cd-44ef-80a7-cc418a74fb31"
   },
   "outputs": [
    {
     "data": {
      "image/png": "[encoded data removed]",
      "text/plain": [
       "<Figure size 640x480 with 2 Axes>"
      ]
     },
     "metadata": {},
     "output_type": "display_data"
    }
   ],
   "source": [
    "# combine horizontal and vertical convolutions\n",
    "show_center_receptive_field(inp_img, horizontal_conv(inp_img) + vertical_conv(inp_img))"
   ]
  },
  {
   "cell_type": "code",
   "execution_count": 9,
   "metadata": {
    "id": "oDDqjESEgzjF",
    "outputId": "01f365ae-df80-4e94-a167-250ccf45b8e7"
   },
   "outputs": [
    {
     "name": "stdout",
     "output_type": "stream",
     "text": [
      "Layer 1 Receptive Field:\n"
     ]
    },
    {
     "data": {
      "image/png": "[encoded data removed]",
      "text/plain": [
       "<Figure size 640x480 with 2 Axes>"
      ]
     },
     "metadata": {},
     "output_type": "display_data"
    },
    {
     "name": "stdout",
     "output_type": "stream",
     "text": [
      "Layer 2 Receptive Field:\n"
     ]
    },
    {
     "data": {
      "image/png": "[encoded data removed]",
      "text/plain": [
       "<Figure size 640x480 with 2 Axes>"
      ]
     },
     "metadata": {},
     "output_type": "display_data"
    },
    {
     "name": "stdout",
     "output_type": "stream",
     "text": [
      "Layer 3 Receptive Field:\n"
     ]
    },
    {
     "data": {
      "image/png": "[encoded data removed]",
      "text/plain": [
       "<Figure size 640x480 with 2 Axes>"
      ]
     },
     "metadata": {},
     "output_type": "display_data"
    },
    {
     "name": "stdout",
     "output_type": "stream",
     "text": [
      "Layer 4 Receptive Field:\n"
     ]
    },
    {
     "data": {
      "image/png": "[encoded data removed]",
      "text/plain": [
       "<Figure size 640x480 with 2 Axes>"
      ]
     },
     "metadata": {},
     "output_type": "display_data"
    },
    {
     "name": "stdout",
     "output_type": "stream",
     "text": [
      "Layer 5 Receptive Field:\n"
     ]
    },
    {
     "data": {
      "image/png": "[encoded data removed]",
      "text/plain": [
       "<Figure size 640x480 with 2 Axes>"
      ]
     },
     "metadata": {},
     "output_type": "display_data"
    }
   ],
   "source": [
    "# to stack multiple layers:\n",
    "# horizontal convolutions can operate on the joint features of previous horizontal and vertical convolutions\n",
    "#! vertical convolutions can only operate on the features of previous vertical convolutions\n",
    "#! Subsequent convolutions should not be masking the center pixel, since it is already independent of its actual value\n",
    "\n",
    "# test it on 4 layers. Reuse the convolutions for simplicity. In practice, we can use different convolutions for each layer.\n",
    "# initialize the convolutions with equal weight to all input pixels, the first layer should have a mask center pixel\n",
    "horizontal_conv = HorizontalStackConvolution(in_channels=1, out_channels=1, kernel_size=3, mask_center=True)\n",
    "vertical_conv = VerticalStackConvolution(in_channels=1, out_channels=1, kernel_size=3, mask_center=True)\n",
    "horizontal_conv.conv.weight.data.fill_(1)\n",
    "vertical_conv.conv.weight.data.fill_(1)\n",
    "horizontal_conv.conv.bias.data.fill_(0)\n",
    "vertical_conv.conv.bias.data.fill_(0)\n",
    "\n",
    "inp_img = torch.zeros(1, 1, 11, 11)\n",
    "inp_img.requires_grad = True\n",
    "\n",
    "vert_out = vertical_conv(inp_img)\n",
    "horiz_out = horizontal_conv(inp_img)\n",
    "horiz_out = horiz_out + vert_out\n",
    "print(\"Layer 1 Receptive Field:\")\n",
    "show_center_receptive_field(inp_img, horiz_out)\n",
    "\n",
    "# now the convolutions should not mask the center pixel\n",
    "horizontal_conv = HorizontalStackConvolution(in_channels=1, out_channels=1, kernel_size=3, mask_center=False)\n",
    "vertical_conv = VerticalStackConvolution(in_channels=1, out_channels=1, kernel_size=3, mask_center=False)\n",
    "horizontal_conv.conv.weight.data.fill_(1)\n",
    "vertical_conv.conv.weight.data.fill_(1)\n",
    "horizontal_conv.conv.bias.data.fill_(0)\n",
    "vertical_conv.conv.bias.data.fill_(0)\n",
    "\n",
    "# stack the convolutions\n",
    "for layer in range(4):\n",
    "    vert_out = vertical_conv(vert_out)\n",
    "    horiz_out = horizontal_conv(horiz_out) + vert_out\n",
    "    print(f\"Layer {layer + 2} Receptive Field:\")\n",
    "    show_center_receptive_field(inp_img, horiz_out)\n",
    "\n"
   ]
  },
  {
   "cell_type": "code",
   "execution_count": 10,
   "metadata": {
    "id": "n4Jptyb_gzjF",
    "outputId": "34039d7f-eb83-43fc-c5b8-fc4da1d5f21a"
   },
   "outputs": [
    {
     "data": {
      "image/png": "[encoded data removed]",
      "text/plain": [
       "<Figure size 640x480 with 2 Axes>"
      ]
     },
     "metadata": {},
     "output_type": "display_data"
    }
   ],
   "source": [
    "# check receptive field for the vertical stack after 4 layers\n",
    "show_center_receptive_field(inp_img, vert_out)\n",
    "\n",
    "del horizontal_conv, vertical_conv, horiz_out, vert_out, inp_img"
   ]
  },
  {
   "cell_type": "code",
   "execution_count": 11,
   "metadata": {
    "id": "Mm-t15v8gzjG"
   },
   "outputs": [],
   "source": [
    "# gated masked convolutions\n",
    "class GatedMaskedConv2d(nn.Module):\n",
    "    \"\"\"\n",
    "    Implements a gated masked convolution.\n",
    "    \"\"\"\n",
    "    def __init__(self, in_channels, **kwargs):\n",
    "        super().__init__()\n",
    "\n",
    "        self.conv_vert = VerticalStackConvolution(in_channels=in_channels, out_channels=2*in_channels, **kwargs)\n",
    "        self.conv_horiz = HorizontalStackConvolution(in_channels=in_channels, out_channels=2*in_channels, **kwargs)\n",
    "        self.conv_vert_to_horiz = nn.Conv2d(2*in_channels, 2*in_channels, kernel_size=1, padding=0)\n",
    "        self.conv_horiz_1x1 = nn.Conv2d(in_channels, in_channels, kernel_size=1, padding=0)\n",
    "\n",
    "\n",
    "    def forward(self, vert_stack, horiz_stack):\n",
    "        # Vertical stack\n",
    "        vert_stack_feat = self.conv_vert(vert_stack)\n",
    "        vert_val, vert_gate = vert_stack_feat.chunk(2, dim=1)\n",
    "        vert_stack_out = torch.tanh(vert_val) * torch.sigmoid(vert_gate)\n",
    "\n",
    "        # Horizontal stack\n",
    "        horiz_stack_feat = self.conv_horiz(horiz_stack)\n",
    "        horiz_stack_feat = horiz_stack_feat + self.conv_vert_to_horiz(vert_stack_feat)\n",
    "        horiz_val, horiz_gate = horiz_stack_feat.chunk(2, dim=1)\n",
    "        horiz_stack_feat = torch.tanh(horiz_val) * torch.sigmoid(horiz_gate)\n",
    "        horiz_stack_out = self.conv_horiz_1x1(horiz_stack_feat)\n",
    "        horiz_stack_out = horiz_stack_out + horiz_stack\n",
    "\n",
    "        return vert_stack_out, horiz_stack_out"
   ]
  },
  {
   "cell_type": "code",
   "execution_count": 12,
   "metadata": {
    "id": "FkS84wgggzjG"
   },
   "outputs": [],
   "source": [
    "class PixelCNN(pl.LightningModule):\n",
    "\n",
    "    def __init__(self, in_channels, hidden_channels, num_layers):\n",
    "        \"\"\"\n",
    "        Constructs a PixelCNN model for autoregressive image modeling.\n",
    "\n",
    "        Architecture:\n",
    "        - Two initial masked convolutions (VerticalStackConvolution and HorizontalStackConvolution)\n",
    "          are applied to the input image to create separate vertical and horizontal stacks.\n",
    "        - The network includes a series of gated masked convolution layers (GatedMaskedConv2d)\n",
    "          that use dilation to increase the receptive field, capturing context from previous pixels.\n",
    "        - A final 1x1 convolution (self.conv_out) outputs logits for each of the 256 discrete\n",
    "          pixel values for every image channel, height, and width position.\n",
    "\n",
    "        Args:\n",
    "            in_channels (int): Number of input channels in the image (e.g., 1 for grayscale).\n",
    "            hidden_channels (int): Number of channels in hidden layers.\n",
    "            num_layers (int): Number of layers in the model (not directly used here as conv_block length is fixed).\n",
    "        \"\"\"\n",
    "        super(PixelCNN, self).__init__()\n",
    "        self.save_hyperparameters()\n",
    "\n",
    "        # initial convolutions, skip the center pixel\n",
    "        self.conv_init_vert = VerticalStackConvolution(\n",
    "            in_channels=in_channels, \n",
    "            out_channels=hidden_channels, \n",
    "            kernel_size=3, \n",
    "            mask_center=True\n",
    "        )\n",
    "        self.conv_init_horiz = HorizontalStackConvolution(\n",
    "            in_channels=in_channels, \n",
    "            out_channels=hidden_channels, \n",
    "            kernel_size=3, \n",
    "            mask_center=True\n",
    "        )\n",
    "\n",
    "        # convolution block of PixelCNN, we use dilation to increase receptive field.\n",
    "        # The alternating gated masked convolutions capture dependencies among pixels.\n",
    "        self.conv_block = nn.ModuleList([\n",
    "            GatedMaskedConv2d(hidden_channels),\n",
    "            GatedMaskedConv2d(hidden_channels, dilation=1),\n",
    "            GatedMaskedConv2d(hidden_channels),\n",
    "            GatedMaskedConv2d(hidden_channels, dilation=2),\n",
    "            GatedMaskedConv2d(hidden_channels),\n",
    "            GatedMaskedConv2d(hidden_channels, dilation=1),\n",
    "            GatedMaskedConv2d(hidden_channels),\n",
    "        ])\n",
    "\n",
    "        # output convolution: applies a 1x1 kernel to yield logits for the 256 discrete levels\n",
    "        # for each pixel (e.g. pixel intensity values in the range [0, 255]).\n",
    "        self.conv_out = nn.Conv2d(hidden_channels, in_channels * 256, kernel_size=1, padding=0)\n",
    "\n",
    "    def forward(self, x):\n",
    "        \"\"\"\n",
    "        Logic behind the forward pass:\n",
    "        1. Scale the input image tensor from [0, 255] to [-1, 1]. The scaling is done by:\n",
    "              x_scaled = (x.float() / 255.) * 2 - 1\n",
    "        2. Pass the input through the initial vertical and horizontal masked convolutions.\n",
    "           These layers enforce the autoregressive property by ensuring the current pixel does\n",
    "           not depend on future pixels.\n",
    "        3. Sequentially apply the gated masked convolution blocks to model the conditional \n",
    "           dependencies across pixels.\n",
    "        4. Apply an ELU activation to the horizontal stack's output (non-linearity on residual connection).\n",
    "        5. Pass through a 1x1 convolution (self.conv_out) to produce output logits.\n",
    "        6. Reshape the output to have shape [B, 256, C_out, H, W], where 256 is the number of discrete \n",
    "           classes (pixel values). This represents the unnormalized log-probabilities for each pixel value.\n",
    "\n",
    "    \n",
    "        Given an image x, the model approximates the distribution:\n",
    "            p(x) = ∏_{i} p(x_i | x_{< i})\n",
    "        where each pixel's conditional probability is given by the softmax over the logits:\n",
    "            p(x_{b,c,h,w}=v) = exp(l_{b,v,c,h,w}) / ∑_{v'=0}^{255} exp(l_{b,v',c,h,w])\n",
    "\n",
    "        Args:\n",
    "            x (torch.Tensor): Input tensor of shape [B, C, H, W] with pixel values in [0, 255].\n",
    "\n",
    "        Returns:\n",
    "            torch.Tensor: Logits reshaped to [B, 256, (in_channels*256)/256, H, W], effectively [B, 256, C, H, W].\n",
    "        \"\"\"\n",
    "        # Scale input from 0-255 to [-1, 1]\n",
    "        x = x.float() / 255. * 2 - 1\n",
    "\n",
    "        # Initial masked convolutions for autoregressive conditioning\n",
    "        vert_stack = self.conv_init_vert(x)\n",
    "        horiz_stack = self.conv_init_horiz(x)\n",
    "\n",
    "        # Apply gated masked convolution blocks\n",
    "        for conv in self.conv_block:\n",
    "            vert_stack, horiz_stack = conv(vert_stack, horiz_stack)\n",
    "\n",
    "        # Apply ELU activation for non-linearity before the final convolution\n",
    "        out = self.conv_out(F.elu(horiz_stack))\n",
    "\n",
    "        # Reshape output to have logits for 256 classes per pixel.\n",
    "        return out.reshape(out.shape[0], 256, out.shape[1] // 256, out.shape[2], out.shape[3])\n",
    "\n",
    "    def compute_likelihood(self, x):\n",
    "        \"\"\"\n",
    "        Computes the negative log-likelihood (NLL) and converts it to bits per dimension (BPD).\n",
    "\n",
    "        Likelihood explanation:\n",
    "        - The network outputs logits for a categorical distribution over 256 possible pixel values.\n",
    "        - For a given image, the likelihood is defined as:\n",
    "              p(x) = ∏_{b,c,h,w} p(x_{b,c,h,w})\n",
    "          where:\n",
    "              p(x_{b,c,h,w} = v) = softmax(logits) evaluated at v.\n",
    "        - The negative log-likelihood (NLL) for each pixel is:\n",
    "              NLL_{b,c,h,w} = -log p(x_{b,c,h,w})\n",
    "        - The average NLL over image dimensions and batch is computed and then divided by\n",
    "          log2(e) to convert from nats (natural logarithm) to bits.\n",
    "\n",
    "        For an image x, the bits per dimension (BPD) is computed as:\n",
    "            BPD = (1/(# pixels)) * NLL(x) / log2(e)\n",
    "        where log2(e) ≈ 1.4427.\n",
    "        BPD is a measure of the average number of bits required to represent each pixel in the image.\n",
    "        Used in the PixelCNN paper to evaluate the performance of the model.\n",
    "\n",
    "        Args:\n",
    "            x (torch.Tensor): Input tensor of shape [B, C, H, W] with pixel values in [0, 255].\n",
    "\n",
    "        Returns:\n",
    "            torch.Tensor: Average bits-per-dimension (BPD) across the batch.\n",
    "        \"\"\"\n",
    "        out = self.forward(x)\n",
    "        # Compute cross-entropy loss per pixel. Note that F.cross_entropy expects logits and target,\n",
    "        # where target is assumed to be in the range [0, 255] (integer class labels).\n",
    "        nll = F.cross_entropy(out, x, reduction='none')\n",
    "        # Average over channel, height, and width dimensions for each sample and convert from nats to bits.\n",
    "        bpd = nll.mean(dim=(1, 2, 3)) / np.log2(np.exp(1))\n",
    "        return bpd.mean()\n",
    "\n",
    "    @torch.no_grad()\n",
    "    def sample(self, img_shape, img=None):\n",
    "        \"\"\"\n",
    "        Generates samples from the PixelCNN model using autoregressive sampling.\n",
    "\n",
    "        Sampling Process:\n",
    "        - The model follows the autoregressive factorization: \n",
    "              p(x) = ∏_{i} p(x_i | x_{< i})\n",
    "          where pixels are generated sequentially.\n",
    "        - The input argument 'img' is a partially filled image tensor. Unfilled pixels are represented by -1.\n",
    "          If 'img' is None, an initial tensor filled with -1 is created.\n",
    "        - The sampling proceeds in a raster scan order over the image dimensions (height, width) and channels.\n",
    "        - For each pixel location (at coordinates h, w, and channel c):\n",
    "            1. Check if the pixel has already been sampled (i.e., its value is not -1). If so, skip.\n",
    "            2. Compute the model's logits by performing a forward pass on the partially completed image.\n",
    "               Note that only rows up to h+1 are provided to ensure proper conditioning.\n",
    "            3. Extract the logits corresponding to the current pixel.\n",
    "            4. Apply a softmax function to the logits to obtain a probability distribution over the 256 possible pixel values.\n",
    "            5. Sample a pixel value from this categorical distribution using torch.multinomial.\n",
    "            6. Assign the sampled value to the current pixel position.\n",
    "        - This process continues until all pixel positions are filled.\n",
    "\n",
    "        The math behind sampling the value of one pixel:\n",
    "            For pixel (b, c, h, w), let l = logits corresponding to that pixel.\n",
    "            The probability of pixel value v is:\n",
    "              p(v) = exp(l_v) / ∑_{v=0}^{255} exp(l_v)\n",
    "            A value is then sampled from this distribution.\n",
    "\n",
    "        Args:\n",
    "            img_shape (tuple): Desired shape of the output image tensor [B, C, H, W].\n",
    "            img (torch.Tensor, optional): Partially filled image tensor. Unfilled pixels should be marked with -1.\n",
    "                                          Default is None, which initializes all pixels to -1.\n",
    "\n",
    "        Returns:\n",
    "            torch.Tensor: Generated image tensor with sampled pixel values. The tensor shape is [B, C, H, W].\n",
    "        \"\"\"\n",
    "        if img is None:\n",
    "            img = torch.ones(img_shape) * -1  # Initialize with -1 indicating unsampled pixels\n",
    "\n",
    "        # Autoregressive generation in raster scan order\n",
    "        for h in range(img.shape[2]):\n",
    "            for w in range(img.shape[3]):\n",
    "                for c in range(img.shape[1]):\n",
    "                    # If this pixel is already sampled, skip it.\n",
    "                    if (img[:, c, h, w] != -1).all().item():\n",
    "                        continue\n",
    "\n",
    "                    # Forward pass using the current partially-generated image.\n",
    "                    # Only rows up to h+1 are considered to maintain autoregressive conditioning.\n",
    "                    pred = self.forward(img[:, :, :h+1, :])\n",
    "                    # Compute probability distribution over 256 pixel values via softmax.\n",
    "                    probs = F.softmax(pred[:, :, c, h, w], dim=-1)\n",
    "                    # Sample a pixel value from the categorical distribution.\n",
    "                    img[:, c, h, w] = torch.multinomial(probs, num_samples=1).squeeze(-1)\n",
    "        return img\n",
    "\n",
    "    def configure_optimizers(self):\n",
    "        \"\"\"\n",
    "        Configures the optimizer and learning rate scheduler for training.\n",
    "\n",
    "        Returns:\n",
    "            tuple: ([optimizer], [scheduler])\n",
    "        \"\"\"\n",
    "        optimizer = torch.optim.Adam(self.parameters(), lr=1e-3)\n",
    "        scheduler = torch.optim.lr_scheduler.StepLR(optimizer, 1, gamma=0.99)\n",
    "        return [optimizer], [scheduler]\n",
    "\n",
    "    def training_step(self, batch, batch_idx):\n",
    "        \"\"\"\n",
    "        Training step to compute the loss for a batch.\n",
    "\n",
    "        Args:\n",
    "            batch (tuple): A tuple containing the image tensor and its corresponding labels.\n",
    "                           For PixelCNN, only the images (batch[0]) are used.\n",
    "            batch_idx (int): Index of the batch.\n",
    "\n",
    "        Returns:\n",
    "            torch.Tensor: Computed loss (negative log-likelihood in bits per dimension).\n",
    "        \"\"\"\n",
    "        loss = self.compute_likelihood(batch[0])\n",
    "        self.log('train_bpd', loss)\n",
    "        return loss\n",
    "\n",
    "    def validation_step(self, batch, batch_idx):\n",
    "        \"\"\"\n",
    "        Validation step to compute and log the loss for a batch.\n",
    "\n",
    "        Args:\n",
    "            batch (tuple): A tuple containing the image tensor and its corresponding labels.\n",
    "                           For PixelCNN, only the images (batch[0]) are used.\n",
    "            batch_idx (int): Index of the batch.\n",
    "        \"\"\"\n",
    "        loss = self.compute_likelihood(batch[0])\n",
    "        self.log('val_bpd', loss)\n",
    "\n",
    "    def test_step(self, batch, batch_idx):\n",
    "        \"\"\"\n",
    "        Test step to compute and log the loss for a batch.\n",
    "\n",
    "        Args:\n",
    "            batch (tuple): A tuple containing the image tensor and its corresponding labels.\n",
    "                           For PixelCNN, only the images (batch[0]) are used.\n",
    "            batch_idx (int): Index of the batch.\n",
    "        \"\"\"\n",
    "        loss = self.compute_likelihood(batch[0])\n",
    "        self.log('test_bpd', loss)"
   ]
  },
  {
   "cell_type": "code",
   "execution_count": 13,
   "metadata": {
    "id": "UctqKvS4gzjG",
    "outputId": "b7c3151d-6f60-43ee-de79-0d83b3611e34"
   },
   "outputs": [
    {
     "data": {
      "image/png": "[encoded data removed]",
      "text/plain": [
       "<Figure size 640x480 with 2 Axes>"
      ]
     },
     "metadata": {},
     "output_type": "display_data"
    }
   ],
   "source": [
    "test_model = PixelCNN(in_channels=1, hidden_channels=64, num_layers=4)\n",
    "inp = torch.zeros(1,1,11,11)\n",
    "inp.requires_grad_()\n",
    "out = test_model(inp)\n",
    "show_center_receptive_field(inp, out.squeeze(dim=2))\n",
    "del inp, out, test_model"
   ]
  },
  {
   "cell_type": "code",
   "execution_count": 14,
   "metadata": {
    "colab": {
     "referenced_widgets": [
      "6841a6682600495abcf04bf235ce71c0",
      "b500dfed210849b38be08cb1340b2b62",
      "ef54ee934aae4c7d8f95b67ffdd49ee5",
      "7452932da8a34babb72dd9ccca4913ef",
      "9582cb6fffad419eabeb102a77c354bc",
      "9f38d0c098a24eda8ad8985e740a3035",
      "acac02346cd24adfb55a126c81c20ab1",
      "0bed9324eef54547beb4ccb8c659177c",
      "87f0dea171aa4c52a07bde1b089d8d89",
      "6013e56dd71e48c7a117eee966077c18",
      "abf0ec156e4e478c937d4c1c8762b666",
      "af7ca9a433e64784a37ce83d72b50b3c",
      "ab8e04d33c9d4d6e96ed6ca0059b5bba",
      "4e901c975c0e41a4b5a09f13349bf5b5",
      "ffcb656ea01a4f16a048478248f9fc56",
      "542475815f0847bf83aa64728f7834cf",
      "3aef0c250ad6411281643d4699f0cd12",
      "4d52afb6cbe54bbc900f3187083e9661",
      "48b7fa170dbe401d93f2c4fb4d02868c",
      "fa23064852034820a482c7ce81aa17fc",
      "431c484d4c5d4ae8898329bdec1a16cf",
      "61cc4ab5b07d41e3b53801333a7221d0",
      "dbdff0db3aa74501b110d563eb9be217",
      "cac11a5a66374fa6918c1af5351dd6e8",
      "57b554685ed64fbbaf09b697bb98d340",
      "e708254161754a1caa97e1a328737e12",
      "8bcf5f8c24cc42658d76935b1abe5342",
      "d91504431e7049ab9b5bc61642143016",
      "c05a46f3eeb14fd6bd5fbbb259fbb159",
      "a33f743d91ee4208b4c83a41cf29c416",
      "a4774d5a0a9242f2b5a9ec6e1d7ceb59",
      "134d5896aa06452d8bf131b0dc8f5ef1",
      "c3e4b1dc6cb74aa2be0e54e64b4970d6",
      "31870e262b3145eca6cf0bd98a499ef2",
      "7fc9b5cec7f341ca87c69a8948a17824",
      "23ad1587117a42b19fdac91accfa9616",
      "be1ae2c0a6534efa9ea44fba71ed72e5",
      "e8b102acfd144f8da08a99d82697f953",
      "a2e9e2cdfcb849158759a9aa0410907d",
      "d9dc83e3169540c781b21ec09eb36fa1",
      "e3618d7bfd664c0ab5ab49dd0f46efc5",
      "a852bb63341246b788743fbe49ad41dc",
      "9d3e7ad017164c05bbf2d45a5861deb2",
      "c075e8736fdc46eeb3c23735d2ee7178",
      "abbae407798347af97a6ce11719fd385",
      "1ad543f502ec46b9bcfb8a7d4344064e"
     ]
    },
    "id": "qlNxuDnVgzjG",
    "outputId": "a2371d91-9bca-4bef-98d1-1abedf0e7723"
   },
   "outputs": [
    {
     "name": "stderr",
     "output_type": "stream",
     "text": [
      "/hpc/dctrl/jy384/miniconda3/envs/myenv/lib/python3.12/site-packages/lightning_fabric/plugins/environments/slurm.py:204: The `srun` command is available on your system but is not used. HINT: If your intention is to run Lightning on SLURM, prepend your python command with `srun` like so: srun python /hpc/dctrl/jy384/miniconda3/envs/myenv/lib/python3.1 ...\n",
      "GPU available: True (cuda), used: True\n",
      "TPU available: False, using: 0 TPU cores\n",
      "HPU available: False, using: 0 HPUs\n"
     ]
    },
    {
     "name": "stderr",
     "output_type": "stream",
     "text": [
      "You are using a CUDA device ('NVIDIA RTX 5000 Ada Generation') that has Tensor Cores. To properly utilize them, you should set `torch.set_float32_matmul_precision('medium' | 'high')` which will trade-off precision for performance. For more details, read https://pytorch.org/docs/stable/generated/torch.set_float32_matmul_precision.html#torch.set_float32_matmul_precision\n"
     ]
    },
    {
     "name": "stdout",
     "output_type": "stream",
     "text": [
      "Training model from scratch...\n"
     ]
    },
    {
     "name": "stderr",
     "output_type": "stream",
     "text": [
      "LOCAL_RANK: 0 - CUDA_VISIBLE_DEVICES: [0]\n",
      "\n",
      "  | Name            | Type                       | Params | Mode \n",
      "-----------------------------------------------------------------------\n",
      "0 | conv_init_vert  | VerticalStackConvolution   | 640    | train\n",
      "1 | conv_init_horiz | HorizontalStackConvolution | 256    | train\n",
      "2 | conv_block      | ModuleList                 | 834 K  | train\n",
      "3 | conv_out        | Conv2d                     | 16.6 K | train\n",
      "-----------------------------------------------------------------------\n",
      "852 K     Trainable params\n",
      "0         Non-trainable params\n",
      "852 K     Total params\n",
      "3.409     Total estimated model params size (MB)\n",
      "55        Modules in train mode\n",
      "0         Modules in eval mode\n"
     ]
    },
    {
     "name": "stdout",
     "output_type": "stream",
     "text": [
      "Epoch 0: 100%|██████████| 235/235 [01:47<00:00,  2.18it/s, v_num=2]        "
     ]
    },
    {
     "name": "stderr",
     "output_type": "stream",
     "text": [
      "Metric val_bpd improved. New best score: 1.394\n"
     ]
    },
    {
     "name": "stdout",
     "output_type": "stream",
     "text": [
      "Epoch 1: 100%|██████████| 235/235 [01:41<00:00,  2.32it/s, v_num=2]"
     ]
    },
    {
     "name": "stderr",
     "output_type": "stream",
     "text": [
      "Metric val_bpd improved by 0.117 >= min_delta = 0.0. New best score: 1.277\n"
     ]
    },
    {
     "name": "stdout",
     "output_type": "stream",
     "text": [
      "Epoch 2: 100%|██████████| 235/235 [01:37<00:00,  2.41it/s, v_num=2]"
     ]
    },
    {
     "name": "stderr",
     "output_type": "stream",
     "text": [
      "Metric val_bpd improved by 0.042 >= min_delta = 0.0. New best score: 1.235\n"
     ]
    },
    {
     "name": "stdout",
     "output_type": "stream",
     "text": [
      "Epoch 3: 100%|██████████| 235/235 [01:42<00:00,  2.29it/s, v_num=2]"
     ]
    },
    {
     "name": "stderr",
     "output_type": "stream",
     "text": [
      "Metric val_bpd improved by 0.035 >= min_delta = 0.0. New best score: 1.200\n"
     ]
    },
    {
     "name": "stdout",
     "output_type": "stream",
     "text": [
      "Epoch 4: 100%|██████████| 235/235 [01:43<00:00,  2.27it/s, v_num=2]"
     ]
    },
    {
     "name": "stderr",
     "output_type": "stream",
     "text": [
      "Metric val_bpd improved by 0.012 >= min_delta = 0.0. New best score: 1.188\n"
     ]
    },
    {
     "name": "stdout",
     "output_type": "stream",
     "text": [
      "Epoch 5: 100%|██████████| 235/235 [01:45<00:00,  2.24it/s, v_num=2]"
     ]
    },
    {
     "name": "stderr",
     "output_type": "stream",
     "text": [
      "Metric val_bpd improved by 0.022 >= min_delta = 0.0. New best score: 1.166\n"
     ]
    },
    {
     "name": "stdout",
     "output_type": "stream",
     "text": [
      "Epoch 6: 100%|██████████| 235/235 [01:36<00:00,  2.43it/s, v_num=2]"
     ]
    },
    {
     "name": "stderr",
     "output_type": "stream",
     "text": [
      "Metric val_bpd improved by 0.009 >= min_delta = 0.0. New best score: 1.157\n"
     ]
    },
    {
     "name": "stdout",
     "output_type": "stream",
     "text": [
      "Epoch 7: 100%|██████████| 235/235 [01:37<00:00,  2.40it/s, v_num=2]"
     ]
    },
    {
     "name": "stderr",
     "output_type": "stream",
     "text": [
      "Metric val_bpd improved by 0.006 >= min_delta = 0.0. New best score: 1.150\n"
     ]
    },
    {
     "name": "stdout",
     "output_type": "stream",
     "text": [
      "Epoch 8: 100%|██████████| 235/235 [01:38<00:00,  2.39it/s, v_num=2]"
     ]
    },
    {
     "name": "stderr",
     "output_type": "stream",
     "text": [
      "Metric val_bpd improved by 0.016 >= min_delta = 0.0. New best score: 1.134\n"
     ]
    },
    {
     "name": "stdout",
     "output_type": "stream",
     "text": [
      "Epoch 9: 100%|██████████| 235/235 [01:41<00:00,  2.31it/s, v_num=2]"
     ]
    },
    {
     "name": "stderr",
     "output_type": "stream",
     "text": [
      "Metric val_bpd improved by 0.007 >= min_delta = 0.0. New best score: 1.127\n",
      "`Trainer.fit` stopped: `max_epochs=10` reached.\n"
     ]
    },
    {
     "name": "stdout",
     "output_type": "stream",
     "text": [
      "Epoch 9: 100%|██████████| 235/235 [01:41<00:00,  2.31it/s, v_num=2]\n"
     ]
    },
    {
     "name": "stderr",
     "output_type": "stream",
     "text": [
      "LOCAL_RANK: 0 - CUDA_VISIBLE_DEVICES: [0]\n"
     ]
    },
    {
     "name": "stdout",
     "output_type": "stream",
     "text": [
      "Validation DataLoader 0: 100%|██████████| 40/40 [00:12<00:00,  3.14it/s]\n"
     ]
    },
    {
     "data": {
      "text/html": [
       "<pre style=\"white-space:pre;overflow-x:auto;line-height:normal;font-family:Menlo,'DejaVu Sans Mono',consolas,'Courier New',monospace\">┏━━━━━━━━━━━━━━━━━━━━━━━━━━━┳━━━━━━━━━━━━━━━━━━━━━━━━━━━┓\n",
       "┃<span style=\"font-weight: bold\">      Validate metric      </span>┃<span style=\"font-weight: bold\">       DataLoader 0        </span>┃\n",
       "┡━━━━━━━━━━━━━━━━━━━━━━━━━━━╇━━━━━━━━━━━━━━━━━━━━━━━━━━━┩\n",
       "│<span style=\"color: #008080; text-decoration-color: #008080\">          val_bpd          </span>│<span style=\"color: #800080; text-decoration-color: #800080\">    1.1270314455032349     </span>│\n",
       "└───────────────────────────┴───────────────────────────┘\n",
       "</pre>\n"
      ],
      "text/plain": [
       "┏━━━━━━━━━━━━━━━━━━━━━━━━━━━┳━━━━━━━━━━━━━━━━━━━━━━━━━━━┓\n",
       "┃\u001b[1m \u001b[0m\u001b[1m     Validate metric     \u001b[0m\u001b[1m \u001b[0m┃\u001b[1m \u001b[0m\u001b[1m      DataLoader 0       \u001b[0m\u001b[1m \u001b[0m┃\n",
       "┡━━━━━━━━━━━━━━━━━━━━━━━━━━━╇━━━━━━━━━━━━━━━━━━━━━━━━━━━┩\n",
       "│\u001b[36m \u001b[0m\u001b[36m         val_bpd         \u001b[0m\u001b[36m \u001b[0m│\u001b[35m \u001b[0m\u001b[35m   1.1270314455032349    \u001b[0m\u001b[35m \u001b[0m│\n",
       "└───────────────────────────┴───────────────────────────┘\n"
      ]
     },
     "metadata": {},
     "output_type": "display_data"
    },
    {
     "name": "stderr",
     "output_type": "stream",
     "text": [
      "LOCAL_RANK: 0 - CUDA_VISIBLE_DEVICES: [0]\n"
     ]
    },
    {
     "name": "stdout",
     "output_type": "stream",
     "text": [
      "Testing DataLoader 0: 100%|██████████| 40/40 [00:12<00:00,  3.18it/s]\n"
     ]
    },
    {
     "data": {
      "text/html": [
       "<pre style=\"white-space:pre;overflow-x:auto;line-height:normal;font-family:Menlo,'DejaVu Sans Mono',consolas,'Courier New',monospace\">┏━━━━━━━━━━━━━━━━━━━━━━━━━━━┳━━━━━━━━━━━━━━━━━━━━━━━━━━━┓\n",
       "┃<span style=\"font-weight: bold\">        Test metric        </span>┃<span style=\"font-weight: bold\">       DataLoader 0        </span>┃\n",
       "┡━━━━━━━━━━━━━━━━━━━━━━━━━━━╇━━━━━━━━━━━━━━━━━━━━━━━━━━━┩\n",
       "│<span style=\"color: #008080; text-decoration-color: #008080\">         test_bpd          </span>│<span style=\"color: #800080; text-decoration-color: #800080\">    1.1270314455032349     </span>│\n",
       "└───────────────────────────┴───────────────────────────┘\n",
       "</pre>\n"
      ],
      "text/plain": [
       "┏━━━━━━━━━━━━━━━━━━━━━━━━━━━┳━━━━━━━━━━━━━━━━━━━━━━━━━━━┓\n",
       "┃\u001b[1m \u001b[0m\u001b[1m       Test metric       \u001b[0m\u001b[1m \u001b[0m┃\u001b[1m \u001b[0m\u001b[1m      DataLoader 0       \u001b[0m\u001b[1m \u001b[0m┃\n",
       "┡━━━━━━━━━━━━━━━━━━━━━━━━━━━╇━━━━━━━━━━━━━━━━━━━━━━━━━━━┩\n",
       "│\u001b[36m \u001b[0m\u001b[36m        test_bpd         \u001b[0m\u001b[36m \u001b[0m│\u001b[35m \u001b[0m\u001b[35m   1.1270314455032349    \u001b[0m\u001b[35m \u001b[0m│\n",
       "└───────────────────────────┴───────────────────────────┘\n"
      ]
     },
     "metadata": {},
     "output_type": "display_data"
    },
    {
     "name": "stdout",
     "output_type": "stream",
     "text": [
      "Validation BPD: 1.1270\n",
      "Test BPD: 1.1270\n"
     ]
    }
   ],
   "source": [
    "import os\n",
    "from pytorch_lightning.callbacks import LearningRateMonitor, EarlyStopping, ModelCheckpoint\n",
    "from pytorch_lightning.loggers import TensorBoardLogger\n",
    "\n",
    "\n",
    "# Create generation callback to monitor training progress\n",
    "class GenerateCallback(pl.Callback):\n",
    "    def __init__(self, every_n_epochs=1):\n",
    "        \"\"\"\n",
    "        Inputs:\n",
    "            every_n_epochs - Only save those images every N epochs (default: 1)\n",
    "        \"\"\"\n",
    "        super().__init__()\n",
    "        self.every_n_epochs = every_n_epochs\n",
    "\n",
    "    def on_epoch_end(self, trainer, pl_module):\n",
    "        \"\"\"\n",
    "        This function is called after every epoch.\n",
    "        \"\"\"\n",
    "        if (trainer.current_epoch+1) % self.every_n_epochs == 0:\n",
    "            # Generate images\n",
    "            with torch.no_grad():\n",
    "                pl_module.eval()\n",
    "                imgs_shape = (4, 1, 11, 11)  # Generate 4 images\n",
    "                imgs = pl_module.sample(imgs_shape)\n",
    "                pl_module.train()\n",
    "\n",
    "            # Plot and save images\n",
    "            imgs = imgs.cpu()\n",
    "            imgs_grid = torchvision.utils.make_grid(imgs, nrow=4, normalize=True, value_range=(-1,1))\n",
    "            trainer.logger.experiment.add_image(\"generated_images\", imgs_grid, global_step=trainer.global_step)\n",
    "\n",
    "# # Set up model and training\n",
    "# CHECKPOINT_PATH = \"saved_models/pixelcnn.ckpt\"\n",
    "# os.makedirs(os.path.dirname(CHECKPOINT_PATH), exist_ok=True)\n",
    "\n",
    "def train_pixelcnn(train_loader, val_loader, **kwargs):\n",
    "    # Create a PyTorch Lightning trainer with the generation callback\n",
    "    trainer = pl.Trainer(\n",
    "        # default_root_dir=os.path.dirname(CHECKPOINT_PATH),\n",
    "        accelerator=\"auto\",\n",
    "        devices=1,\n",
    "        max_epochs=kwargs.get(\"max_epochs\", 100),\n",
    "        callbacks=[\n",
    "            ModelCheckpoint(save_weights_only=True, mode=\"min\", monitor=\"val_bpd\"),\n",
    "            GenerateCallback(every_n_epochs=5),\n",
    "            # Early stopping\n",
    "            EarlyStopping(monitor=\"val_bpd\", mode=\"min\", patience=5, verbose=True),\n",
    "            LearningRateMonitor(logging_interval='epoch')\n",
    "        ],\n",
    "        enable_progress_bar=True,\n",
    "        logger=TensorBoardLogger(\"lightning_logs\", name=\"pixelcnn\")\n",
    "    )\n",
    "\n",
    "    # Check if pretrained model exists, if yes load it\n",
    "    if os.path.isfile(CHECKPOINT_PATH):\n",
    "        print(\"Found pretrained model, loading...\")\n",
    "        model = PixelCNN.load_from_checkpoint(CHECKPOINT_PATH)\n",
    "    else:\n",
    "        print(\"Training model from scratch...\")\n",
    "        model = PixelCNN(in_channels=1, hidden_channels=64, num_layers=7)\n",
    "        trainer.fit(model, train_loader, val_loader)\n",
    "        # Load best model after training\n",
    "        model = PixelCNN.load_from_checkpoint(trainer.checkpoint_callback.best_model_path)\n",
    "\n",
    "    # Test best model on validation and test set\n",
    "    val_result = trainer.validate(model, val_loader, verbose=True)\n",
    "    test_result = trainer.test(model, test_loader, verbose=True)\n",
    "\n",
    "    return model, val_result, test_result\n",
    "\n",
    "if __name__ == \"__main__\":\n",
    "\n",
    "    transform = transforms.Compose([\n",
    "        transforms.Resize(11),\n",
    "        transforms.ToTensor(),\n",
    "        # not using dequantization since we are going to learn the distribution over the each 256 values for each pixel\n",
    "        # transforms.Lambda(lambda x: x + 0.01 * torch.rand_like(x) / 256.),\n",
    "        # normalize to mean 0 and std 1 using standard MNIST mean and std\n",
    "        # transforms.Normalize((0.1307,), (0.3081,))\n",
    "\n",
    "        # need to discretize instead\n",
    "        # DiscretizeTransform()\n",
    "        transforms.Lambda(_discretize)\n",
    "    ])\n",
    "\n",
    "    train_set = torchvision.datasets.MNIST(root='./MNIST', train=True, transform=transform, download=True)\n",
    "    val_set = torchvision.datasets.MNIST(root='./MNIST', train=False, transform=transform, download=True)\n",
    "    test_dataset = torchvision.datasets.MNIST(root='./MNIST', train=False, transform=transform, download=True)\n",
    "\n",
    "    train_loader = DataLoader(train_set, batch_size=256, shuffle=True, num_workers=4)\n",
    "    val_loader = DataLoader(val_set, batch_size=256, shuffle=False, num_workers=4)\n",
    "    test_loader = DataLoader(test_dataset, batch_size=256, shuffle=False, num_workers=4)\n",
    "\n",
    "    # Train model with default parameters\n",
    "    model, val_result, test_result = train_pixelcnn(train_loader, val_loader, max_epochs=10)\n",
    "\n",
    "    print(f\"Validation BPD: {val_result[0]['val_bpd']:.4f}\")\n",
    "    print(f\"Test BPD: {test_result[0]['test_bpd']:.4f}\")"
   ]
  },
  {
   "cell_type": "code",
   "execution_count": 16,
   "metadata": {
    "id": "IL-3IoW-gzjG",
    "outputId": "2a8d3b1b-bff0-4e61-8f36-a278b7c534aa"
   },
   "outputs": [
    {
     "name": "stdout",
     "output_type": "stream",
     "text": [
      "Loading checkpoint from: lightning_logs/pixelcnn/version_2/checkpoints/epoch=9-step=2350.ckpt\n",
      "Runtime Error: Input type (torch.FloatTensor) and weight type (torch.cuda.FloatTensor) should be the same or input should be a MKLDNN tensor and weight is a dense tensor\n",
      "\n",
      "Trying alternative approach...\n"
     ]
    },
    {
     "name": "stderr",
     "output_type": "stream",
     "text": [
      "Clipping input data to the valid range for imshow with RGB data ([0..1] for floats or [0..255] for integers). Got range [0.0..255.0].\n"
     ]
    },
    {
     "data": {
      "image/png": "[encoded data removed]",
      "text/plain": [
       "<Figure size 400x400 with 1 Axes>"
      ]
     },
     "metadata": {},
     "output_type": "display_data"
    }
   ],
   "source": [
    "import glob\n",
    "\n",
    "def load_latest_model():\n",
    "    # Find all checkpoint files in the Lightning logs directory\n",
    "    checkpoint_files = glob.glob(\"lightning_logs/pixelcnn/version_*/checkpoints/*.ckpt\")\n",
    "\n",
    "    if not checkpoint_files:\n",
    "        raise FileNotFoundError(\"No checkpoint files found\")\n",
    "\n",
    "    # Get the most recent checkpoint file based on modification time\n",
    "    latest_checkpoint = max(checkpoint_files, key=os.path.getmtime)\n",
    "    print(f\"Loading checkpoint from: {latest_checkpoint}\")\n",
    "\n",
    "    # Load the model\n",
    "    model = PixelCNN.load_from_checkpoint(latest_checkpoint)\n",
    "\n",
    "    # Move model to appropriate device\n",
    "    device = torch.device(\"cuda\" if torch.cuda.is_available()\n",
    "                         else \"mps\" if torch.backends.mps.is_available()\n",
    "                         else \"cpu\")\n",
    "    model = model.to(device)\n",
    "    model.eval()  # Set to evaluation mode\n",
    "    return model, device\n",
    "\n",
    "# Usage\n",
    "try:\n",
    "    model, device = load_latest_model()\n",
    "\n",
    "    # Generate samples\n",
    "    with torch.no_grad():\n",
    "        # Create sample tensor on the same device as model\n",
    "        img_shape = (16, 1, 11, 11)\n",
    "        samples = model.sample(img_shape=img_shape)\n",
    "\n",
    "        # Move samples to CPU for visualization\n",
    "        samples = samples.cpu()\n",
    "\n",
    "    # Display samples\n",
    "    samples_grid = torchvision.utils.make_grid(images, nrow=4, pad_value=255)\n",
    "    samples_grid = samples_grid.clamp(0, 255)\n",
    "    plt.figure(figsize=(8,8))\n",
    "    plt.imshow(samples_grid.permute(1,2,0))\n",
    "    plt.axis('off')\n",
    "    plt.show()\n",
    "\n",
    "except FileNotFoundError as e:\n",
    "    print(f\"Error: {e}\")\n",
    "except RuntimeError as e:\n",
    "    print(f\"Runtime Error: {e}\")\n",
    "    print(\"\\nTrying alternative approach...\")\n",
    "\n",
    "    # If the above fails, try forcing CPU execution\n",
    "    model = model.cpu()\n",
    "    with torch.no_grad():\n",
    "        samples = model.sample(img_shape=(16, 1, 11, 11))\n",
    "        samples = samples.cpu()\n",
    "\n",
    "    visualize_images(samples)"
   ]
  },
  {
   "cell_type": "markdown",
   "metadata": {
    "id": "RExRcdxFgzjG"
   },
   "source": [
    "## Question 3: Energy-based Models\n",
    "\n",
    "- make a simple energy-based model with E(x,\\theta) = f_{\\theta}(x). Here, f_{\\theta}() is a simple 2-layer convolutional network (CNN). You should design this CNN yourself, which include (at least) 2 convolutional layers.\n",
    "- train and use Gibbs sampling and Langevin Dynamics method on USPS."
   ]
  },
  {
   "cell_type": "markdown",
   "metadata": {
    "id": "mLCFM3T6gzjG"
   },
   "source": [
    "For this question, I worked with:\n",
    "\n",
    "- Daniel Coble\n",
    "\n",
    "For this question, I referenced a few sites/ papers/ github repositories, especially:\n",
    "\n",
    "- https://uvadlc-notebooks.readthedocs.io/en/latest/tutorial_notebooks/tutorial8/Deep_Energy_Models.html\n",
    "\n",
    "I spent 15 hours on this question. I have some suggestions:\n",
    "1. The gibbs sampling is slow to mix and has very low computational efficiency. Maybe guidelines on what we should expect for the gibbs sampling outcome can help.\n",
    "2. Also for gibbs sampling, maybe hints on how to improve the sampling outcome can be helpful, since it is very sensitive to the initial conditions and bad initialization can lead to bad sampling outcome."
   ]
  },
  {
   "cell_type": "markdown",
   "metadata": {
    "id": "-wlqfQaQgzjH"
   },
   "source": [
    "If you are interested in the above, start thinking about presentation topics and talk to Vahid. <br>\n",
    "If you are interested in something later on in the class, skim through the slides, also start thinking about presentation topics and talk to Vahid."
   ]
  },
  {
   "cell_type": "code",
   "execution_count": 1,
   "metadata": {
    "id": "t3Ke8_iHgzjH"
   },
   "outputs": [],
   "source": [
    "import random\n",
    "import numpy as np\n",
    "import torch\n",
    "import torch.nn as nn\n",
    "import torch.nn.functional as F\n",
    "import torch.optim as optim\n",
    "import torchvision\n",
    "\n",
    "try:\n",
    "    import pytorch_lightning as pl\n",
    "except ModuleNotFoundError:\n",
    "    !pip install pytorch-lightning\n",
    "    import pytorch_lightning as pl\n",
    "\n",
    "from torchvision import datasets, transforms\n",
    "from torch.utils.data import DataLoader\n",
    "from pytorch_lightning.callbacks import LearningRateMonitor, EarlyStopping, ModelCheckpoint\n",
    "from pytorch_lightning.loggers import TensorBoardLogger\n",
    "\n",
    "import matplotlib.pyplot as plt\n",
    "\n",
    "method = 'gibbs'\n",
    "CHECKPOINT_PATH = f\"saved_models/energy_model_{method}.ckpt\"\n",
    "device = torch.device(\"cuda\" if torch.cuda.is_available() else \"mps\" if torch.backends.mps.is_available() else \"cpu\")\n",
    "\n",
    "\n",
    "\n",
    "# =============================================================================\n",
    "# 1. CNN Model for Energy-based Modeling\n",
    "# =============================================================================\n",
    "\n",
    "class Swish(nn.Module):\n",
    "    def forward(self, x):\n",
    "        return x * torch.sigmoid(x)\n",
    "\n",
    "# class CNNModel(nn.Module):\n",
    "#     \"\"\"\n",
    "#     A convolutional neural network for modeling an energy function.\n",
    "\n",
    "#     Mathematical Formulation:\n",
    "#       Given an image x and learnable parameters θ, we define the energy function as\n",
    "#         E(x; θ) = f_θ(x)\n",
    "#       where a lower energy is associated with a higher probability.\n",
    "    \n",
    "#     Architecture:\n",
    "#       - A series of convolutional layers with non-linear (Swish) activations.\n",
    "#       - Final fully-connected layers map the extracted features to a scalar value.\n",
    "      \n",
    "#       The network processes the image through a succession of layers. The use of strided\n",
    "#       convolutions reduces the spatial dimensions, and the nonlinear activations help to capture\n",
    "#       the complex energy landscape.\n",
    "#     \"\"\"\n",
    "#     def __init__(self, hidden_features=32, out_dim=1, **kwargs):\n",
    "#         super().__init__()\n",
    "#         # Define intermediate channel sizes.\n",
    "#         c_hid1 = hidden_features // 2   # First hidden channel count.\n",
    "#         c_hid2 = hidden_features        # Intermediate features.\n",
    "#         c_hid3 = hidden_features * 2    # Expanded feature dimension.\n",
    "\n",
    "#         # The CNN architecture: progressively reducing spatial resolution while increasing feature complexity.\n",
    "#         self.cnn_layers = nn.Sequential(\n",
    "#             nn.Conv2d(1, c_hid1, kernel_size=5, stride=2, padding=4),\n",
    "#             Swish(),\n",
    "#             nn.Conv2d(c_hid1, c_hid2, kernel_size=3, stride=2, padding=1),\n",
    "#             Swish(),\n",
    "#             nn.Conv2d(c_hid2, c_hid3, kernel_size=3, stride=2, padding=1),\n",
    "#             Swish(),\n",
    "#             nn.Conv2d(c_hid3, c_hid3, kernel_size=3, stride=2, padding=1),\n",
    "#             Swish(),\n",
    "#             nn.Flatten(),\n",
    "#             nn.Linear(c_hid3 * 4, c_hid3),\n",
    "#             Swish(),\n",
    "#             nn.Linear(c_hid3, out_dim)  # Output energy scalar.\n",
    "#         )\n",
    "    \n",
    "#     def forward(self, x):\n",
    "#         \"\"\"\n",
    "#         Forward pass: computes the energy E(x; θ) for each input.\n",
    "        \n",
    "#         Args:\n",
    "#             x (torch.Tensor): Input images of shape [B, 1, H, W].\n",
    "        \n",
    "#         Returns:\n",
    "#             torch.Tensor: Energy values of shape [B].\n",
    "#         \"\"\"\n",
    "#         # Squeeze reduces any last-singleton dimensions.\n",
    "#         return self.cnn_layers(x).squeeze(dim=-1)\n",
    "\n",
    "\n",
    "class CNNModel(nn.Module):\n",
    "    \"\"\"\n",
    "    A convolutional neural network for modeling an energy function.\n",
    "\n",
    "    Mathematical Formulation:\n",
    "      E(x; θ) = f_θ(x)\n",
    "      where lower energy indicates a higher probability.\n",
    "\n",
    "    Revised Architecture for Energy-based Modeling:\n",
    "      - Several convolutional layers with non-linear (Swish) activations.\n",
    "      - Strided convolutions gradually reduce spatial resolution.\n",
    "      - An Adaptive Average Pooling layer is used to aggregate the spatial\n",
    "        features without assuming a fixed input size.\n",
    "      - A final Linear layer maps the pooled features to a single energy scalar.\n",
    "    \"\"\"\n",
    "    def __init__(self, hidden_features=32, **kwargs):\n",
    "        super().__init__()\n",
    "        # Define intermediate channel sizes.\n",
    "        c_hid1 = hidden_features // 2   # First hidden channel count.\n",
    "        c_hid2 = hidden_features        # Intermediate features.\n",
    "        c_hid3 = hidden_features * 2    # Expanded feature dimension.\n",
    "\n",
    "        # Convolutional backbone: progressively reducing spatial resolution.\n",
    "        self.cnn_layers = nn.Sequential(\n",
    "            nn.Conv2d(1, c_hid1, kernel_size=5, stride=2, padding=4),\n",
    "            Swish(),\n",
    "            nn.Conv2d(c_hid1, c_hid2, kernel_size=3, stride=2, padding=1),\n",
    "            Swish(),\n",
    "            nn.Conv2d(c_hid2, c_hid3, kernel_size=3, stride=2, padding=1),\n",
    "            Swish(),\n",
    "            nn.Conv2d(c_hid3, c_hid3, kernel_size=3, stride=2, padding=1),\n",
    "            Swish()\n",
    "        )\n",
    "        \n",
    "        # Adaptive pooling to aggregate spatial information to (B, c_hid3, 1, 1)\n",
    "        self.pool = nn.AdaptiveAvgPool2d(1)\n",
    "        \n",
    "        # Fully-connected head to produce a single energy scalar.\n",
    "        self.fc_layers = nn.Sequential(\n",
    "            nn.Flatten(),\n",
    "            nn.Linear(c_hid3, 1)\n",
    "        )\n",
    "    \n",
    "    def forward(self, x):\n",
    "        \"\"\"\n",
    "        Forward pass: computes the energy E(x; θ) for each input.\n",
    "\n",
    "        Args:\n",
    "            x (torch.Tensor): Input images of shape [B, 1, H, W].\n",
    "\n",
    "        Returns:\n",
    "            torch.Tensor: Energy values of shape [B].\n",
    "        \"\"\"\n",
    "        features = self.cnn_layers(x)   # Shape: [B, c_hid3, H', W']\n",
    "        pooled = self.pool(features)    # Shape: [B, c_hid3, 1, 1]\n",
    "        energy = self.fc_layers(pooled) # Shape: [B, 1]\n",
    "        return energy.view(x.size(0))    # Return as a scalar energy per image."
   ]
  },
  {
   "cell_type": "code",
   "execution_count": 2,
   "metadata": {
    "id": "_JgxLMG-gzjH"
   },
   "outputs": [],
   "source": [
    "\n",
    "# =============================================================================\n",
    "# 2. Sampler for Energy-Based Models\n",
    "# =============================================================================\n",
    "\n",
    "class Sampler:\n",
    "    \"\"\"\n",
    "    Generates samples from the energy-based model using either Langevin Dynamics\n",
    "    or Gibbs Sampling.\n",
    "\n",
    "    Sampling Methods:\n",
    "      1. Langevin Dynamics:\n",
    "         - Update rule: x_(t+1) = x_t - η * ∇ₓE(x_t;θ) + noise.\n",
    "         - The gradient ∇ₓE is computed via backpropagation; adding small Gaussian noise to the update.\n",
    "         - No Metropolis-Hastings correction is applied.\n",
    "      \n",
    "      2. Gibbs Sampling:\n",
    "         - For each pixel (assumed binary in this example), update sequentially:\n",
    "             * Temporarily set the pixel to each possible value.\n",
    "             * Compute the “energy” (really –E since lower energy is more probable).\n",
    "             * Convert these into a probability via a softmax.\n",
    "             * Sample a new pixel value from the resulting distribution.\n",
    "    \n",
    "    Attributes:\n",
    "        model (nn.Module): The energy model f_θ.\n",
    "        img_shape (tuple): The shape of a single image (C, H, W).\n",
    "        sample_size (int): Number of images to generate in one batch.\n",
    "        max_len (int): Maximum number of examples to keep in the sample buffer.\n",
    "        method (str): The sampling method ('langevin' or 'gibbs').\n",
    "        examples (list): Buffer storing recently generated samples (used for Langevin).\n",
    "    \"\"\"\n",
    "    def __init__(self, model, img_shape, sample_size, max_len=8192, method='langevin'):\n",
    "        self.model = model\n",
    "        self.img_shape = img_shape\n",
    "        self.sample_size = sample_size\n",
    "        self.max_len = max_len\n",
    "        self.method = method\n",
    "        # For Langevin dynamics we initialize random samples; leave empty for Gibbs.\n",
    "        self.examples = [(torch.rand((1,) + img_shape) > 0.5).float() * 2 - 1] if self.method == \"gibbs\" else [\n",
    "            (torch.rand((1,) + img_shape) * 2 - 1) for _ in range(self.sample_size)\n",
    "        ]\n",
    "\n",
    "    def sample_new_exmps(self, steps=60, step_size=10, method='langevin'):\n",
    "        \"\"\"\n",
    "        Generates new examples by applying the chosen MCMC update repeatedly.\n",
    "\n",
    "        Combine a few new random samples with samples from the buffer.\n",
    "        \n",
    "        \n",
    "        Args:\n",
    "            steps (int): Number of update iterations.\n",
    "            step_size (float): The step size (or learning rate) in the update.\n",
    "            method (str): Sampling method (should be consistent with this instance).\n",
    "            real_imgs (torch.Tensor): Required for Gibbs sampling; starting points.\n",
    "        \n",
    "        Returns:\n",
    "            torch.Tensor: Generated images.\n",
    "        \"\"\"\n",
    "        if self.method == 'gibbs':\n",
    "            # if real_imgs is None:\n",
    "            #     raise ValueError(\"For Gibbs sampling, real_imgs must be supplied.\")\n",
    "            n_new = np.random.binomial(self.sample_size, 0.05) #\n",
    "            # define shape of random images and convert to binary -1 or 1 \n",
    "            rand_imgs = torch.rand((n_new,) + self.img_shape)\n",
    "            rand_imgs = (rand_imgs > 0.5).float() * 2 - 1   \n",
    "            # concatenate with old images\n",
    "            old_imgs = torch.cat(random.choices(self.examples, k=self.sample_size - n_new), dim=0)\n",
    "            inp_imgs = torch.cat([rand_imgs, old_imgs], dim=0).detach().to(device)\n",
    "            inp_imgs = self.generate_samples(self.model, inp_imgs, steps, step_size, method=method)\n",
    "            self.examples = list(inp_imgs.cpu().chunk(self.sample_size, dim=0)) + self.examples\n",
    "            self.examples = self.examples[:self.max_len]\n",
    "            # print(\"Buffer length:\", len(self.examples))\n",
    "            return inp_imgs\n",
    "        else:\n",
    "            n_new = np.random.binomial(self.sample_size, 0.05)\n",
    "            rand_imgs = torch.rand((n_new,) + self.img_shape) * 2 - 1\n",
    "            old_imgs = torch.cat(random.choices(self.examples, k=self.sample_size - n_new), dim=0)\n",
    "            inp_imgs = torch.cat([rand_imgs, old_imgs], dim=0).detach().to(device)\n",
    "            inp_imgs = self.generate_samples(self.model, inp_imgs, steps, step_size, method=method)\n",
    "            self.examples = list(inp_imgs.cpu().chunk(self.sample_size, dim=0)) + self.examples\n",
    "            self.examples = self.examples[:self.max_len]\n",
    "            return inp_imgs\n",
    "\n",
    "    @staticmethod\n",
    "    def generate_samples(model, inp_imgs, steps=60, step_size=10, return_img_per_step=False, method='langevin'):\n",
    "        \"\"\"\n",
    "        Applies iterative MCMC updates to generate samples.\n",
    "        \n",
    "        Args:\n",
    "            model (nn.Module): The energy function.\n",
    "            inp_imgs (torch.Tensor): Initial images.\n",
    "            steps (int): Number of MCMC iterations.\n",
    "            step_size (float): Update step size.\n",
    "            return_img_per_step (bool): Whether to return samples at every step.\n",
    "            method (str): 'langevin' or 'gibbs'.\n",
    "        \n",
    "        Returns:\n",
    "            torch.Tensor: Final images or a stack of images at various steps.\n",
    "        \"\"\"\n",
    "        is_training = model.training\n",
    "        model.eval()\n",
    "\n",
    "        if method == 'langevin':\n",
    "            # print(\"Using Langevin Dynamics sampling...\")\n",
    "            for p in model.parameters():\n",
    "                p.requires_grad = False\n",
    "            inp_imgs.requires_grad = True\n",
    "\n",
    "            imgs_per_step = []\n",
    "            had_grad_enabled = torch.is_grad_enabled()\n",
    "            torch.set_grad_enabled(True)\n",
    "\n",
    "            noise = torch.randn(inp_imgs.shape, device=inp_imgs.device)\n",
    "\n",
    "            for _ in range(steps):\n",
    "                # Part A: Add a small Gaussian noise.\n",
    "                noise.normal_(0, 0.005)\n",
    "                inp_imgs.data.add_(noise.data)\n",
    "                inp_imgs.data.clamp_(-1.0, 1.0)\n",
    "\n",
    "                # Part B: Compute gradients of the (negative) energy.\n",
    "                energy = model(inp_imgs)\n",
    "                (-energy).sum().backward()\n",
    "                grad_clamped = inp_imgs.grad.data.clamp_(-0.03, 0.03)\n",
    "                # Update: move in the direction of lowering energy.\n",
    "                inp_imgs.data.add_(-step_size * grad_clamped)\n",
    "                inp_imgs.grad.zero_()\n",
    "                inp_imgs.data.clamp_(-1.0, 1.0)\n",
    "\n",
    "                if return_img_per_step:\n",
    "                    imgs_per_step.append(inp_imgs.clone().detach())\n",
    "\n",
    "            for p in model.parameters():\n",
    "                p.requires_grad = True\n",
    "            model.train(is_training)\n",
    "            torch.set_grad_enabled(had_grad_enabled)\n",
    "\n",
    "            if return_img_per_step:\n",
    "                return torch.stack(imgs_per_step, dim=0)\n",
    "            return inp_imgs\n",
    "\n",
    "        elif method == 'gibbs':\n",
    "            imgs_per_step = [] if return_img_per_step else None\n",
    "            for _ in range(steps):\n",
    "                inp_imgs = Sampler.gibbs_step(model, inp_imgs)\n",
    "                if return_img_per_step:\n",
    "                    imgs_per_step.append(inp_imgs.clone().detach())\n",
    "            return torch.stack(imgs_per_step, dim=0) if return_img_per_step else inp_imgs\n",
    "\n",
    "    @staticmethod \n",
    "    def gibbs_step(model, x):\n",
    "        \"\"\"\n",
    "        Gibbs sampling step with batch processing and random permutation\n",
    "        \n",
    "        This function performs Gibbs sampling on the input images. It randomly permutes the pixels and updates the image one pixel at a time.\n",
    "        For each pixel, it considers both possible values (-1 and 1) and updates the image with the value that has lower energy.\n",
    "        \n",
    "        Args:\n",
    "            model (nn.Module): The energy model.\n",
    "            x (torch.Tensor): The input images.\n",
    "        \n",
    "        Returns:\n",
    "            torch.Tensor: The updated images.\n",
    "        \"\"\"\n",
    "        # Setup dimensions and device\n",
    "        batch_size, _, h, w = x.shape\n",
    "        device = x.device\n",
    "        \n",
    "        # Generate random pixel order\n",
    "        pixel_order = torch.randperm(h * w, device=device)\n",
    "        \n",
    "        with torch.no_grad():  # Disable gradient tracking\n",
    "            model.eval()  # Set model to evaluation mode\n",
    "            \n",
    "            for idx in pixel_order:\n",
    "                i = idx // w\n",
    "                j = idx % w\n",
    "                \n",
    "                # Create expanded batch with both possible values (-1 and 1)\n",
    "                expanded = x.repeat(2, 1, 1, 1)  # [2B, C, H, W]\n",
    "                expanded[:batch_size, :, i, j] = -1.0\n",
    "                expanded[batch_size:, :, i, j] = 1.0\n",
    "                \n",
    "                # Single forward pass for all possibilities\n",
    "                energy = model(expanded)\n",
    "                logits = energy.view(2, batch_size)  # [2, B]\n",
    "                \n",
    "                # Convert to probabilities and sample\n",
    "                probs = F.softmax(-logits, dim=0)  # Lower energy = higher probability\n",
    "                choices = torch.multinomial(probs.T, 1)  # Keep dimension [B, 1]\n",
    "                \n",
    "                # Update original tensor with sampled values\n",
    "                x[:, :, i, j] = torch.where(choices.bool(),\n",
    "                                        torch.tensor(1.0, device=device),\n",
    "                                        torch.tensor(-1.0, device=device))\n",
    "\n",
    "        return x\n"
   ]
  },
  {
   "cell_type": "code",
   "execution_count": 3,
   "metadata": {
    "id": "WWjCRRS4gzjH"
   },
   "outputs": [],
   "source": [
    "        \n",
    "# =============================================================================\n",
    "# 3. Energy-Based Model using PyTorch Lightning\n",
    "# =============================================================================\n",
    "\n",
    "class DeepEnergyModel(pl.LightningModule):\n",
    "    \"\"\"\n",
    "    An energy-based model that sets E(x; θ) = f_θ(x) and learns to distinguish between\n",
    "    real and generated images using contrastive divergence.\n",
    "\n",
    "    Loss Components:\n",
    "      - Regularization Loss:   α * (E(real)^2 + E(fake)^2)\n",
    "      - Contrastive Divergence: E(fake) - E(real)\n",
    "\n",
    "    The overall training loss is given by:\n",
    "      Loss = α * (E(real)^2 + E(fake)^2) + (E(fake) - E(real))\n",
    "    \n",
    "    Sampling for fake images is done via either Langevin dynamics or Gibbs sampling.\n",
    "    \"\"\"\n",
    "    def __init__(self, img_shape, batch_size, alpha=0.1, lr=1e-4, beta1=0.0,\n",
    "                 method='langevin', steps=60, step_size=10, **CNN_args):\n",
    "        super().__init__()\n",
    "        self.save_hyperparameters()\n",
    "        self.cnn = CNNModel(**CNN_args)\n",
    "        self.sampler = Sampler(self.cnn, img_shape=img_shape, sample_size=batch_size, method=method)\n",
    "        self.example_input_array = torch.zeros(1, *img_shape)\n",
    "    \n",
    "    def forward(self, x):\n",
    "        \"\"\"\n",
    "        Forward pass: computes the energy for input images.\n",
    "        \n",
    "        Args:\n",
    "            x (torch.Tensor): Images [B, 1, H, W].\n",
    "        \n",
    "        Returns:\n",
    "            torch.Tensor: Energy scores [B].\n",
    "        \"\"\"\n",
    "        return self.cnn(x)\n",
    "    \n",
    "    def configure_optimizers(self):\n",
    "        \"\"\"\n",
    "        Set up the Adam optimizer and exponential decay learning rate scheduler.\n",
    "        Note: Beta1 is set to 0 for stabilization.\n",
    "        \"\"\"\n",
    "        optimizer = optim.Adam(self.parameters(), lr=self.hparams.lr, betas=(self.hparams.beta1, 0.999))\n",
    "        scheduler = optim.lr_scheduler.StepLR(optimizer, step_size=1, gamma=0.97)\n",
    "        return [optimizer], [scheduler]\n",
    "    \n",
    "    def training_step(self, batch, batch_idx):\n",
    "        \"\"\"\n",
    "        Training step:\n",
    "          1. (For Langevin) Add a tiny noise to real images.\n",
    "          2. Generate fake images using the specified sampling method.\n",
    "          3. Compute energies for both real and fake images.\n",
    "          4. Calculate the regularization and contrastive divergence losses.\n",
    "          5. Log metrics.\n",
    "        \"\"\"\n",
    "        real_imgs, _ = batch\n",
    "        if self.hparams.method == 'langevin':\n",
    "            small_noise = torch.randn_like(real_imgs) * 0.005\n",
    "            real_imgs = (real_imgs + small_noise).clamp(-1.0, 1.0)\n",
    "\n",
    "        \n",
    "        fake_imgs = self.sampler.sample_new_exmps(\n",
    "            steps=self.hparams.steps,\n",
    "            step_size=self.hparams.step_size,\n",
    "            method=self.hparams.method,\n",
    "        )\n",
    "        \n",
    "        # Split energy computation between real and fake images.\n",
    "        combined = torch.cat([real_imgs, fake_imgs], dim=0)\n",
    "        real_energy, fake_energy = self.cnn(combined).chunk(2, dim=0)\n",
    "\n",
    "        if self.hparams.method == 'langevin':\n",
    "            # Regularize to prevent arbitrarily high energy values.\n",
    "            reg_loss = self.hparams.alpha * (real_energy.pow(2).mean() + fake_energy.pow(2).mean())\n",
    "            cdiv_loss = fake_energy.mean() - real_energy.mean()  # Lower energy for real images.\n",
    "            loss = reg_loss + cdiv_loss\n",
    "            \n",
    "            self.log('loss', loss)\n",
    "            self.log('reg_loss', reg_loss)\n",
    "            self.log('cdiv_loss', cdiv_loss)\n",
    "            self.log('real_energy_mean', real_energy.mean())\n",
    "            self.log('fake_energy_mean', fake_energy.mean())\n",
    "        else:\n",
    "            cdiv_loss = fake_energy.mean() - real_energy.mean()  # Lower energy for real images.\n",
    "            loss = cdiv_loss\n",
    "            \n",
    "            self.log('loss', loss)\n",
    "            self.log('cdiv_loss', cdiv_loss)\n",
    "            self.log('real_energy_mean', real_energy.mean())\n",
    "            self.log('fake_energy_mean', fake_energy.mean())\n",
    "        \n",
    "        return loss\n",
    "\n",
    "    def validation_step(self, batch, batch_idx):\n",
    "        \"\"\"\n",
    "        Calculate a validation metric based on contrastive divergence using random fake\n",
    "        images. Assess whether the model correctly assigns lower energy to\n",
    "        real images.\n",
    "        \"\"\"\n",
    "        real_imgs, _ = batch\n",
    "        if self.hparams.method == 'langevin':\n",
    "            fake_imgs = torch.rand_like(real_imgs) * 2 - 1  # Random fake images.\n",
    "        elif self.hparams.method == 'gibbs':\n",
    "            fake_imgs = (torch.rand_like(real_imgs) > 0.5).float() * 2 - 1\n",
    "            \n",
    "        combined = torch.cat([real_imgs, fake_imgs], dim=0)\n",
    "        real_energy, fake_energy = self.cnn(combined).chunk(2, dim=0)\n",
    "        cdiv = fake_energy.mean() - real_energy.mean()\n",
    "        self.log('val_cdiv', cdiv)\n",
    "        self.log('val_fake_energy', fake_energy.mean())\n",
    "        self.log('val_real_energy', real_energy.mean())\n",
    "        "
   ]
  },
  {
   "cell_type": "code",
   "execution_count": 4,
   "metadata": {
    "id": "NWDHCWAfgzjH"
   },
   "outputs": [],
   "source": [
    "class GenerateCallback(pl.Callback):\n",
    "\n",
    "    def __init__(self, batch_size=8, vis_steps=8, num_steps=256, every_n_epochs=5):\n",
    "        super().__init__()\n",
    "        self.batch_size = batch_size         # Number of images to generate\n",
    "        self.vis_steps = vis_steps           # Number of steps within generation to visualize\n",
    "        self.num_steps = num_steps           # Number of steps to take during generation\n",
    "        self.every_n_epochs = every_n_epochs # Only save those images every N epochs (otherwise tensorboard gets quite large), but doesn't seem to be saving now..\n",
    "\n",
    "    def on_epoch_end(self, trainer, pl_module):\n",
    "        # Skip for all other epochs\n",
    "        if trainer.current_epoch % self.every_n_epochs == 0:\n",
    "            # Generate images\n",
    "            imgs_per_step = self.generate_imgs(pl_module)\n",
    "            # Plot and add to tensorboard\n",
    "            for i in range(imgs_per_step.shape[1]):\n",
    "                step_size = self.num_steps // self.vis_steps\n",
    "                imgs_to_plot = imgs_per_step[step_size-1::step_size,i]\n",
    "                grid = torchvision.utils.make_grid(imgs_to_plot, nrow=imgs_to_plot.shape[0], normalize=True, value_range=(-1,1))\n",
    "                trainer.logger.experiment.add_image(f\"generation_{i}\", grid, global_step=trainer.current_epoch)\n",
    "\n",
    "    def generate_imgs(self, pl_module):\n",
    "        pl_module.eval()\n",
    "        if pl_module.hparams.method == 'langevin':\n",
    "            start_imgs = torch.rand((self.batch_size,) + pl_module.hparams[\"img_shape\"]).to(pl_module.device)\n",
    "            start_imgs = start_imgs * 2 - 1\n",
    "            torch.set_grad_enabled(True)  # Tracking gradients for sampling necessary\n",
    "\n",
    "        elif pl_module.hparams.method == 'gibbs':\n",
    "            # assert start_imgs is not None, \"For Gibbs sampling, start_imgs must be provided\" <-- not used now\n",
    "            # images from the training data\n",
    "            # start_imgs = start_imgs[0].to(pl_module.device)  # Get first batch of test images and move to device\n",
    "            start_imgs = torch.rand((self.batch_size,) + pl_module.hparams[\"img_shape\"]).to(pl_module.device)\n",
    "            start_imgs = (start_imgs > 0.5).float() * 2 - 1\n",
    "            \n",
    "\n",
    "        imgs_per_step = Sampler.generate_samples(pl_module.cnn, start_imgs, steps=self.num_steps, return_img_per_step=True, method=pl_module.hparams.method)\n",
    "        # clamp the images to be between -1 and 1\n",
    "        imgs_per_step = imgs_per_step.clamp(-1.0, 1.0)\n",
    "        torch.set_grad_enabled(False)\n",
    "        pl_module.train()\n",
    "        return imgs_per_step"
   ]
  },
  {
   "cell_type": "code",
   "execution_count": 5,
   "metadata": {
    "id": "GV1nvEM3gzjI"
   },
   "outputs": [],
   "source": [
    "class SamplerCallback(pl.Callback):\n",
    "\n",
    "    def __init__(self, num_imgs=32, every_n_epochs=5):\n",
    "        super().__init__()\n",
    "        self.num_imgs = num_imgs             # Number of images to plot\n",
    "        self.every_n_epochs = every_n_epochs # Only save those images every N epochs (otherwise tensorboard gets quite large)\n",
    "\n",
    "    def on_epoch_end(self, trainer, pl_module):\n",
    "        if trainer.current_epoch % self.every_n_epochs == 0:\n",
    "            exmp_imgs = torch.cat(random.choices(pl_module.sampler.examples, k=self.num_imgs), dim=0)\n",
    "            grid = torchvision.utils.make_grid(exmp_imgs, nrow=4, normalize=True, value_range=(-1,1))\n",
    "            trainer.logger.experiment.add_image(\"sampler\", grid, global_step=trainer.current_epoch)"
   ]
  },
  {
   "cell_type": "code",
   "execution_count": 6,
   "metadata": {
    "id": "mtNwoZehgzjI"
   },
   "outputs": [],
   "source": [
    "class OutlierCallback(pl.Callback):\n",
    "\n",
    "    def __init__(self, batch_size=1024):\n",
    "        super().__init__()\n",
    "        self.batch_size = batch_size\n",
    "\n",
    "    def on_epoch_end(self, trainer, pl_module):\n",
    "        with torch.no_grad():\n",
    "            pl_module.eval()\n",
    "            if pl_module.hparams.method == 'langevin':\n",
    "                rand_imgs = torch.rand((self.batch_size,) + pl_module.hparams[\"img_shape\"]).to(pl_module.device)\n",
    "                rand_imgs = rand_imgs * 2 - 1.0\n",
    "            elif pl_module.hparams.method == 'gibbs':\n",
    "                rand_imgs = torch.rand((self.batch_size,) + pl_module.hparams[\"img_shape\"]).to(pl_module.device)\n",
    "                rand_imgs = (rand_imgs > 0.5).float() * 2 - 1.0\n",
    "            rand_out = pl_module.cnn(rand_imgs).mean()\n",
    "            pl_module.train()\n",
    "\n",
    "        trainer.logger.experiment.add_scalar(\"rand_out\", rand_out, global_step=trainer.current_epoch)"
   ]
  },
  {
   "cell_type": "code",
   "execution_count": 7,
   "metadata": {
    "id": "SCPw-_3ngzjI"
   },
   "outputs": [],
   "source": [
    "def train_model(method='langeivn', **kwargs):\n",
    "    # Create a PyTorch Lightning trainer with the generation callback\n",
    "    trainer = pl.Trainer(default_root_dir=os.path.join(CHECKPOINT_PATH, \"USPS\"),\n",
    "                         accelerator=\"gpu\" if str(device).startswith(\"cuda\") or str(device).startswith(\"mps\") else \"cpu\",\n",
    "                         devices=1,\n",
    "                         max_epochs=kwargs['epochs'],\n",
    "                         gradient_clip_val=0.1,\n",
    "                         callbacks=[ModelCheckpoint(save_weights_only=True, mode=\"min\", monitor='val_cdiv'),\n",
    "                                    GenerateCallback(every_n_epochs=5),\n",
    "                                    SamplerCallback(every_n_epochs=5),\n",
    "                                    OutlierCallback(),\n",
    "                                    LearningRateMonitor(\"epoch\")\n",
    "                                   ])\n",
    "    # Check whether pretrained model exists. If yes, load it and skip training\n",
    "    pretrained_filename = os.path.join(CHECKPOINT_PATH, \"USPS.ckpt\")\n",
    "    if os.path.isfile(pretrained_filename):\n",
    "        print(\"Found pretrained model, loading...\")\n",
    "        model = DeepEnergyModel.load_from_checkpoint(pretrained_filename)\n",
    "    else:\n",
    "        pl.seed_everything(42)\n",
    "        model = DeepEnergyModel(method=method, **kwargs)\n",
    "        trainer.fit(model, train_loader, test_loader)\n",
    "        model = DeepEnergyModel.load_from_checkpoint(trainer.checkpoint_callback.best_model_path)\n",
    "    # No testing as we are more interested in other properties\n",
    "    return model"
   ]
  },
  {
   "cell_type": "code",
   "execution_count": 8,
   "metadata": {
    "colab": {
     "base_uri": "https://localhost:8080/",
     "height": 207
    },
    "id": "c4dPpXy6gzjI",
    "outputId": "dbc9f8e3-e521-4cd9-fe15-28446ee092a6"
   },
   "outputs": [
    {
     "data": {
      "image/png": "[encoded data removed]",
      "text/plain": [
       "<Figure size 800x800 with 1 Axes>"
      ]
     },
     "metadata": {},
     "output_type": "display_data"
    }
   ],
   "source": [
    "# reload utils and _binarize\n",
    "# from utils import _binarize\n",
    "import os\n",
    "\n",
    "def _binarize(x):\n",
    "    \"\"\"\n",
    "    Binarize the pixel values to -1 and 1.\n",
    "    \"\"\"\n",
    "    return torch.where(x > 0.5, torch.tensor(1.0), torch.tensor(-1.0))\n",
    "\n",
    "\n",
    "# Load USPS dataset and create dataloaders\n",
    "transform = transforms.Compose([\n",
    "    # transforms.Resize(11),\n",
    "    transforms.ToTensor(),\n",
    "    transforms.Lambda(_binarize)\n",
    "])\n",
    "\n",
    "train_dataset = datasets.USPS(root='USPS/', train=True, download=True, transform=transform)\n",
    "test_dataset = datasets.USPS(root='USPS/', train=False, download=True, transform=transform)\n",
    "\n",
    "train_loader = DataLoader(train_dataset, batch_size=128, shuffle=True, drop_last=True, num_workers=0, pin_memory=True)\n",
    "test_loader = DataLoader(test_dataset, batch_size=256, shuffle=False, drop_last=False, num_workers=0)\n",
    "\n",
    "# check the shape of the data\n",
    "x, _ = next(iter(train_loader))\n",
    "# print(f\"Training data shape: {x.shape}\")\n",
    "\n",
    "# visualize the data\n",
    "# Visualize some examples from the training set\n",
    "plt.figure(figsize=(8,8))\n",
    "grid = torchvision.utils.make_grid(x[:16], nrow=4, normalize=True, value_range=(-1,1), padding=2, pad_value=0.5)\n",
    "plt.imshow(grid.permute(1,2,0))\n",
    "plt.axis('off')\n",
    "plt.show()"
   ]
  },
  {
   "cell_type": "code",
   "execution_count": 9,
   "metadata": {},
   "outputs": [
    {
     "name": "stderr",
     "output_type": "stream",
     "text": [
      "/hpc/dctrl/jy384/miniconda3/envs/myenv/lib/python3.12/site-packages/lightning_fabric/plugins/environments/slurm.py:204: The `srun` command is available on your system but is not used. HINT: If your intention is to run Lightning on SLURM, prepend your python command with `srun` like so: srun python /hpc/dctrl/jy384/miniconda3/envs/myenv/lib/python3.1 ...\n",
      "GPU available: True (cuda), used: True\n",
      "TPU available: False, using: 0 TPU cores\n",
      "HPU available: False, using: 0 HPUs\n",
      "Seed set to 42\n",
      "You are using a CUDA device ('NVIDIA RTX 5000 Ada Generation') that has Tensor Cores. To properly utilize them, you should set `torch.set_float32_matmul_precision('medium' | 'high')` which will trade-off precision for performance. For more details, read https://pytorch.org/docs/stable/generated/torch.set_float32_matmul_precision.html#torch.set_float32_matmul_precision\n",
      "/hpc/dctrl/jy384/miniconda3/envs/myenv/lib/python3.12/site-packages/pytorch_lightning/callbacks/model_checkpoint.py:654: Checkpoint directory saved_models/energy_model_gibbs.ckpt/USPS/lightning_logs/version_25702124/checkpoints exists and is not empty.\n",
      "LOCAL_RANK: 0 - CUDA_VISIBLE_DEVICES: [0]\n",
      "\n",
      "  | Name | Type     | Params | Mode  | In sizes       | Out sizes\n",
      "-----------------------------------------------------------------------\n",
      "0 | cnn  | CNNModel | 60.5 K | train | [1, 1, 16, 16] | [1]      \n",
      "-----------------------------------------------------------------------\n",
      "60.5 K    Trainable params\n",
      "0         Non-trainable params\n",
      "60.5 K    Total params\n",
      "0.242     Total estimated model params size (MB)\n",
      "14        Modules in train mode\n",
      "0         Modules in eval mode\n"
     ]
    },
    {
     "name": "stdout",
     "output_type": "stream",
     "text": [
      "                                                                           "
     ]
    },
    {
     "name": "stderr",
     "output_type": "stream",
     "text": [
      "/hpc/dctrl/jy384/miniconda3/envs/myenv/lib/python3.12/site-packages/pytorch_lightning/trainer/connectors/data_connector.py:425: The 'val_dataloader' does not have many workers which may be a bottleneck. Consider increasing the value of the `num_workers` argument` to `num_workers=12` in the `DataLoader` to improve performance.\n",
      "/hpc/dctrl/jy384/miniconda3/envs/myenv/lib/python3.12/site-packages/pytorch_lightning/trainer/connectors/data_connector.py:425: The 'train_dataloader' does not have many workers which may be a bottleneck. Consider increasing the value of the `num_workers` argument` to `num_workers=12` in the `DataLoader` to improve performance.\n"
     ]
    },
    {
     "name": "stdout",
     "output_type": "stream",
     "text": [
      "Epoch 4: 100%|██████████| 56/56 [03:30<00:00,  0.27it/s, v_num=2.57e+7]"
     ]
    },
    {
     "name": "stderr",
     "output_type": "stream",
     "text": [
      "`Trainer.fit` stopped: `max_epochs=5` reached.\n"
     ]
    },
    {
     "name": "stdout",
     "output_type": "stream",
     "text": [
      "Epoch 4: 100%|██████████| 56/56 [03:30<00:00,  0.27it/s, v_num=2.57e+7]\n"
     ]
    }
   ],
   "source": [
    "model = train_model(img_shape=(1,16,16),\n",
    "                    batch_size=train_loader.batch_size,\n",
    "                    lr=1e-3,\n",
    "                    beta1=0.0,\n",
    "                    alpha=0.01,\n",
    "                    method=method,\n",
    "                    steps=30,\n",
    "                    step_size=None,\n",
    "                    epochs=5\n",
    "                    )"
   ]
  },
  {
   "cell_type": "code",
   "execution_count": 10,
   "metadata": {},
   "outputs": [
    {
     "name": "stderr",
     "output_type": "stream",
     "text": [
      "Seed set to 43\n"
     ]
    }
   ],
   "source": [
    "model.to(device)\n",
    "pl.seed_everything(43)\n",
    "callback = GenerateCallback(batch_size=4, vis_steps=8, num_steps=60)\n",
    "imgs_per_step = callback.generate_imgs(model)\n",
    "imgs_per_step = imgs_per_step.cpu()"
   ]
  },
  {
   "cell_type": "code",
   "execution_count": 11,
   "metadata": {},
   "outputs": [
    {
     "data": {
      "image/png": "[encoded data removed]",
      "text/plain": [
       "<Figure size 800x800 with 1 Axes>"
      ]
     },
     "metadata": {},
     "output_type": "display_data"
    }
   ],
   "source": [
    "# visualize next(iter(test_loader))\n",
    "plt.figure(figsize=(8,8))\n",
    "grid = torchvision.utils.make_grid(next(iter(test_loader))[0][:16], nrow=4, normalize=True, value_range=(-1,1), padding=2, pad_value=0.5)\n",
    "plt.imshow(grid.permute(1,2,0))\n",
    "plt.axis('off')\n",
    "plt.show()\n"
   ]
  },
  {
   "cell_type": "code",
   "execution_count": 12,
   "metadata": {},
   "outputs": [
    {
     "data": {
      "image/png": "[encoded data removed]",
      "text/plain": [
       "<Figure size 800x800 with 1 Axes>"
      ]
     },
     "metadata": {},
     "output_type": "display_data"
    },
    {
     "data": {
      "image/png": "[encoded data removed]",
      "text/plain": [
       "<Figure size 800x800 with 1 Axes>"
      ]
     },
     "metadata": {},
     "output_type": "display_data"
    },
    {
     "data": {
      "image/png": "[encoded data removed]",
      "text/plain": [
       "<Figure size 800x800 with 1 Axes>"
      ]
     },
     "metadata": {},
     "output_type": "display_data"
    },
    {
     "data": {
      "image/png": "[encoded data removed]",
      "text/plain": [
       "<Figure size 800x800 with 1 Axes>"
      ]
     },
     "metadata": {},
     "output_type": "display_data"
    }
   ],
   "source": [
    "# visualize gibbs sampling\n",
    "for i in range(imgs_per_step.shape[1]):\n",
    "    step_size = callback.num_steps // callback.vis_steps\n",
    "    imgs_to_plot = imgs_per_step[step_size-1::step_size,i]\n",
    "    imgs_to_plot = torch.cat([imgs_per_step[0:1,i],imgs_to_plot], dim=0)\n",
    "    grid = torchvision.utils.make_grid(imgs_to_plot, nrow=imgs_to_plot.shape[0], normalize=True, value_range=(-1,1), pad_value=0.5, padding=2)\n",
    "    grid = grid.permute(1, 2, 0)\n",
    "    plt.figure(figsize=(8,8))\n",
    "    plt.imshow(grid)\n",
    "    plt.xlabel(\"Generation iteration\")\n",
    "    plt.xticks([(imgs_to_plot.shape[-1]+2)*(0.5+j) for j in range(len(imgs_to_plot))],\n",
    "               labels=[1] + list(range(step_size,imgs_per_step.shape[0]+1,step_size)))\n",
    "    plt.yticks([])\n",
    "    plt.show()"
   ]
  },
  {
   "cell_type": "code",
   "execution_count": 13,
   "metadata": {},
   "outputs": [
    {
     "data": {
      "image/png": "[encoded data removed]",
      "text/plain": [
       "<Figure size 800x800 with 1 Axes>"
      ]
     },
     "metadata": {},
     "output_type": "display_data"
    }
   ],
   "source": [
    "import os\n",
    "\n",
    "\n",
    "# Load USPS dataset and create dataloaders\n",
    "transform = transforms.Compose([\n",
    "    # transforms.Resize(11),\n",
    "    transforms.ToTensor(),\n",
    "    transforms.Normalize((0.5,), (0.5,)), # normalize between -1 and 1\n",
    "    # transforms.Lambda(_binarize) # langevin does not need binarization\n",
    "])\n",
    "\n",
    "train_dataset = datasets.USPS(root='USPS/', train=True, download=True, transform=transform)\n",
    "test_dataset = datasets.USPS(root='USPS/', train=False, download=True, transform=transform)\n",
    "\n",
    "train_loader = DataLoader(train_dataset, batch_size=128, shuffle=True, drop_last=True, num_workers=0, pin_memory=True)\n",
    "test_loader = DataLoader(test_dataset, batch_size=256, shuffle=False, drop_last=False, num_workers=0)\n",
    "\n",
    "# check the shape of the data\n",
    "x, _ = next(iter(train_loader))\n",
    "# print(f\"Training data shape: {x.shape}\")\n",
    "\n",
    "# visualize the data\n",
    "# Visualize some examples from the training set\n",
    "plt.figure(figsize=(8,8))\n",
    "grid = torchvision.utils.make_grid(x[:16], nrow=4, normalize=True, value_range=(-1,1), padding=2, pad_value=0.5)\n",
    "plt.imshow(grid.permute(1,2,0))\n",
    "plt.axis('off')\n",
    "plt.show()"
   ]
  },
  {
   "cell_type": "code",
   "execution_count": 14,
   "metadata": {},
   "outputs": [
    {
     "name": "stderr",
     "output_type": "stream",
     "text": [
      "/hpc/dctrl/jy384/miniconda3/envs/myenv/lib/python3.12/site-packages/lightning_fabric/plugins/environments/slurm.py:204: The `srun` command is available on your system but is not used. HINT: If your intention is to run Lightning on SLURM, prepend your python command with `srun` like so: srun python /hpc/dctrl/jy384/miniconda3/envs/myenv/lib/python3.1 ...\n",
      "GPU available: True (cuda), used: True\n",
      "TPU available: False, using: 0 TPU cores\n",
      "HPU available: False, using: 0 HPUs\n",
      "Seed set to 42\n",
      "/hpc/dctrl/jy384/miniconda3/envs/myenv/lib/python3.12/site-packages/pytorch_lightning/callbacks/model_checkpoint.py:654: Checkpoint directory saved_models/energy_model_gibbs.ckpt/USPS/lightning_logs/version_25702124/checkpoints exists and is not empty.\n",
      "LOCAL_RANK: 0 - CUDA_VISIBLE_DEVICES: [0]\n",
      "\n",
      "  | Name | Type     | Params | Mode  | In sizes       | Out sizes\n",
      "-----------------------------------------------------------------------\n",
      "0 | cnn  | CNNModel | 60.5 K | train | [1, 1, 16, 16] | [1]      \n",
      "-----------------------------------------------------------------------\n",
      "60.5 K    Trainable params\n",
      "0         Non-trainable params\n",
      "60.5 K    Total params\n",
      "0.242     Total estimated model params size (MB)\n",
      "14        Modules in train mode\n",
      "0         Modules in eval mode\n"
     ]
    },
    {
     "name": "stdout",
     "output_type": "stream",
     "text": [
      "Sanity Checking: |          | 0/? [00:00<?, ?it/s]"
     ]
    },
    {
     "name": "stdout",
     "output_type": "stream",
     "text": [
      "                                                                            "
     ]
    },
    {
     "name": "stderr",
     "output_type": "stream",
     "text": [
      "/hpc/dctrl/jy384/miniconda3/envs/myenv/lib/python3.12/site-packages/pytorch_lightning/trainer/connectors/data_connector.py:425: The 'val_dataloader' does not have many workers which may be a bottleneck. Consider increasing the value of the `num_workers` argument` to `num_workers=12` in the `DataLoader` to improve performance.\n",
      "/hpc/dctrl/jy384/miniconda3/envs/myenv/lib/python3.12/site-packages/pytorch_lightning/trainer/connectors/data_connector.py:425: The 'train_dataloader' does not have many workers which may be a bottleneck. Consider increasing the value of the `num_workers` argument` to `num_workers=12` in the `DataLoader` to improve performance.\n"
     ]
    },
    {
     "name": "stdout",
     "output_type": "stream",
     "text": [
      "Epoch 59: 100%|██████████| 56/56 [00:03<00:00, 16.69it/s, v_num=2.57e+7]"
     ]
    },
    {
     "name": "stderr",
     "output_type": "stream",
     "text": [
      "`Trainer.fit` stopped: `max_epochs=60` reached.\n"
     ]
    },
    {
     "name": "stdout",
     "output_type": "stream",
     "text": [
      "Epoch 59: 100%|██████████| 56/56 [00:03<00:00, 16.68it/s, v_num=2.57e+7]\n"
     ]
    }
   ],
   "source": [
    "model_langevin = train_model(img_shape=(1,16,16),\n",
    "                    batch_size=train_loader.batch_size,\n",
    "                    lr=1e-4,\n",
    "                    beta1=0.0,\n",
    "                    alpha=0.01,\n",
    "                    method=\"langevin\",\n",
    "                    steps=60,\n",
    "                    step_size=10,\n",
    "                    epochs=60\n",
    "                    )"
   ]
  },
  {
   "cell_type": "code",
   "execution_count": 15,
   "metadata": {},
   "outputs": [
    {
     "name": "stderr",
     "output_type": "stream",
     "text": [
      "Seed set to 43\n"
     ]
    }
   ],
   "source": [
    "model_langevin.to(device)\n",
    "pl.seed_everything(43)\n",
    "callback = GenerateCallback(batch_size=4, vis_steps=8, num_steps=256)\n",
    "imgs_per_step_langevin = callback.generate_imgs(model_langevin)\n",
    "imgs_per_step_langevin = imgs_per_step_langevin.cpu()"
   ]
  },
  {
   "cell_type": "code",
   "execution_count": 16,
   "metadata": {},
   "outputs": [
    {
     "data": {
      "image/png": "[encoded data removed]",
      "text/plain": [
       "<Figure size 800x800 with 1 Axes>"
      ]
     },
     "metadata": {},
     "output_type": "display_data"
    }
   ],
   "source": [
    "# visualize first step of langevin sampling\n",
    "plt.figure(figsize=(8,8))\n",
    "grid = torchvision.utils.make_grid(imgs_per_step_langevin[0][:16], nrow=4, normalize=True, value_range=(-1,1), padding=2, pad_value=0.5)\n",
    "plt.imshow(grid.permute(1,2,0))\n",
    "plt.axis('off')\n",
    "plt.show()\n"
   ]
  },
  {
   "cell_type": "code",
   "execution_count": 22,
   "metadata": {},
   "outputs": [
    {
     "data": {
      "image/png": "[encoded data removed]",
      "text/plain": [
       "<Figure size 800x800 with 1 Axes>"
      ]
     },
     "metadata": {},
     "output_type": "display_data"
    },
    {
     "data": {
      "image/png": "[encoded data removed]",
      "text/plain": [
       "<Figure size 800x800 with 1 Axes>"
      ]
     },
     "metadata": {},
     "output_type": "display_data"
    },
    {
     "data": {
      "image/png": "[encoded data removed]",
      "text/plain": [
       "<Figure size 800x800 with 1 Axes>"
      ]
     },
     "metadata": {},
     "output_type": "display_data"
    },
    {
     "data": {
      "image/png": "[encoded data removed]",
      "text/plain": [
       "<Figure size 800x800 with 1 Axes>"
      ]
     },
     "metadata": {},
     "output_type": "display_data"
    }
   ],
   "source": [
    "# visualize langevin sampling\n",
    "for i in range(imgs_per_step_langevin.shape[1]):\n",
    "    step_size = callback.num_steps // callback.vis_steps\n",
    "    imgs_to_plot = imgs_per_step_langevin[step_size-1::step_size,i]\n",
    "    imgs_to_plot = torch.cat([imgs_per_step_langevin[0:1,i],imgs_to_plot], dim=0)\n",
    "    grid = torchvision.utils.make_grid(imgs_to_plot, nrow=imgs_to_plot.shape[0], normalize=True, value_range=(-1,1), pad_value=0.5, padding=2)\n",
    "    grid = grid.permute(1, 2, 0)\n",
    "    plt.figure(figsize=(8,8))\n",
    "    plt.imshow(grid)\n",
    "    plt.xlabel(\"Generation iteration\")\n",
    "    plt.xticks([(imgs_to_plot.shape[-1]+2)*(0.5+j) for j in range(len(imgs_to_plot))],\n",
    "               labels=[1] + list(range(step_size,imgs_per_step_langevin.shape[0]+1,step_size)))\n",
    "    plt.yticks([])\n",
    "    plt.show()\n",
    "    "
   ]
  }
 ],
 "metadata": {
  "accelerator": "GPU",
  "colab": {
   "name": "HW1_Template_ECE590_Spring2022.ipynb",
   "provenance": []
  },
  "kernelspec": {
   "display_name": "myenv",
   "language": "python",
   "name": "python3"
  },
  "language_info": {
   "codemirror_mode": {
    "name": "ipython",
    "version": 3
   },
   "file_extension": ".py",
   "mimetype": "text/x-python",
   "name": "python",
   "nbconvert_exporter": "python",
   "pygments_lexer": "ipython3",
   "version": "3.12.2"
  }
 },
 "nbformat": 4,
 "nbformat_minor": 0
}
